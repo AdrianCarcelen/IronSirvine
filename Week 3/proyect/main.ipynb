{
 "cells": [
  {
   "cell_type": "code",
   "execution_count": 2,
   "metadata": {},
   "outputs": [],
   "source": [
    "import pandas as pd\n",
    "from bs4 import BeautifulSoup\n",
    "import requests\n",
    "\n",
    "f = open('Finetwork KOI - Equipo - Superliga.html', 'r', encoding=\"UTF8\")\n",
    "html = f.read()\n",
    "f.close()"
   ]
  },
  {
   "cell_type": "markdown",
   "metadata": {},
   "source": [
    "# First of all get the data from our webside"
   ]
  },
  {
   "cell_type": "code",
   "execution_count": 3,
   "metadata": {},
   "outputs": [],
   "source": [
    "soup = BeautifulSoup(html,'html')"
   ]
  },
  {
   "cell_type": "code",
   "execution_count": 4,
   "metadata": {},
   "outputs": [
    {
     "data": {
      "text/plain": [
       "[<div class=\"players-container-inner\"> <a class=\"player-card\" href=\"https://superliga.lvp.global/jugador/sinmivak\"> <!-- PLAYER --><div class=\"squad-player-container\"><div class=\"upper-player-card\"><div class=\"photo\"> <img alt=\"\" class=\"player-image\" src=\"Finetwork%20KOI%20-%20Equipo%20-%20Superliga_files/6467481d75e8c816090991.x2.png\"/></div><div class=\"upper-player-info-container\"><div class=\"flag-image-container\"> <img alt=\"Player flag nationality\" class=\"flag-image\" src=\"Finetwork%20KOI%20-%20Equipo%20-%20Superliga_files/PL.png\"/></div><h3><span class=\"player-nickname\">Sinmivak</span></h3><h4><span class=\"player-name\">Jakub Rucki</span></h4><h4><span class=\"player-position\">TOP</span></h4></div></div><div class=\"bottom-player-card\"><div class=\"stats-container\"> <img alt=\"Best player champion image.\" src=\"Finetwork%20KOI%20-%20Equipo%20-%20Superliga_files/Renekton.png\" title=\"Renekton\"/> <img alt=\"Best player champion image.\" src=\"Finetwork%20KOI%20-%20Equipo%20-%20Superliga_files/Sion.png\" title=\"Sion\"/> <img alt=\"Best player champion image.\" src=\"Finetwork%20KOI%20-%20Equipo%20-%20Superliga_files/KSante.png\" title=\"K'Sante\"/></div><div class=\"kda-container\"> <span class=\"temporada\">TEMPORADA</span> <span class=\"stats-player\">45/35/111 - 4.5 KDA</span></div></div></div> </a> <a class=\"player-card\" href=\"https://superliga.lvp.global/jugador/koldo\"> <!-- PLAYER --><div class=\"squad-player-container\"><div class=\"upper-player-card\"><div class=\"photo\"> <img alt=\"\" class=\"player-image\" src=\"Finetwork%20KOI%20-%20Equipo%20-%20Superliga_files/646748324b688685918612.x2.png\"/></div><div class=\"upper-player-info-container\"><div class=\"flag-image-container\"> <img alt=\"Player flag nationality\" class=\"flag-image\" src=\"Finetwork%20KOI%20-%20Equipo%20-%20Superliga_files/ES.png\"/></div><h3><span class=\"player-nickname\">Koldo</span></h3><h4><span class=\"player-name\">Luis Pérez</span></h4><h4><span class=\"player-position\">JUNGLER</span></h4></div></div><div class=\"bottom-player-card\"><div class=\"stats-container\"> <img alt=\"Best player champion image.\" src=\"Finetwork%20KOI%20-%20Equipo%20-%20Superliga_files/Sejuani.png\" title=\"Sejuani\"/> <img alt=\"Best player champion image.\" src=\"Finetwork%20KOI%20-%20Equipo%20-%20Superliga_files/Maokai.png\" title=\"Maokai\"/> <img alt=\"Best player champion image.\" src=\"Finetwork%20KOI%20-%20Equipo%20-%20Superliga_files/Gragas.png\" title=\"Gragas\"/></div><div class=\"kda-container\"> <span class=\"temporada\">TEMPORADA</span> <span class=\"stats-player\">39/46/185 - 4.9 KDA</span></div></div></div> </a> <a class=\"player-card\" href=\"https://superliga.lvp.global/jugador/baca\"> <!-- PLAYER --><div class=\"squad-player-container\"><div class=\"upper-player-card\"><div class=\"photo\"> <img alt=\"\" class=\"player-image\" src=\"Finetwork%20KOI%20-%20Equipo%20-%20Superliga_files/6467484808944044722721.x2.png\"/></div><div class=\"upper-player-info-container\"><div class=\"flag-image-container\"> <img alt=\"Player flag nationality\" class=\"flag-image\" src=\"Finetwork%20KOI%20-%20Equipo%20-%20Superliga_files/PT.png\"/></div><h3><span class=\"player-nickname\">Baca</span></h3><h4><span class=\"player-name\">João Novais</span></h4><h4><span class=\"player-position\">MID</span></h4></div></div><div class=\"bottom-player-card\"><div class=\"stats-container\"> <img alt=\"Best player champion image.\" src=\"Finetwork%20KOI%20-%20Equipo%20-%20Superliga_files/Ahri.png\" title=\"Ahri\"/> <img alt=\"Best player champion image.\" src=\"Finetwork%20KOI%20-%20Equipo%20-%20Superliga_files/Syndra.png\" title=\"Syndra\"/> <img alt=\"Best player champion image.\" src=\"Finetwork%20KOI%20-%20Equipo%20-%20Superliga_files/Neeko.png\" title=\"Neeko\"/></div><div class=\"kda-container\"> <span class=\"temporada\">TEMPORADA</span> <span class=\"stats-player\">87/50/131 - 4.4 KDA</span></div></div></div> </a> <a class=\"player-card\" href=\"https://superliga.lvp.global/jugador/jopa\"> <!-- PLAYER --><div class=\"squad-player-container\"><div class=\"upper-player-card\"><div class=\"photo\"> <img alt=\"\" class=\"player-image\" src=\"Finetwork%20KOI%20-%20Equipo%20-%20Superliga_files/6467485eb2e72128223883.x2.png\"/></div><div class=\"upper-player-info-container\"><div class=\"flag-image-container\"> <img alt=\"Player flag nationality\" class=\"flag-image\" src=\"Finetwork%20KOI%20-%20Equipo%20-%20Superliga_files/HR.png\"/></div><h3><span class=\"player-nickname\">Jopa</span></h3><h4><span class=\"player-name\">Josip Cancar</span></h4><h4><span class=\"player-position\">ADC</span></h4></div></div><div class=\"bottom-player-card\"><div class=\"stats-container\"> <img alt=\"Best player champion image.\" src=\"Finetwork%20KOI%20-%20Equipo%20-%20Superliga_files/Xayah.png\" title=\"Xayah\"/> <img alt=\"Best player champion image.\" src=\"Finetwork%20KOI%20-%20Equipo%20-%20Superliga_files/Zeri.png\" title=\"Zeri\"/> <img alt=\"Best player champion image.\" src=\"Finetwork%20KOI%20-%20Equipo%20-%20Superliga_files/Jinx.png\" title=\"Jinx\"/></div><div class=\"kda-container\"> <span class=\"temporada\">TEMPORADA</span> <span class=\"stats-player\">111/58/113 - 3.9 KDA</span></div></div></div> </a> <a class=\"player-card\" href=\"https://superliga.lvp.global/jugador/stend\"> <!-- PLAYER --><div class=\"squad-player-container\"><div class=\"upper-player-card\"><div class=\"photo\"> <img alt=\"\" class=\"player-image\" src=\"Finetwork%20KOI%20-%20Equipo%20-%20Superliga_files/6467487450fa9934465114.x2.png\"/></div><div class=\"upper-player-info-container\"><div class=\"flag-image-container\"> <img alt=\"Player flag nationality\" class=\"flag-image\" src=\"Finetwork%20KOI%20-%20Equipo%20-%20Superliga_files/FR.png\"/></div><h3><span class=\"player-nickname\">Stend</span></h3><h4><span class=\"player-name\">Paul Lardin</span></h4><h4><span class=\"player-position\">SUPPORT</span></h4></div></div><div class=\"bottom-player-card\"><div class=\"stats-container\"> <img alt=\"Best player champion image.\" src=\"Finetwork%20KOI%20-%20Equipo%20-%20Superliga_files/Alistar.png\" title=\"Alistar\"/> <img alt=\"Best player champion image.\" src=\"Finetwork%20KOI%20-%20Equipo%20-%20Superliga_files/Rakan.png\" title=\"Rakan\"/> <img alt=\"Best player champion image.\" src=\"Finetwork%20KOI%20-%20Equipo%20-%20Superliga_files/Yuumi.png\" title=\"Yuumi\"/></div><div class=\"kda-container\"> <span class=\"temporada\">TEMPORADA</span> <span class=\"stats-player\">22/53/218 - 4.5 KDA</span></div></div></div> </a> <a class=\"player-card\" href=\"https://superliga.lvp.global/jugador/aziado\"> <!-- PLAYER --><div class=\"squad-player-container\"><div class=\"upper-player-card\"><div class=\"photo\"> <img alt=\"\" class=\"player-image\" src=\"Finetwork%20KOI%20-%20Equipo%20-%20Superliga_files/6467489e5fc67958826700.x2.png\"/></div><div class=\"upper-player-info-container\"><div class=\"flag-image-container\"> <img alt=\"Player flag nationality\" class=\"flag-image\" src=\"Finetwork%20KOI%20-%20Equipo%20-%20Superliga_files/PT.png\"/></div><h3><span class=\"player-nickname\">Aziado</span></h3><h4><span class=\"player-name\">Tiago Correia</span></h4><h4><span class=\"player-position\">TOP</span></h4></div></div><div class=\"bottom-player-card\"><div class=\"stats-container\"></div><div class=\"kda-container\"> <span class=\"temporada\">TEMPORADA</span> <span class=\"stats-player\">0/0/0 - 0 KDA</span></div></div></div> </a> <a class=\"player-card\" href=\"https://superliga.lvp.global/jugador/lucker\"> <!-- PLAYER --><div class=\"squad-player-container\"><div class=\"upper-player-card\"><div class=\"photo\"> <img alt=\"\" class=\"player-image\" src=\"Finetwork%20KOI%20-%20Equipo%20-%20Superliga_files/63c51f03996cf027272600.x2.png\"/></div><div class=\"upper-player-info-container\"><div class=\"flag-image-container\"> <img alt=\"Player flag nationality\" class=\"flag-image\" src=\"Finetwork%20KOI%20-%20Equipo%20-%20Superliga_files/PL.png\"/></div><h3><span class=\"player-nickname\">Lucker</span></h3><h4><span class=\"player-name\">Damian Konefał</span></h4><h4><span class=\"player-position\">ADC</span></h4></div></div><div class=\"bottom-player-card\"><div class=\"stats-container\"></div><div class=\"kda-container\"> <span class=\"temporada\">TEMPORADA</span> <span class=\"stats-player\">0/0/0 - 0 KDA</span></div></div></div> </a> <a class=\"player-card\" href=\"https://superliga.lvp.global/jugador/seaz\"> <!-- PLAYER --><div class=\"squad-player-container\"><div class=\"upper-player-card\"><div class=\"photo\"> <img alt=\"\" class=\"player-image\" src=\"Finetwork%20KOI%20-%20Equipo%20-%20Superliga_files/63c51f18ca9dd339801399.x2.png\"/></div><div class=\"upper-player-info-container\"><div class=\"flag-image-container\"> <img alt=\"Player flag nationality\" class=\"flag-image\" src=\"Finetwork%20KOI%20-%20Equipo%20-%20Superliga_files/AT.png\"/></div><h3><span class=\"player-nickname\">Seaz</span></h3><h4><span class=\"player-name\">Daniel Binderhofer</span></h4><h4><span class=\"player-position\">SUPPORT</span></h4></div></div><div class=\"bottom-player-card\"><div class=\"stats-container\"></div><div class=\"kda-container\"> <span class=\"temporada\">TEMPORADA</span> <span class=\"stats-player\">0/0/0 - 0 KDA</span></div></div></div> </a> <a class=\"player-card\" href=\"https://superliga.lvp.global/jugador/blueknight\"> <!-- PLAYER --><div class=\"squad-player-container\"><div class=\"upper-player-card\"><div class=\"upper-player-info-container\"><div class=\"flag-image-container\"> <img alt=\"Player flag nationality\" class=\"flag-image\" src=\"Finetwork%20KOI%20-%20Equipo%20-%20Superliga_files/DE.png\"/></div><h3><span class=\"player-nickname\">Blueknight</span></h3><h4><span class=\"player-name\">Nico Jannet</span></h4><h4><span class=\"player-position\">SUPPORT</span></h4></div></div><div class=\"bottom-player-card\"><div class=\"stats-container\"></div><div class=\"kda-container\"> <span class=\"temporada\">TEMPORADA</span> <span class=\"stats-player\">0/0/0 - 0 KDA</span></div></div></div> </a> <a class=\"player-card\" href=\"https://superliga.lvp.global/jugador/crusher\"> <!-- PLAYER --><div class=\"squad-player-container\"><div class=\"upper-player-card coach\"><div class=\"photo\"> <img alt=\"\" class=\"player-image\" src=\"Finetwork%20KOI%20-%20Equipo%20-%20Superliga_files/646747fd0608e323770709.x2.png\"/></div><div class=\"upper-player-info-container\"><div class=\"flag-image-container\"> <img alt=\"Player flag nationality\" class=\"flag-image\" src=\"Finetwork%20KOI%20-%20Equipo%20-%20Superliga_files/PT.png\"/></div><h3><span class=\"player-nickname\">Crusher</span></h3><h4><span class=\"player-name\">Gonçalo Brandão</span></h4><h4><span class=\"player-position\">COACH</span></h4></div></div></div> </a><div class=\"placeholder team-placeholder\"> PLACEHOLDER</div><div class=\"placeholder team-placeholder\"> PLACEHOLDER</div></div>]"
      ]
     },
     "metadata": {},
     "output_type": "display_data"
    }
   ],
   "source": [
    "display(soup.find_all('div',{'class' : 'players-container-inner'}))\n",
    "all_players = soup.find_all('a',{'class' : 'player-card'})"
   ]
  },
  {
   "cell_type": "code",
   "execution_count": 5,
   "metadata": {},
   "outputs": [
    {
     "name": "stdout",
     "output_type": "stream",
     "text": [
      "   SinmivakJakub RuckiTOP    TEMPORADA 45/35/111 - 4.5 KDA \n",
      "   KoldoLuis PérezJUNGLER    TEMPORADA 39/46/185 - 4.9 KDA \n",
      "   BacaJoão NovaisMID    TEMPORADA 87/50/131 - 4.4 KDA \n",
      "   JopaJosip CancarADC    TEMPORADA 111/58/113 - 3.9 KDA \n",
      "   StendPaul LardinSUPPORT    TEMPORADA 22/53/218 - 4.5 KDA \n"
     ]
    }
   ],
   "source": [
    "for player in all_players[:5]:\n",
    "    print(player.text)"
   ]
  }
 ],
 "metadata": {
  "kernelspec": {
   "display_name": "Python 3",
   "language": "python",
   "name": "python3"
  },
  "language_info": {
   "codemirror_mode": {
    "name": "ipython",
    "version": 3
   },
   "file_extension": ".py",
   "mimetype": "text/x-python",
   "name": "python",
   "nbconvert_exporter": "python",
   "pygments_lexer": "ipython3",
   "version": "3.11.4"
  },
  "orig_nbformat": 4
 },
 "nbformat": 4,
 "nbformat_minor": 2
}

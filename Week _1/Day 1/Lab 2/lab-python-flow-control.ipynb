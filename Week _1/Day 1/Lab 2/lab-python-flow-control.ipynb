{
 "cells": [
  {
   "cell_type": "markdown",
   "id": "d3bfc191-8885-42ee-b0a0-bbab867c6f9f",
   "metadata": {
    "tags": []
   },
   "source": [
    "# Lab | Flow Control"
   ]
  },
  {
   "cell_type": "markdown",
   "id": "64f9e7ed-fa58-4e17-b34d-4fd8146f5e23",
   "metadata": {},
   "source": [
    "## Exercise: Managing Customer Orders Optimized\n",
    "\n",
    "In the last lab, you were starting an online store that sells various products. To ensure smooth operations, you developed a program that manages customer orders and inventory.\n",
    "\n",
    "You did so without using flow control. Let's go a step further and improve this code.\n",
    "\n",
    "Follow the steps below to complete the exercise:\n",
    "\n",
    "1. Look at your code from the lab data structures, and improve repeated code with loops.\n",
    "\n",
    "2. Instead of asking the user to input the name of three products that a customer wants to order, do the following:\n",
    "    \n",
    "    a. Prompt the user to enter the name of a product that a customer wants to order.\n",
    "    \n",
    "    b. Add the product name to the \"customer_orders\" set.\n",
    "    \n",
    "    c. Ask the user if they want to add another product (yes/no).\n",
    "    \n",
    "    d. Continue the loop until the user does not want to add another product.\n",
    "\n",
    "3. Instead of updating the inventory by subtracting 1 from the quantity of each product, only do it for  the products that were ordered (those in \"customer_orders\")."
   ]
  },
  {
   "cell_type": "markdown",
   "id": "aafa454a",
   "metadata": {},
   "source": [
    "1. Look at your code from the lab data structures, and improve repeated code with loops."
   ]
  },
  {
   "cell_type": "code",
   "execution_count": 9,
   "id": "c2b25091",
   "metadata": {},
   "outputs": [],
   "source": [
    "dict_inventory = {\n",
    "    \"t-shirt\": 2, \n",
    "    \"mug\": 3, \n",
    "    \"hat\": 2, \n",
    "    \"book\":5, \n",
    "    \"keychain\": 5\n",
    "}\n",
    "\n",
    "costumer_continues = True\n",
    "\n"
   ]
  },
  {
   "cell_type": "markdown",
   "id": "5a7b0200",
   "metadata": {},
   "source": [
    "2. Instead of asking the user to input the name of three products that a customer wants to order, do the following:\n",
    "    \n",
    "    a. Prompt the user to enter the name of a product that a customer wants to order.\n",
    "    \n",
    "    b. Add the product name to the \"customer_orders\" set.\n",
    "    \n",
    "    c. Ask the user if they want to add another product (yes/no).\n",
    "    \n",
    "    d. Continue the loop until the user does not want to add another product."
   ]
  },
  {
   "cell_type": "code",
   "execution_count": 10,
   "id": "b4c1d1c3",
   "metadata": {},
   "outputs": [
    {
     "name": "stdout",
     "output_type": "stream",
     "text": [
      "input product name\n",
      "quantity for 4444444\n",
      "continue (yes/no)\n",
      "{'t-shirt': 2, 'mug': 3, 'hat': 2, 'book': 5, 'keychain': 5, '4444444': 3}\n"
     ]
    }
   ],
   "source": [
    "while costumer_continues:\n",
    "    print('input product name')\n",
    "    product = input()\n",
    "    print('quantity for', product)\n",
    "    quantity = int(input())\n",
    "    dict_inventory[product] = quantity\n",
    "    print('continue (yes/no)')\n",
    "    costumer_continues_input = input()\n",
    "    costumer_continues = costumer_continues_input.lower().strip() =='yes'\n",
    "\n",
    "print(dict_inventory)"
   ]
  },
  {
   "cell_type": "markdown",
   "id": "35db3d34",
   "metadata": {},
   "source": [
    "3. Instead of updating the inventory by subtracting 1 from the quantity of each product, only do it for  the products that were ordered (those in \"customer_orders\")."
   ]
  },
  {
   "cell_type": "code",
   "execution_count": 7,
   "id": "7b18b568",
   "metadata": {},
   "outputs": [
    {
     "name": "stdout",
     "output_type": "stream",
     "text": [
      "This product is not in the list\n",
      "This product is not in the list\n",
      "This product is on the list!\n",
      "This product is not in the list\n",
      "This product is not in the list\n"
     ]
    }
   ],
   "source": []
  }
 ],
 "metadata": {
  "kernelspec": {
   "display_name": "Python 3 (ipykernel)",
   "language": "python",
   "name": "python3"
  },
  "language_info": {
   "codemirror_mode": {
    "name": "ipython",
    "version": 3
   },
   "file_extension": ".py",
   "mimetype": "text/x-python",
   "name": "python",
   "nbconvert_exporter": "python",
   "pygments_lexer": "ipython3",
   "version": "3.8.8"
  }
 },
 "nbformat": 4,
 "nbformat_minor": 5
}

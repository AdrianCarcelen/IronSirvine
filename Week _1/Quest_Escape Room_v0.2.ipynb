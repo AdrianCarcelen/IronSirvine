{
 "cells": [
  {
   "attachments": {},
   "cell_type": "markdown",
   "metadata": {},
   "source": [
    "# VARIABLES\n",
    "### Here we put all the variables used in the Game"
   ]
  },
  {
   "cell_type": "code",
   "execution_count": 1,
   "metadata": {},
   "outputs": [
    {
     "name": "stdout",
     "output_type": "stream",
     "text": [
      "{'Game Room': {'Couch': 'Old Comic Book', 'Piano': 'Key to Door A', 'Door A': \"It's a door.\"}, 'Bedroom 1': {'Queen Bed': 'Key to Door B'}, 'Bedroom 2': {'Double Bed': 'Key to Door C', 'Dresser': 'Key to Door D'}, 'Living Room': {'Dinning Table': 'Rotten bannana'}}/n{'Door A': 'Key to Door A', 'Door B': 'Key to Door B', 'Door C': 'Key to Door C', 'Door D': 'Key to Door D'}/n{'Game Room': {'Door A': 'Bedroom 1'}, 'Bedroom 1': {'Door A': 'Game Room', 'Door B': 'Bedroom 2', 'Door C': 'Living Room'}, 'Bedroom 2': {'Door B': 'Bedroom 1'}, 'Living Room': {'Door C': 'Bedroom 1', 'Door D': 'You Win!'}}\n",
      "set()\n"
     ]
    }
   ],
   "source": [
    "# in what room is the player\n",
    "player_position = 'Game Room'\n",
    "# Inventory of the player, where we put the keys\n",
    "set_inventory = set()\n",
    "# Switch to choose if player explore or examine the objects in the room\n",
    "tuple_actions = ('examine', 'explore')\n",
    "# Dictionary with all hidden objects player can find\n",
    "dict_examine = {\n",
    "    'Game Room': {\n",
    "        'Couch': 'Old Comic Book', \n",
    "        'Piano': 'Key to Door A',\n",
    "        'Door A': \"It's a door.\"\n",
    "        },\n",
    "    'Bedroom 1': {\n",
    "        'Queen Bed': 'Key to Door B'\n",
    "        },\n",
    "    'Bedroom 2': {\n",
    "        'Double Bed': 'Key to Door C', \n",
    "        'Dresser': 'Key to Door D'\n",
    "        },\n",
    "    'Living Room': {\n",
    "        'Dinning Table': 'Rotten bannana'\n",
    "    }\n",
    "}\n",
    "# Dictionary we use to make a comparison with the player inventory\n",
    "dict_explore = {\n",
    "    'Door A': 'Key to Door A',\n",
    "    'Door B': 'Key to Door B',\n",
    "    'Door C': 'Key to Door C',\n",
    "    'Door D': 'Key to Door D'\n",
    "}\n",
    "# Dictionary listing the accesses the player can have depending on the room he is in.\n",
    "dict_doors = {\n",
    "    'Game Room': {\n",
    "        'Door A': 'Bedroom 1'\n",
    "        },\n",
    "    'Bedroom 1': {\n",
    "       'Door A': 'Game Room',\n",
    "       'Door B': 'Bedroom 2',\n",
    "       'Door C': 'Living Room'\n",
    "        },\n",
    "    'Bedroom 2': {\n",
    "        'Door B': 'Bedroom 1'\n",
    "        },\n",
    "    'Living Room': {\n",
    "        'Door C': 'Bedroom 1',\n",
    "        'Door D': 'You Win!'\n",
    "    }\n",
    "}\n",
    "\n",
    "start_text = \"\"\"Game Room : What a strange place, an old piano covered in dust is in the middle of the room.\\n\n",
    "    There's something about this place that gives you goosepumps. You need to get out there as fast as you\\n\n",
    "    can!\"\"\",\n",
    "#Text we read intering a room (create some suspens and tension to add some experience)\n",
    "dict_welcome_text = {\n",
    "    'Game Room': \"\"\"Game Room : What a strange place, an old piano covered in dust is in the middle of the room.\\n\n",
    "    There's something about this place that gives you goosepumps. You need to get out there as fast as you can!\"\"\",\n",
    "    'Bedroom 1': \"Bedroom 1 : \",\n",
    "    'Bedroom 2': \"Bedroom 2 : \",\n",
    "    'Living Room': \"Living Room\"\n",
    "}\n",
    "\n",
    "end_text = ''\n",
    "\n",
    "#Add dict whith the custom text when we enter a room\n",
    "#Add dict whith the custom2 text when we enter a room\n",
    "#Add dict whith the custom3 text when we enter a room (variation)\n",
    "\n",
    "print(f\"{dict_examine}/n{dict_explore}/n{dict_doors}\")\n",
    "# Just a basic test to show you how it works.\n",
    "# We just need to compare IF the 'item key' is in the player's inventory\n",
    "if dict_explore['Door C'] in set_inventory: \n",
    "    print(\"yeah\")\n",
    "print(set_inventory)"
   ]
  },
  {
   "attachments": {},
   "cell_type": "markdown",
   "metadata": {},
   "source": [
    "# GAME FUNCTIONS\n",
    "### Here we pu all the functions needed to run the Game Smoothly"
   ]
  },
  {
   "cell_type": "code",
   "execution_count": 2,
   "metadata": {},
   "outputs": [
    {
     "name": "stdout",
     "output_type": "stream",
     "text": [
      "set()\n",
      "Bedroom 1\n"
     ]
    }
   ],
   "source": [
    "# Fonction to check the room we're in\n",
    "\n",
    "#Text to print OK\n",
    "def print_text(text):\n",
    "    print(text, sep=\"/n\")\n",
    "\n",
    "#Lower all Characters\n",
    "def lower_char(words_to_lower):\n",
    "    lowered_list = list()\n",
    "    for word in words_to_lower:\n",
    "        lowered_list.append(word.lower())\n",
    "    return lowered_list\n",
    "\n",
    "#Type function OK\n",
    "def input_type(list_to_show: list)->str:\n",
    "    print(\"\"\"Type \"ONE\" of theses words : \"\"\", *list_to_show)\n",
    "    typed_text = input(list_to_show)\n",
    "    return typed_text\n",
    "\n",
    "#Check input\n",
    "def check_input(input_typed, wanted_type):\n",
    "    check_presence =  input_typed in wanted_type\n",
    "    return check_presence\n",
    "\n",
    "#Open door check function\n",
    "def check_access(door_to_open, inventory):\n",
    "    \"\"\"This function checks if the Player has access to the next room/\n",
    "    by checking the presence of the 'Key' corresponding 'Door'/\n",
    "    Ultimately it will update the player_position.\n",
    "\n",
    "    Args:\n",
    "        door_to_open (_type_): _description_\n",
    "        inventory (_type_): _description_\n",
    "    \"\"\"\n",
    "    global player_position\n",
    "    if dict_explore[door_to_open] in inventory:\n",
    "            player_position = dict_doors[player_position][door_to_open]\n",
    "    else:\n",
    "        print(\"Hey! you don't have the key to access that room.\")\n",
    "\n",
    "def select_door(player_chose):\n",
    "    global set_inventory\n",
    "    global player_position\n",
    "    if dict_examine[player_position][player_chose] == \"It's a door.\":\n",
    "        check_access(player_chose, set_inventory)\n",
    "    else:\n",
    "        return player_chose\n",
    "\n",
    "def find_object(object_to_check, inventory):\n",
    "    global dict_examine\n",
    "    for item in dict_examine[player_position].keys():\n",
    "        if object_to_check != item:\n",
    "            test = dict_examine[player_position][object_to_check]\n",
    "            return inventory.add(test)\n",
    "        else:\n",
    "            return print(\"Oh, I think there's nothing here.\")\n",
    "\n",
    "def action(dict_to_parse):\n",
    "    for i in range(len(dict_to_parse)):\n",
    "        print(\"Where do you wanna go?\")\n",
    "        print(f\"\\n\\t{dict_to_parse}\")\n",
    "\n",
    "print(set_inventory)\n",
    "print(dict_doors[player_position]['Door A'])"
   ]
  },
  {
   "attachments": {},
   "cell_type": "markdown",
   "metadata": {},
   "source": [
    "# GAME MECANICS\n",
    "### Here we put the game logic by calling the Game Functions"
   ]
  },
  {
   "cell_type": "code",
   "execution_count": 3,
   "metadata": {},
   "outputs": [
    {
     "name": "stdout",
     "output_type": "stream",
     "text": [
      "Hey fellow adventurer type what you want to do :  ('examine', 'explore')\n",
      "Game Room : What a strange place, an old piano covered in dust is in the middle of the room.\n",
      "\n",
      "    There's something about this place that gives you goosepumps. You need to get out there as fast as you can!\n",
      "Type \"ONE\" of theses words :  examine explore\n",
      "So.. feeling lucky?In the  Game Room  you see  dict_keys(['Couch', 'Piano', 'Door A'])\n",
      "Type \"ONE\" of theses words :  Couch Piano Door A\n",
      "Key to Door A  added to your inventory.\n",
      "Game Room : What a strange place, an old piano covered in dust is in the middle of the room.\n",
      "\n",
      "    There's something about this place that gives you goosepumps. You need to get out there as fast as you can!\n",
      "Type \"ONE\" of theses words :  examine explore\n",
      "Your will to get tou the Game Room was to strong, you needed to see more!\n",
      "Witch one do you want to open : Door A\n",
      "Type \"ONE\" of theses words :  Door A\n",
      "You open the Door A and enter the Bedroom 1.\n",
      "Bedroom 1 : \n",
      "Type \"ONE\" of theses words :  examine explore\n",
      "Your will to get tou the Bedroom 1 was to strong, you needed to see more!\n",
      "Witch one do you want to open : Door A Door B Door C\n",
      "Type \"ONE\" of theses words :  Door A Door B Door C\n",
      "You open the Door A and enter the Game Room.\n",
      "Game Room : What a strange place, an old piano covered in dust is in the middle of the room.\n",
      "\n",
      "    There's something about this place that gives you goosepumps. You need to get out there as fast as you can!\n",
      "Type \"ONE\" of theses words :  examine explore\n"
     ]
    },
    {
     "ename": "KeyboardInterrupt",
     "evalue": "Interrupted by user",
     "output_type": "error",
     "traceback": [
      "\u001b[0;31m---------------------------------------------------------------------------\u001b[0m",
      "\u001b[0;31mKeyboardInterrupt\u001b[0m                         Traceback (most recent call last)",
      "Cell \u001b[0;32mIn[3], line 16\u001b[0m\n\u001b[1;32m     14\u001b[0m switch_action \u001b[39m=\u001b[39m \u001b[39m'\u001b[39m\u001b[39m'\u001b[39m\n\u001b[1;32m     15\u001b[0m \u001b[39mwhile\u001b[39;00m \u001b[39mnot\u001b[39;00m check_input(switch_action, tuple_actions):\u001b[39m#checking if typed text is in tuple_action\u001b[39;00m\n\u001b[0;32m---> 16\u001b[0m     switch_action \u001b[39m=\u001b[39m input_type(tuple_actions)\u001b[39m#switch for choose between examine and explore\u001b[39;00m\n\u001b[1;32m     17\u001b[0m \u001b[39mif\u001b[39;00m switch_action \u001b[39m==\u001b[39m \u001b[39m'\u001b[39m\u001b[39mexamine\u001b[39m\u001b[39m'\u001b[39m:\u001b[39m#examine/object case\u001b[39;00m\n\u001b[1;32m     18\u001b[0m     \u001b[39mprint\u001b[39m(\u001b[39m'\u001b[39m\u001b[39mSo.. feeling lucky?In the \u001b[39m\u001b[39m'\u001b[39m, player_position, \u001b[39m'\u001b[39m\u001b[39m you see \u001b[39m\u001b[39m'\u001b[39m, dict_examine[player_position]\u001b[39m.\u001b[39mkeys())\n",
      "Cell \u001b[0;32mIn[2], line 17\u001b[0m, in \u001b[0;36minput_type\u001b[0;34m(list_to_show)\u001b[0m\n\u001b[1;32m     15\u001b[0m \u001b[39mdef\u001b[39;00m \u001b[39minput_type\u001b[39m(list_to_show: \u001b[39mlist\u001b[39m)\u001b[39m-\u001b[39m\u001b[39m>\u001b[39m\u001b[39mstr\u001b[39m:\n\u001b[1;32m     16\u001b[0m     \u001b[39mprint\u001b[39m(\u001b[39m\"\"\"\u001b[39m\u001b[39mType \u001b[39m\u001b[39m\"\u001b[39m\u001b[39mONE\u001b[39m\u001b[39m\"\u001b[39m\u001b[39m of theses words : \u001b[39m\u001b[39m\"\"\"\u001b[39m, \u001b[39m*\u001b[39mlist_to_show)\n\u001b[0;32m---> 17\u001b[0m     typed_text \u001b[39m=\u001b[39m \u001b[39minput\u001b[39;49m(list_to_show)\n\u001b[1;32m     18\u001b[0m     \u001b[39mreturn\u001b[39;00m typed_text\n",
      "File \u001b[0;32m~/Library/Python/3.9/lib/python/site-packages/ipykernel/kernelbase.py:1202\u001b[0m, in \u001b[0;36mKernel.raw_input\u001b[0;34m(self, prompt)\u001b[0m\n\u001b[1;32m   1200\u001b[0m     msg \u001b[39m=\u001b[39m \u001b[39m\"\u001b[39m\u001b[39mraw_input was called, but this frontend does not support input requests.\u001b[39m\u001b[39m\"\u001b[39m\n\u001b[1;32m   1201\u001b[0m     \u001b[39mraise\u001b[39;00m StdinNotImplementedError(msg)\n\u001b[0;32m-> 1202\u001b[0m \u001b[39mreturn\u001b[39;00m \u001b[39mself\u001b[39;49m\u001b[39m.\u001b[39;49m_input_request(\n\u001b[1;32m   1203\u001b[0m     \u001b[39mstr\u001b[39;49m(prompt),\n\u001b[1;32m   1204\u001b[0m     \u001b[39mself\u001b[39;49m\u001b[39m.\u001b[39;49m_parent_ident[\u001b[39m\"\u001b[39;49m\u001b[39mshell\u001b[39;49m\u001b[39m\"\u001b[39;49m],\n\u001b[1;32m   1205\u001b[0m     \u001b[39mself\u001b[39;49m\u001b[39m.\u001b[39;49mget_parent(\u001b[39m\"\u001b[39;49m\u001b[39mshell\u001b[39;49m\u001b[39m\"\u001b[39;49m),\n\u001b[1;32m   1206\u001b[0m     password\u001b[39m=\u001b[39;49m\u001b[39mFalse\u001b[39;49;00m,\n\u001b[1;32m   1207\u001b[0m )\n",
      "File \u001b[0;32m~/Library/Python/3.9/lib/python/site-packages/ipykernel/kernelbase.py:1245\u001b[0m, in \u001b[0;36mKernel._input_request\u001b[0;34m(self, prompt, ident, parent, password)\u001b[0m\n\u001b[1;32m   1242\u001b[0m \u001b[39mexcept\u001b[39;00m \u001b[39mKeyboardInterrupt\u001b[39;00m:\n\u001b[1;32m   1243\u001b[0m     \u001b[39m# re-raise KeyboardInterrupt, to truncate traceback\u001b[39;00m\n\u001b[1;32m   1244\u001b[0m     msg \u001b[39m=\u001b[39m \u001b[39m\"\u001b[39m\u001b[39mInterrupted by user\u001b[39m\u001b[39m\"\u001b[39m\n\u001b[0;32m-> 1245\u001b[0m     \u001b[39mraise\u001b[39;00m \u001b[39mKeyboardInterrupt\u001b[39;00m(msg) \u001b[39mfrom\u001b[39;00m \u001b[39mNone\u001b[39;00m\n\u001b[1;32m   1246\u001b[0m \u001b[39mexcept\u001b[39;00m \u001b[39mException\u001b[39;00m:\n\u001b[1;32m   1247\u001b[0m     \u001b[39mself\u001b[39m\u001b[39m.\u001b[39mlog\u001b[39m.\u001b[39mwarning(\u001b[39m\"\u001b[39m\u001b[39mInvalid Message:\u001b[39m\u001b[39m\"\u001b[39m, exc_info\u001b[39m=\u001b[39m\u001b[39mTrue\u001b[39;00m)\n",
      "\u001b[0;31mKeyboardInterrupt\u001b[0m: Interrupted by user"
     ]
    }
   ],
   "source": [
    "# Start in Game Room\n",
    "print(\"Hey fellow adventurer type what you want to do : \", tuple_actions)\n",
    "\n",
    "while player_position != 'You Win!':\n",
    "    \"\"\"\n",
    "    The player_position define in witch room we are.\n",
    "\n",
    "    The the switch_action is use to give two choices to the player.\\\n",
    "    Either exploring, or investigate the objects of the room.\n",
    "    \n",
    "    If exploring, we'll check the inventory \n",
    "    \"\"\"\n",
    "    print(dict_welcome_text[player_position])#Could add function to customise text depending of the room\n",
    "    switch_action = ''\n",
    "    while not check_input(switch_action, tuple_actions):#checking if typed text is in tuple_action\n",
    "        switch_action = input_type(tuple_actions)#switch for choose between examine and explore\n",
    "    if switch_action == 'examine':#examine/object case\n",
    "        print('So.. feeling lucky?In the ', player_position, ' you see ', dict_examine[player_position].keys())\n",
    "        object_chosen = input_type(dict_examine[player_position].keys())\n",
    "        if check_input(object_chosen, dict_examine[player_position].keys()):\n",
    "            find_object(select_door(object_chosen), set_inventory)#!!!!!!!!!\n",
    "            print(dict_examine[player_position][object_chosen], \" added to your inventory.\")\n",
    "    elif switch_action == 'explore':#explore/doors case\n",
    "        print(\"Your will to get tou the \" +  player_position + ' was to strong, you needed to see more!')\n",
    "        print(\"Witch one do you want to open :\", *dict_doors[player_position].keys())\n",
    "        door_chosen = input_type(dict_doors[player_position].keys())\n",
    "        if check_input(door_chosen, dict_doors[player_position].keys()):\n",
    "            check_access(door_chosen, set_inventory)#!!!!!!!!\n",
    "            print(f\"You open the {door_chosen} and enter the {player_position}.\")\n",
    "    else:\n",
    "        print(\"Houston we have a problem!\")\n",
    "\n"
   ]
  },
  {
   "attachments": {},
   "cell_type": "markdown",
   "metadata": {},
   "source": []
  },
  {
   "cell_type": "code",
   "execution_count": null,
   "metadata": {},
   "outputs": [
    {
     "name": "stdout",
     "output_type": "stream",
     "text": [
      "['couch', 'piano', 'door a']\n"
     ]
    }
   ],
   "source": [
    "#Lower all Characters\n",
    "def lower_char(words_to_lower):\n",
    "    lowered_list = list()\n",
    "    for word in words_to_lower:\n",
    "        lowered_list.append(word.lower())\n",
    "    return lowered_list\n",
    "print(lower_char(dict_examine['Game Room'].keys()))"
   ]
  },
  {
   "cell_type": "code",
   "execution_count": null,
   "metadata": {},
   "outputs": [
    {
     "name": "stdout",
     "output_type": "stream",
     "text": [
      "It's a door.\n",
      "Door A\n",
      "Hey! you don't have the key to access that room.\n",
      "None\n"
     ]
    }
   ],
   "source": [
    "def select_door(player_chose:str, inventory: set):\n",
    "    print(dict_examine[player_position][player_chose])\n",
    "    print(player_chose)\n",
    "    if dict_examine[player_position][player_chose] == \"It's a door.\":\n",
    "        check_access(player_chose, inventory)\n",
    "    else:\n",
    "        return player_chose\n",
    "print(select_door('Door A', set_inventory))"
   ]
  },
  {
   "cell_type": "code",
   "execution_count": null,
   "metadata": {},
   "outputs": [],
   "source": []
  }
 ],
 "metadata": {
  "kernelspec": {
   "display_name": "Python 3",
   "language": "python",
   "name": "python3"
  },
  "language_info": {
   "codemirror_mode": {
    "name": "ipython",
    "version": 3
   },
   "file_extension": ".py",
   "mimetype": "text/x-python",
   "name": "python",
   "nbconvert_exporter": "python",
   "pygments_lexer": "ipython3",
   "version": "3.9.6"
  },
  "orig_nbformat": 4
 },
 "nbformat": 4,
 "nbformat_minor": 2
}

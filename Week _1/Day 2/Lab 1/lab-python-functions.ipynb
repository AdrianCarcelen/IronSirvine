{
 "cells": [
  {
   "cell_type": "markdown",
   "id": "25d7736c-ba17-4aff-b6bb-66eba20fbf4e",
   "metadata": {},
   "source": [
    "# Lab | Functions"
   ]
  },
  {
   "cell_type": "markdown",
   "id": "3008ad72-7aca-4bea-8f7b-1000a5941d69",
   "metadata": {
    "tags": []
   },
   "source": [
    "## Exercise: Managing Customer Orders with Functions\n",
    "\n",
    "In the previous exercise, you improved the code for managing customer orders by using loops and flow control. Now, let's take it a step further and refactor the code by introducing functions.\n",
    "\n",
    "Follow the steps below to complete the exercise:\n",
    "\n",
    "1. Define a function named `initialize_inventory` that takes `products` as a parameter. Inside the function, implement the code for initializing the inventory dictionary using a loop and user input.\n",
    "\n",
    "2. Define a function named `get_customer_orders` that takes no parameters. Inside the function, implement the code for prompting the user to enter the product names using a loop. The function should return the `customer_orders` set.\n",
    "\n",
    "3. Define a function named `update_inventory` that takes `customer_orders` and `inventory` as parameters. Inside the function, implement the code for updating the inventory dictionary based on the customer orders.\n",
    "\n",
    "4. Define a function named `calculate_order_statistics` that takes `customer_orders` and `products` as parameters. Inside the function, implement the code for calculating the order statistics (total products ordered, unique products ordered, and percentage of unique products ordered). The function should return these values.\n",
    "\n",
    "5. Define a function named `print_order_statistics` that takes `order_statistics` as a parameter. Inside the function, implement the code for printing the order statistics.\n",
    "\n",
    "6. Define a function named `print_updated_inventory` that takes `inventory` as a parameter. Inside the function, implement the code for printing the updated inventory.\n",
    "\n",
    "7. Call the functions in the appropriate sequence to execute the program and manage customer orders.\n",
    "\n",
    "Hints for functions:\n",
    "\n",
    "- Consider the input parameters required for each function and their return values.\n",
    "- Utilize function parameters and return values to transfer data between functions.\n",
    "- Test your functions individually to ensure they work correctly.\n",
    "\n",
    "\n"
   ]
  },
  {
   "cell_type": "markdown",
   "id": "823c0ab6",
   "metadata": {},
   "source": [
    "# Global Variables"
   ]
  },
  {
   "cell_type": "code",
   "execution_count": 27,
   "id": "d7adb224",
   "metadata": {},
   "outputs": [],
   "source": [
    "\n",
    "\n",
    "products = [\"t-shirt\", \"mug\", \"hat\", \"book\", \"keychain\"]\n"
   ]
  },
  {
   "cell_type": "markdown",
   "id": "e3904abe",
   "metadata": {},
   "source": [
    "1. Define a function named `initialize_inventory` that takes `products` as a parameter. Inside the function, implement the code for initializing the inventory dictionary using a loop and user input."
   ]
  },
  {
   "cell_type": "code",
   "execution_count": 28,
   "id": "e0de6d7e",
   "metadata": {},
   "outputs": [],
   "source": [
    "def initialize_inventory(products):\n",
    "    inventory = {}\n",
    "    for product in products:\n",
    "        inventory[product] = int(input(f'Give the number for {product}'))\n",
    "    return inventory\n"
   ]
  },
  {
   "cell_type": "markdown",
   "id": "158331a4",
   "metadata": {},
   "source": [
    "2. Define a function named `get_customer_orders` that takes no parameters. Inside the function, implement the code for prompting the user to enter the product names using a loop. The function should return the `customer_orders` set."
   ]
  },
  {
   "cell_type": "code",
   "execution_count": 42,
   "id": "9c744ab4",
   "metadata": {},
   "outputs": [],
   "source": [
    "def get_customer_order():\n",
    "    customer_orders = []\n",
    "    costumer_continues = True\n",
    "    while costumer_continues:\n",
    "        print('input product name')\n",
    "        product = input()\n",
    "        customer_orders.append(product)\n",
    "        print('continue (yes/no)')\n",
    "        costumer_continues_input = input()\n",
    "        costumer_continues = costumer_continues_input.lower().strip() =='yes'\n",
    "    return customer_orders"
   ]
  },
  {
   "cell_type": "markdown",
   "id": "52be37b6",
   "metadata": {},
   "source": [
    "3. Define a function named `update_inventory` that takes `customer_orders` and `inventory` as parameters. Inside the function, implement the code for updating the inventory dictionary based on the customer orders."
   ]
  },
  {
   "cell_type": "code",
   "execution_count": 43,
   "id": "f9f81c79",
   "metadata": {},
   "outputs": [],
   "source": [
    "def update_inventory(inventory,customer_orders):\n",
    "    for order in customer_orders:\n",
    "        if order in inventory:\n",
    "            if inventory[order] == 0:\n",
    "                print(order, 'is out of stock')\n",
    "            else:\n",
    "               inventory[order] -= 1\n",
    "    return inventory\n",
    "\n",
    "\n"
   ]
  },
  {
   "cell_type": "markdown",
   "id": "79566a60",
   "metadata": {},
   "source": [
    "4. Define a function named `calculate_order_statistics` that takes `customer_orders` and `products` as parameters. Inside the function, implement the code for calculating the order statistics (total products ordered, unique products ordered, and percentage of unique products ordered). The function should return these values."
   ]
  },
  {
   "cell_type": "code",
   "execution_count": 44,
   "metadata": {},
   "outputs": [],
   "source": [
    "def calculate_order_statistics(customer_orders,products):\n",
    "    l = len(customer_orders)\n",
    "    lu = len(products)\n",
    "    percentage = 100 * l/lu\n",
    "    return l, lu, percentage\n"
   ]
  },
  {
   "cell_type": "markdown",
   "id": "affffcbf",
   "metadata": {},
   "source": [
    "5. Define a function named `print_order_statistics` that takes `order_statistics` as a parameter. Inside the function, implement the code for printing the order statistics."
   ]
  },
  {
   "cell_type": "code",
   "execution_count": 48,
   "id": "9b2e4636",
   "metadata": {},
   "outputs": [],
   "source": [
    "def print_order_statistics(order_statistics):\n",
    "    print(f'''\\nOrder Statistics:\\n \n",
    "    Total Products Ordered: {order_statistics[0]}\\n \n",
    "    Unique Products Ordered: {order_statistics[1]}\\n \n",
    "    Percentage of Unique Products Ordered: {order_statistics[2]:.2f}%\\n''') # the parameter :.2f its to conver this sentence in a float number and only take 2 devcimals"
   ]
  },
  {
   "cell_type": "markdown",
   "id": "7ae15252",
   "metadata": {},
   "source": [
    "6. Define a function named `print_updated_inventory` that takes `inventory` as a parameter. Inside the function, implement the code for printing the updated inventory."
   ]
  },
  {
   "cell_type": "code",
   "execution_count": 46,
   "id": "93a24364",
   "metadata": {},
   "outputs": [],
   "source": [
    "def print_updated_inventory(inventory):\n",
    "    for product, val in inventory.items():\n",
    "        print(f'For the product {product} we have value {val}')"
   ]
  },
  {
   "cell_type": "markdown",
   "id": "7a1252e2",
   "metadata": {},
   "source": [
    "7. Call the functions in the appropriate sequence to execute the program and manage customer orders."
   ]
  },
  {
   "cell_type": "code",
   "execution_count": 47,
   "id": "7cac7b4c",
   "metadata": {},
   "outputs": [
    {
     "name": "stdout",
     "output_type": "stream",
     "text": [
      "input product name\n",
      "continue (yes/no)\n",
      "input product name\n",
      "continue (yes/no)\n",
      "\n",
      "Order Statistics:\n",
      " \n",
      "    Total Products Ordered: 2\n",
      " \n",
      "    Unique Products Ordered: 5\n",
      " \n",
      "    Percentage of Unique Products Ordered: 40.00\n",
      "\n",
      "For the product t-shirt we have value 1\n",
      "For the product mug we have value 0\n",
      "For the product hat we have value 0\n",
      "For the product book we have value 1\n",
      "For the product keychain we have value 1\n"
     ]
    }
   ],
   "source": [
    "inventory = initialize_inventory(products)\n",
    "customer_orders = get_customer_order()\n",
    "updated_inventory = update_inventory(inventory,customer_orders)\n",
    "order_status = calculate_order_statistics(customer_orders,products)\n",
    "print_order_statistics(order_status)\n",
    "print_updated_inventory(updated_inventory)"
   ]
  }
 ],
 "metadata": {
  "kernelspec": {
   "display_name": "Python 3 (ipykernel)",
   "language": "python",
   "name": "python3"
  },
  "language_info": {
   "codemirror_mode": {
    "name": "ipython",
    "version": 3
   },
   "file_extension": ".py",
   "mimetype": "text/x-python",
   "name": "python",
   "nbconvert_exporter": "python",
   "pygments_lexer": "ipython3",
   "version": "3.8.8"
  }
 },
 "nbformat": 4,
 "nbformat_minor": 5
}

{
 "cells": [
  {
   "cell_type": "code",
   "execution_count": 1,
   "metadata": {},
   "outputs": [],
   "source": [
    "import numpy as np\n",
    "import torch"
   ]
  },
  {
   "cell_type": "code",
   "execution_count": 2,
   "metadata": {},
   "outputs": [
    {
     "data": {
      "text/plain": [
       "tensor([[1., 2.],\n",
       "        [3., 4.],\n",
       "        [5., 6.]], dtype=torch.float64, requires_grad=True)"
      ]
     },
     "execution_count": 2,
     "metadata": {},
     "output_type": "execute_result"
    }
   ],
   "source": [
    "data = [[1,2],[3,4],[5,6]]\n",
    "data_np = np.array(data, dtype=float)\n",
    "data_t = torch.tensor(data, dtype=float, requires_grad=True)\n",
    "data_t"
   ]
  },
  {
   "cell_type": "code",
   "execution_count": 3,
   "metadata": {},
   "outputs": [
    {
     "data": {
      "text/plain": [
       "tensor([[[0.4399, 0.4652],\n",
       "         [0.3133, 0.4459],\n",
       "         [0.2018, 0.3409]],\n",
       "\n",
       "        [[0.2853, 0.7373],\n",
       "         [0.3620, 0.7070],\n",
       "         [0.6784, 0.9833]]])"
      ]
     },
     "execution_count": 3,
     "metadata": {},
     "output_type": "execute_result"
    }
   ],
   "source": [
    "torch.rand(2,3,2)"
   ]
  },
  {
   "cell_type": "code",
   "execution_count": 4,
   "metadata": {},
   "outputs": [
    {
     "data": {
      "text/plain": [
       "tensor([[0., 0.],\n",
       "        [0., 0.],\n",
       "        [0., 0.]], dtype=torch.float64)"
      ]
     },
     "execution_count": 4,
     "metadata": {},
     "output_type": "execute_result"
    }
   ],
   "source": [
    "torch.zeros_like(data_t)"
   ]
  },
  {
   "cell_type": "code",
   "execution_count": 5,
   "metadata": {},
   "outputs": [
    {
     "data": {
      "text/plain": [
       "tensor([[1., 2.],\n",
       "        [3., 4.],\n",
       "        [5., 6.]], dtype=torch.float64, requires_grad=True)"
      ]
     },
     "execution_count": 5,
     "metadata": {},
     "output_type": "execute_result"
    }
   ],
   "source": [
    "data_t"
   ]
  },
  {
   "cell_type": "code",
   "execution_count": 6,
   "metadata": {},
   "outputs": [
    {
     "data": {
      "text/plain": [
       "(torch.Size([3, 2]), torch.float64, device(type='cpu'))"
      ]
     },
     "execution_count": 6,
     "metadata": {},
     "output_type": "execute_result"
    }
   ],
   "source": [
    "data_t.shape, data_t.dtype, data_t.device"
   ]
  },
  {
   "cell_type": "code",
   "execution_count": 7,
   "metadata": {},
   "outputs": [],
   "source": [
    "if torch.cuda.is_available():\n",
    "    my_device = 'cuda'\n",
    "else:\n",
    "    my_device = 'cpu'\n",
    "\n",
    "t = torch.ones(5,3, device=my_device)"
   ]
  },
  {
   "cell_type": "code",
   "execution_count": 8,
   "metadata": {},
   "outputs": [
    {
     "data": {
      "text/plain": [
       "tensor([4., 0., 1.])"
      ]
     },
     "execution_count": 8,
     "metadata": {},
     "output_type": "execute_result"
    }
   ],
   "source": [
    "t[:,1] = 0\n",
    "t[2,:] = 2\n",
    "t[3,0] = 4\n",
    "t[0:,2]\n",
    "t[3]"
   ]
  },
  {
   "cell_type": "code",
   "execution_count": 9,
   "metadata": {},
   "outputs": [
    {
     "data": {
      "text/plain": [
       "tensor([[  1.,   1.,   1.],\n",
       "        [  1.,   1.,   1.],\n",
       "        [  4.,   4.,   4.],\n",
       "        [256.,   1.,   1.],\n",
       "        [  1.,   1.,   1.]])"
      ]
     },
     "execution_count": 9,
     "metadata": {},
     "output_type": "execute_result"
    }
   ],
   "source": [
    "t**t"
   ]
  },
  {
   "cell_type": "code",
   "execution_count": 10,
   "metadata": {},
   "outputs": [
    {
     "data": {
      "text/plain": [
       "tensor([[1., 1., 2., 4., 1.],\n",
       "        [0., 0., 2., 0., 0.],\n",
       "        [1., 1., 2., 1., 1.]])"
      ]
     },
     "execution_count": 10,
     "metadata": {},
     "output_type": "execute_result"
    }
   ],
   "source": [
    "t.T"
   ]
  },
  {
   "cell_type": "code",
   "execution_count": 11,
   "metadata": {},
   "outputs": [
    {
     "data": {
      "text/plain": [
       "tensor([3.5400, 0.0000, 0.9600])"
      ]
     },
     "execution_count": 11,
     "metadata": {},
     "output_type": "execute_result"
    }
   ],
   "source": [
    "# l2 has 2 neurons\n",
    "l1 = torch.tensor([1.1,-0.5])\n",
    "# l2 has 3 neurons\n",
    "w1 = torch.tensor([[2.4,1.2],[-1.4,0.2],[0.1,-3.1]])\n",
    "b1 = torch.tensor([1.5,-0.9,-0.7])\n",
    "\n",
    "l2 = torch.relu(w1@l1 + b1)\n",
    "l2"
   ]
  },
  {
   "cell_type": "code",
   "execution_count": 12,
   "metadata": {},
   "outputs": [
    {
     "data": {
      "text/plain": [
       "tensor(4.5000)"
      ]
     },
     "execution_count": 12,
     "metadata": {},
     "output_type": "execute_result"
    }
   ],
   "source": [
    "l2.sum()"
   ]
  },
  {
   "cell_type": "code",
   "execution_count": 13,
   "metadata": {},
   "outputs": [
    {
     "name": "stdout",
     "output_type": "stream",
     "text": [
      "x tensor(-0.5000, requires_grad=True)\n",
      "x.grad None\n",
      "y = f(x) tensor(3.7500, grad_fn=<AddBackward0>)\n",
      "x tensor(-0.5000, requires_grad=True)\n",
      "x.grad tensor(-2.)\n"
     ]
    }
   ],
   "source": [
    "def f(x):\n",
    "    return x**2-x+3\n",
    "x = torch.tensor(-0.5, requires_grad=True)\n",
    "\n",
    "print('x', x)\n",
    "print('x.grad', x.grad)\n",
    "y = f(x)\n",
    "print('y = f(x)', y)\n",
    "y.backward()\n",
    "print('x', x)\n",
    "print('x.grad', x.grad)\n"
   ]
  },
  {
   "cell_type": "code",
   "execution_count": 14,
   "metadata": {},
   "outputs": [],
   "source": [
    "from torchviz import make_dot"
   ]
  },
  {
   "cell_type": "code",
   "execution_count": 15,
   "metadata": {},
   "outputs": [
    {
     "data": {
      "image/svg+xml": [
       "<?xml version=\"1.0\" encoding=\"UTF-8\" standalone=\"no\"?>\n",
       "<!DOCTYPE svg PUBLIC \"-//W3C//DTD SVG 1.1//EN\"\n",
       " \"http://www.w3.org/Graphics/SVG/1.1/DTD/svg11.dtd\">\n",
       "<!-- Generated by graphviz version 8.1.0 (20230707.0739)\n",
       " -->\n",
       "<!-- Pages: 1 -->\n",
       "<svg width=\"138pt\" height=\"332pt\"\n",
       " viewBox=\"0.00 0.00 138.00 332.00\" xmlns=\"http://www.w3.org/2000/svg\" xmlns:xlink=\"http://www.w3.org/1999/xlink\">\n",
       "<g id=\"graph0\" class=\"graph\" transform=\"scale(1 1) rotate(0) translate(4 328)\">\n",
       "<polygon fill=\"white\" stroke=\"none\" points=\"-4,4 -4,-328 134,-328 134,4 -4,4\"/>\n",
       "<!-- 2616486125376 -->\n",
       "<g id=\"node1\" class=\"node\">\n",
       "<title>2616486125376</title>\n",
       "<polygon fill=\"#caff70\" stroke=\"black\" points=\"77,-32 23,-32 23,0 77,0 77,-32\"/>\n",
       "<text text-anchor=\"middle\" x=\"50\" y=\"-6.5\" font-family=\"monospace\" font-size=\"10.00\"> ()</text>\n",
       "</g>\n",
       "<!-- 2616512221232 -->\n",
       "<g id=\"node2\" class=\"node\">\n",
       "<title>2616512221232</title>\n",
       "<polygon fill=\"lightgrey\" stroke=\"black\" points=\"94,-88 6,-88 6,-68 94,-68 94,-88\"/>\n",
       "<text text-anchor=\"middle\" x=\"50\" y=\"-74.5\" font-family=\"monospace\" font-size=\"10.00\">AddBackward0</text>\n",
       "</g>\n",
       "<!-- 2616512221232&#45;&gt;2616486125376 -->\n",
       "<g id=\"edge6\" class=\"edge\">\n",
       "<title>2616512221232&#45;&gt;2616486125376</title>\n",
       "<path fill=\"none\" stroke=\"black\" d=\"M50,-67.62C50,-61.02 50,-51.84 50,-43.11\"/>\n",
       "<polygon fill=\"black\" stroke=\"black\" points=\"53.5,-43.14 50,-33.14 46.5,-43.14 53.5,-43.14\"/>\n",
       "</g>\n",
       "<!-- 2616512221040 -->\n",
       "<g id=\"node3\" class=\"node\">\n",
       "<title>2616512221040</title>\n",
       "<polygon fill=\"lightgrey\" stroke=\"black\" points=\"94,-144 6,-144 6,-124 94,-124 94,-144\"/>\n",
       "<text text-anchor=\"middle\" x=\"50\" y=\"-130.5\" font-family=\"monospace\" font-size=\"10.00\">SubBackward0</text>\n",
       "</g>\n",
       "<!-- 2616512221040&#45;&gt;2616512221232 -->\n",
       "<g id=\"edge1\" class=\"edge\">\n",
       "<title>2616512221040&#45;&gt;2616512221232</title>\n",
       "<path fill=\"none\" stroke=\"black\" d=\"M50,-123.59C50,-116.86 50,-107.53 50,-99.15\"/>\n",
       "<polygon fill=\"black\" stroke=\"black\" points=\"53.5,-99.3 50,-89.3 46.5,-99.3 53.5,-99.3\"/>\n",
       "</g>\n",
       "<!-- 2616512220608 -->\n",
       "<g id=\"node4\" class=\"node\">\n",
       "<title>2616512220608</title>\n",
       "<polygon fill=\"lightgrey\" stroke=\"black\" points=\"130,-200 42,-200 42,-180 130,-180 130,-200\"/>\n",
       "<text text-anchor=\"middle\" x=\"86\" y=\"-186.5\" font-family=\"monospace\" font-size=\"10.00\">PowBackward0</text>\n",
       "</g>\n",
       "<!-- 2616512220608&#45;&gt;2616512221040 -->\n",
       "<g id=\"edge2\" class=\"edge\">\n",
       "<title>2616512220608&#45;&gt;2616512221040</title>\n",
       "<path fill=\"none\" stroke=\"black\" d=\"M79.73,-179.59C74.93,-172.39 68.16,-162.23 62.29,-153.43\"/>\n",
       "<polygon fill=\"black\" stroke=\"black\" points=\"64.66,-151.68 56.2,-145.3 58.83,-155.56 64.66,-151.68\"/>\n",
       "</g>\n",
       "<!-- 2616512221328 -->\n",
       "<g id=\"node5\" class=\"node\">\n",
       "<title>2616512221328</title>\n",
       "<polygon fill=\"lightgrey\" stroke=\"black\" points=\"100,-256 0,-256 0,-236 100,-236 100,-256\"/>\n",
       "<text text-anchor=\"middle\" x=\"50\" y=\"-242.5\" font-family=\"monospace\" font-size=\"10.00\">AccumulateGrad</text>\n",
       "</g>\n",
       "<!-- 2616512221328&#45;&gt;2616512221040 -->\n",
       "<g id=\"edge5\" class=\"edge\">\n",
       "<title>2616512221328&#45;&gt;2616512221040</title>\n",
       "<path fill=\"none\" stroke=\"black\" d=\"M45.32,-235.63C41.14,-226.72 35.34,-212.82 33,-200 30.15,-184.38 35.14,-166.99 40.43,-154.13\"/>\n",
       "<polygon fill=\"black\" stroke=\"black\" points=\"44.02,-155.71 44.98,-145.16 37.65,-152.81 44.02,-155.71\"/>\n",
       "</g>\n",
       "<!-- 2616512221328&#45;&gt;2616512220608 -->\n",
       "<g id=\"edge3\" class=\"edge\">\n",
       "<title>2616512221328&#45;&gt;2616512220608</title>\n",
       "<path fill=\"none\" stroke=\"black\" d=\"M56.27,-235.59C61.07,-228.39 67.84,-218.23 73.71,-209.43\"/>\n",
       "<polygon fill=\"black\" stroke=\"black\" points=\"77.17,-211.56 79.8,-201.3 71.34,-207.68 77.17,-211.56\"/>\n",
       "</g>\n",
       "<!-- 2616475922064 -->\n",
       "<g id=\"node6\" class=\"node\">\n",
       "<title>2616475922064</title>\n",
       "<polygon fill=\"lightblue\" stroke=\"black\" points=\"77,-324 23,-324 23,-292 77,-292 77,-324\"/>\n",
       "<text text-anchor=\"middle\" x=\"50\" y=\"-298.5\" font-family=\"monospace\" font-size=\"10.00\"> ()</text>\n",
       "</g>\n",
       "<!-- 2616475922064&#45;&gt;2616512221328 -->\n",
       "<g id=\"edge4\" class=\"edge\">\n",
       "<title>2616475922064&#45;&gt;2616512221328</title>\n",
       "<path fill=\"none\" stroke=\"black\" d=\"M50,-291.55C50,-284.17 50,-275.24 50,-267.32\"/>\n",
       "<polygon fill=\"black\" stroke=\"black\" points=\"53.5,-267.41 50,-257.41 46.5,-267.41 53.5,-267.41\"/>\n",
       "</g>\n",
       "</g>\n",
       "</svg>\n"
      ],
      "text/plain": [
       "<graphviz.graphs.Digraph at 0x2613428f810>"
      ]
     },
     "execution_count": 15,
     "metadata": {},
     "output_type": "execute_result"
    }
   ],
   "source": [
    "make_dot(y)"
   ]
  },
  {
   "cell_type": "code",
   "execution_count": 20,
   "metadata": {},
   "outputs": [
    {
     "name": "stdout",
     "output_type": "stream",
     "text": [
      "x tensor(17., requires_grad=True)\n",
      "x.grad None\n",
      "y = f(x) tensor(1.5812e-12, grad_fn=<DivBackward0>)\n",
      "x tensor(17., requires_grad=True)\n",
      "x.grad tensor(-4.3014e-06)\n"
     ]
    },
    {
     "data": {
      "image/svg+xml": [
       "<?xml version=\"1.0\" encoding=\"UTF-8\" standalone=\"no\"?>\n",
       "<!DOCTYPE svg PUBLIC \"-//W3C//DTD SVG 1.1//EN\"\n",
       " \"http://www.w3.org/Graphics/SVG/1.1/DTD/svg11.dtd\">\n",
       "<!-- Generated by graphviz version 8.1.0 (20230707.0739)\n",
       " -->\n",
       "<!-- Pages: 1 -->\n",
       "<svg width=\"308pt\" height=\"500pt\"\n",
       " viewBox=\"0.00 0.00 308.00 500.00\" xmlns=\"http://www.w3.org/2000/svg\" xmlns:xlink=\"http://www.w3.org/1999/xlink\">\n",
       "<g id=\"graph0\" class=\"graph\" transform=\"scale(1 1) rotate(0) translate(4 496)\">\n",
       "<polygon fill=\"white\" stroke=\"none\" points=\"-4,4 -4,-496 304,-496 304,4 -4,4\"/>\n",
       "<!-- 2616512134304 -->\n",
       "<g id=\"node1\" class=\"node\">\n",
       "<title>2616512134304</title>\n",
       "<polygon fill=\"#caff70\" stroke=\"black\" points=\"230,-32 176,-32 176,0 230,0 230,-32\"/>\n",
       "<text text-anchor=\"middle\" x=\"203\" y=\"-6.5\" font-family=\"monospace\" font-size=\"10.00\"> ()</text>\n",
       "</g>\n",
       "<!-- 2616514265248 -->\n",
       "<g id=\"node2\" class=\"node\">\n",
       "<title>2616514265248</title>\n",
       "<polygon fill=\"lightgrey\" stroke=\"black\" points=\"247,-88 159,-88 159,-68 247,-68 247,-88\"/>\n",
       "<text text-anchor=\"middle\" x=\"203\" y=\"-74.5\" font-family=\"monospace\" font-size=\"10.00\">DivBackward0</text>\n",
       "</g>\n",
       "<!-- 2616514265248&#45;&gt;2616512134304 -->\n",
       "<g id=\"edge15\" class=\"edge\">\n",
       "<title>2616514265248&#45;&gt;2616512134304</title>\n",
       "<path fill=\"none\" stroke=\"black\" d=\"M203,-67.62C203,-61.02 203,-51.84 203,-43.11\"/>\n",
       "<polygon fill=\"black\" stroke=\"black\" points=\"206.5,-43.14 203,-33.14 199.5,-43.14 206.5,-43.14\"/>\n",
       "</g>\n",
       "<!-- 2616514273312 -->\n",
       "<g id=\"node3\" class=\"node\">\n",
       "<title>2616514273312</title>\n",
       "<polygon fill=\"lightgrey\" stroke=\"black\" points=\"194,-144 106,-144 106,-124 194,-124 194,-144\"/>\n",
       "<text text-anchor=\"middle\" x=\"150\" y=\"-130.5\" font-family=\"monospace\" font-size=\"10.00\">SinBackward0</text>\n",
       "</g>\n",
       "<!-- 2616514273312&#45;&gt;2616514265248 -->\n",
       "<g id=\"edge1\" class=\"edge\">\n",
       "<title>2616514273312&#45;&gt;2616514265248</title>\n",
       "<path fill=\"none\" stroke=\"black\" d=\"M159.23,-123.59C166.68,-116.01 177.35,-105.13 186.29,-96.02\"/>\n",
       "<polygon fill=\"black\" stroke=\"black\" points=\"188.37,-98.89 192.87,-89.3 183.37,-93.98 188.37,-98.89\"/>\n",
       "</g>\n",
       "<!-- 2616514272400 -->\n",
       "<g id=\"node4\" class=\"node\">\n",
       "<title>2616514272400</title>\n",
       "<polygon fill=\"lightgrey\" stroke=\"black\" points=\"194,-200 106,-200 106,-180 194,-180 194,-200\"/>\n",
       "<text text-anchor=\"middle\" x=\"150\" y=\"-186.5\" font-family=\"monospace\" font-size=\"10.00\">PowBackward0</text>\n",
       "</g>\n",
       "<!-- 2616514272400&#45;&gt;2616514273312 -->\n",
       "<g id=\"edge2\" class=\"edge\">\n",
       "<title>2616514272400&#45;&gt;2616514273312</title>\n",
       "<path fill=\"none\" stroke=\"black\" d=\"M150,-179.59C150,-172.86 150,-163.53 150,-155.15\"/>\n",
       "<polygon fill=\"black\" stroke=\"black\" points=\"153.5,-155.3 150,-145.3 146.5,-155.3 153.5,-155.3\"/>\n",
       "</g>\n",
       "<!-- 2616514275808 -->\n",
       "<g id=\"node5\" class=\"node\">\n",
       "<title>2616514275808</title>\n",
       "<polygon fill=\"lightgrey\" stroke=\"black\" points=\"194,-256 106,-256 106,-236 194,-236 194,-256\"/>\n",
       "<text text-anchor=\"middle\" x=\"150\" y=\"-242.5\" font-family=\"monospace\" font-size=\"10.00\">AddBackward0</text>\n",
       "</g>\n",
       "<!-- 2616514275808&#45;&gt;2616514272400 -->\n",
       "<g id=\"edge3\" class=\"edge\">\n",
       "<title>2616514275808&#45;&gt;2616514272400</title>\n",
       "<path fill=\"none\" stroke=\"black\" d=\"M150,-235.59C150,-228.86 150,-219.53 150,-211.15\"/>\n",
       "<polygon fill=\"black\" stroke=\"black\" points=\"153.5,-211.3 150,-201.3 146.5,-211.3 153.5,-211.3\"/>\n",
       "</g>\n",
       "<!-- 2616514273792 -->\n",
       "<g id=\"node6\" class=\"node\">\n",
       "<title>2616514273792</title>\n",
       "<polygon fill=\"lightgrey\" stroke=\"black\" points=\"194,-312 106,-312 106,-292 194,-292 194,-312\"/>\n",
       "<text text-anchor=\"middle\" x=\"150\" y=\"-298.5\" font-family=\"monospace\" font-size=\"10.00\">SubBackward0</text>\n",
       "</g>\n",
       "<!-- 2616514273792&#45;&gt;2616514275808 -->\n",
       "<g id=\"edge4\" class=\"edge\">\n",
       "<title>2616514273792&#45;&gt;2616514275808</title>\n",
       "<path fill=\"none\" stroke=\"black\" d=\"M150,-291.59C150,-284.86 150,-275.53 150,-267.15\"/>\n",
       "<polygon fill=\"black\" stroke=\"black\" points=\"153.5,-267.3 150,-257.3 146.5,-267.3 153.5,-267.3\"/>\n",
       "</g>\n",
       "<!-- 2616514272688 -->\n",
       "<g id=\"node7\" class=\"node\">\n",
       "<title>2616514272688</title>\n",
       "<polygon fill=\"lightgrey\" stroke=\"black\" points=\"88,-368 0,-368 0,-348 88,-348 88,-368\"/>\n",
       "<text text-anchor=\"middle\" x=\"44\" y=\"-354.5\" font-family=\"monospace\" font-size=\"10.00\">PowBackward0</text>\n",
       "</g>\n",
       "<!-- 2616514272688&#45;&gt;2616514273792 -->\n",
       "<g id=\"edge5\" class=\"edge\">\n",
       "<title>2616514272688&#45;&gt;2616514273792</title>\n",
       "<path fill=\"none\" stroke=\"black\" d=\"M62.46,-347.59C78.78,-339.28 102.83,-327.03 121.59,-317.47\"/>\n",
       "<polygon fill=\"black\" stroke=\"black\" points=\"123.07,-320.14 130.39,-312.48 119.89,-313.9 123.07,-320.14\"/>\n",
       "</g>\n",
       "<!-- 2616514275616 -->\n",
       "<g id=\"node8\" class=\"node\">\n",
       "<title>2616514275616</title>\n",
       "<polygon fill=\"lightgrey\" stroke=\"black\" points=\"200,-424 100,-424 100,-404 200,-404 200,-424\"/>\n",
       "<text text-anchor=\"middle\" x=\"150\" y=\"-410.5\" font-family=\"monospace\" font-size=\"10.00\">AccumulateGrad</text>\n",
       "</g>\n",
       "<!-- 2616514275616&#45;&gt;2616514272688 -->\n",
       "<g id=\"edge6\" class=\"edge\">\n",
       "<title>2616514275616&#45;&gt;2616514272688</title>\n",
       "<path fill=\"none\" stroke=\"black\" d=\"M131.54,-403.59C115.22,-395.28 91.17,-383.03 72.41,-373.47\"/>\n",
       "<polygon fill=\"black\" stroke=\"black\" points=\"74.11,-369.9 63.61,-368.48 70.93,-376.14 74.11,-369.9\"/>\n",
       "</g>\n",
       "<!-- 2616514265440 -->\n",
       "<g id=\"node10\" class=\"node\">\n",
       "<title>2616514265440</title>\n",
       "<polygon fill=\"lightgrey\" stroke=\"black\" points=\"194,-368 106,-368 106,-348 194,-348 194,-368\"/>\n",
       "<text text-anchor=\"middle\" x=\"150\" y=\"-354.5\" font-family=\"monospace\" font-size=\"10.00\">MulBackward0</text>\n",
       "</g>\n",
       "<!-- 2616514275616&#45;&gt;2616514265440 -->\n",
       "<g id=\"edge9\" class=\"edge\">\n",
       "<title>2616514275616&#45;&gt;2616514265440</title>\n",
       "<path fill=\"none\" stroke=\"black\" d=\"M150,-403.59C150,-396.86 150,-387.53 150,-379.15\"/>\n",
       "<polygon fill=\"black\" stroke=\"black\" points=\"153.5,-379.3 150,-369.3 146.5,-379.3 153.5,-379.3\"/>\n",
       "</g>\n",
       "<!-- 2616514275136 -->\n",
       "<g id=\"node14\" class=\"node\">\n",
       "<title>2616514275136</title>\n",
       "<polygon fill=\"lightgrey\" stroke=\"black\" points=\"300,-368 212,-368 212,-348 300,-348 300,-368\"/>\n",
       "<text text-anchor=\"middle\" x=\"256\" y=\"-354.5\" font-family=\"monospace\" font-size=\"10.00\">PowBackward0</text>\n",
       "</g>\n",
       "<!-- 2616514275616&#45;&gt;2616514275136 -->\n",
       "<g id=\"edge14\" class=\"edge\">\n",
       "<title>2616514275616&#45;&gt;2616514275136</title>\n",
       "<path fill=\"none\" stroke=\"black\" d=\"M168.46,-403.59C184.78,-395.28 208.83,-383.03 227.59,-373.47\"/>\n",
       "<polygon fill=\"black\" stroke=\"black\" points=\"229.07,-376.14 236.39,-368.48 225.89,-369.9 229.07,-376.14\"/>\n",
       "</g>\n",
       "<!-- 2616518266224 -->\n",
       "<g id=\"node9\" class=\"node\">\n",
       "<title>2616518266224</title>\n",
       "<polygon fill=\"lightblue\" stroke=\"black\" points=\"177,-492 123,-492 123,-460 177,-460 177,-492\"/>\n",
       "<text text-anchor=\"middle\" x=\"150\" y=\"-466.5\" font-family=\"monospace\" font-size=\"10.00\"> ()</text>\n",
       "</g>\n",
       "<!-- 2616518266224&#45;&gt;2616514275616 -->\n",
       "<g id=\"edge7\" class=\"edge\">\n",
       "<title>2616518266224&#45;&gt;2616514275616</title>\n",
       "<path fill=\"none\" stroke=\"black\" d=\"M150,-459.55C150,-452.17 150,-443.24 150,-435.32\"/>\n",
       "<polygon fill=\"black\" stroke=\"black\" points=\"153.5,-435.41 150,-425.41 146.5,-435.41 153.5,-435.41\"/>\n",
       "</g>\n",
       "<!-- 2616514265440&#45;&gt;2616514273792 -->\n",
       "<g id=\"edge8\" class=\"edge\">\n",
       "<title>2616514265440&#45;&gt;2616514273792</title>\n",
       "<path fill=\"none\" stroke=\"black\" d=\"M150,-347.59C150,-340.86 150,-331.53 150,-323.15\"/>\n",
       "<polygon fill=\"black\" stroke=\"black\" points=\"153.5,-323.3 150,-313.3 146.5,-323.3 153.5,-323.3\"/>\n",
       "</g>\n",
       "<!-- 2616514272496 -->\n",
       "<g id=\"node11\" class=\"node\">\n",
       "<title>2616514272496</title>\n",
       "<polygon fill=\"lightgrey\" stroke=\"black\" points=\"300,-144 212,-144 212,-124 300,-124 300,-144\"/>\n",
       "<text text-anchor=\"middle\" x=\"256\" y=\"-130.5\" font-family=\"monospace\" font-size=\"10.00\">PowBackward0</text>\n",
       "</g>\n",
       "<!-- 2616514272496&#45;&gt;2616514265248 -->\n",
       "<g id=\"edge10\" class=\"edge\">\n",
       "<title>2616514272496&#45;&gt;2616514265248</title>\n",
       "<path fill=\"none\" stroke=\"black\" d=\"M246.77,-123.59C239.32,-116.01 228.65,-105.13 219.71,-96.02\"/>\n",
       "<polygon fill=\"black\" stroke=\"black\" points=\"222.63,-93.98 213.13,-89.3 217.63,-98.89 222.63,-93.98\"/>\n",
       "</g>\n",
       "<!-- 2616507680512 -->\n",
       "<g id=\"node12\" class=\"node\">\n",
       "<title>2616507680512</title>\n",
       "<polygon fill=\"lightgrey\" stroke=\"black\" points=\"300,-256 212,-256 212,-236 300,-236 300,-256\"/>\n",
       "<text text-anchor=\"middle\" x=\"256\" y=\"-242.5\" font-family=\"monospace\" font-size=\"10.00\">SubBackward0</text>\n",
       "</g>\n",
       "<!-- 2616507680512&#45;&gt;2616514272496 -->\n",
       "<g id=\"edge11\" class=\"edge\">\n",
       "<title>2616507680512&#45;&gt;2616514272496</title>\n",
       "<path fill=\"none\" stroke=\"black\" d=\"M256,-235.62C256,-217.92 256,-179.24 256,-155.32\"/>\n",
       "<polygon fill=\"black\" stroke=\"black\" points=\"259.5,-155.35 256,-145.35 252.5,-155.35 259.5,-155.35\"/>\n",
       "</g>\n",
       "<!-- 2616514276000 -->\n",
       "<g id=\"node13\" class=\"node\">\n",
       "<title>2616514276000</title>\n",
       "<polygon fill=\"lightgrey\" stroke=\"black\" points=\"300,-312 212,-312 212,-292 300,-292 300,-312\"/>\n",
       "<text text-anchor=\"middle\" x=\"256\" y=\"-298.5\" font-family=\"monospace\" font-size=\"10.00\">MulBackward0</text>\n",
       "</g>\n",
       "<!-- 2616514276000&#45;&gt;2616507680512 -->\n",
       "<g id=\"edge12\" class=\"edge\">\n",
       "<title>2616514276000&#45;&gt;2616507680512</title>\n",
       "<path fill=\"none\" stroke=\"black\" d=\"M256,-291.59C256,-284.86 256,-275.53 256,-267.15\"/>\n",
       "<polygon fill=\"black\" stroke=\"black\" points=\"259.5,-267.3 256,-257.3 252.5,-267.3 259.5,-267.3\"/>\n",
       "</g>\n",
       "<!-- 2616514275136&#45;&gt;2616514276000 -->\n",
       "<g id=\"edge13\" class=\"edge\">\n",
       "<title>2616514275136&#45;&gt;2616514276000</title>\n",
       "<path fill=\"none\" stroke=\"black\" d=\"M256,-347.59C256,-340.86 256,-331.53 256,-323.15\"/>\n",
       "<polygon fill=\"black\" stroke=\"black\" points=\"259.5,-323.3 256,-313.3 252.5,-323.3 259.5,-323.3\"/>\n",
       "</g>\n",
       "</g>\n",
       "</svg>\n"
      ],
      "text/plain": [
       "<graphviz.graphs.Digraph at 0x26134a42390>"
      ]
     },
     "execution_count": 20,
     "metadata": {},
     "output_type": "execute_result"
    }
   ],
   "source": [
    "def f(x):\n",
    "    return (torch.sin(((x**2)-(3*x)+0.5)**3)/((3*x**2)-1)**4)\n",
    "x = torch.tensor(17.0, requires_grad=True)\n",
    "\n",
    "print('x', x)\n",
    "print('x.grad', x.grad)\n",
    "y = f(x)\n",
    "print('y = f(x)', y)\n",
    "y.backward()\n",
    "print('x', x)\n",
    "print('x.grad', x.grad)\n",
    "make_dot(y)"
   ]
  },
  {
   "cell_type": "code",
   "execution_count": 21,
   "metadata": {},
   "outputs": [
    {
     "name": "stdout",
     "output_type": "stream",
     "text": [
      "x, y tensor(5., requires_grad=True) tensor(-5., requires_grad=True)\n",
      "x.grad None\n",
      "y.grad None\n",
      "t = f(x,y) tensor(250., grad_fn=<AddBackward0>)\n",
      "x, y tensor(5., requires_grad=True) tensor(-5., requires_grad=True)\n",
      "x.grad tensor(-25.)\n",
      "y.grad tensor(-175.)\n"
     ]
    },
    {
     "data": {
      "image/svg+xml": [
       "<?xml version=\"1.0\" encoding=\"UTF-8\" standalone=\"no\"?>\n",
       "<!DOCTYPE svg PUBLIC \"-//W3C//DTD SVG 1.1//EN\"\n",
       " \"http://www.w3.org/Graphics/SVG/1.1/DTD/svg11.dtd\">\n",
       "<!-- Generated by graphviz version 8.1.0 (20230707.0739)\n",
       " -->\n",
       "<!-- Pages: 1 -->\n",
       "<svg width=\"340pt\" height=\"444pt\"\n",
       " viewBox=\"0.00 0.00 340.37 444.00\" xmlns=\"http://www.w3.org/2000/svg\" xmlns:xlink=\"http://www.w3.org/1999/xlink\">\n",
       "<g id=\"graph0\" class=\"graph\" transform=\"scale(1 1) rotate(0) translate(4 440)\">\n",
       "<polygon fill=\"white\" stroke=\"none\" points=\"-4,4 -4,-440 336.37,-440 336.37,4 -4,4\"/>\n",
       "<!-- 2616518565456 -->\n",
       "<g id=\"node1\" class=\"node\">\n",
       "<title>2616518565456</title>\n",
       "<polygon fill=\"#caff70\" stroke=\"black\" points=\"135.85,-32 81.85,-32 81.85,0 135.85,0 135.85,-32\"/>\n",
       "<text text-anchor=\"middle\" x=\"108.85\" y=\"-6.5\" font-family=\"monospace\" font-size=\"10.00\"> ()</text>\n",
       "</g>\n",
       "<!-- 2616514273120 -->\n",
       "<g id=\"node2\" class=\"node\">\n",
       "<title>2616514273120</title>\n",
       "<polygon fill=\"lightgrey\" stroke=\"black\" points=\"152.85,-88 64.85,-88 64.85,-68 152.85,-68 152.85,-88\"/>\n",
       "<text text-anchor=\"middle\" x=\"108.85\" y=\"-74.5\" font-family=\"monospace\" font-size=\"10.00\">AddBackward0</text>\n",
       "</g>\n",
       "<!-- 2616514273120&#45;&gt;2616518565456 -->\n",
       "<g id=\"edge18\" class=\"edge\">\n",
       "<title>2616514273120&#45;&gt;2616518565456</title>\n",
       "<path fill=\"none\" stroke=\"black\" d=\"M108.85,-67.62C108.85,-61.02 108.85,-51.84 108.85,-43.11\"/>\n",
       "<polygon fill=\"black\" stroke=\"black\" points=\"112.35,-43.14 108.85,-33.14 105.35,-43.14 112.35,-43.14\"/>\n",
       "</g>\n",
       "<!-- 2616514275040 -->\n",
       "<g id=\"node3\" class=\"node\">\n",
       "<title>2616514275040</title>\n",
       "<polygon fill=\"lightgrey\" stroke=\"black\" points=\"205.85,-144 117.85,-144 117.85,-124 205.85,-124 205.85,-144\"/>\n",
       "<text text-anchor=\"middle\" x=\"161.85\" y=\"-130.5\" font-family=\"monospace\" font-size=\"10.00\">AddBackward0</text>\n",
       "</g>\n",
       "<!-- 2616514275040&#45;&gt;2616514273120 -->\n",
       "<g id=\"edge1\" class=\"edge\">\n",
       "<title>2616514275040&#45;&gt;2616514273120</title>\n",
       "<path fill=\"none\" stroke=\"black\" d=\"M152.62,-123.59C145.17,-116.01 134.5,-105.13 125.56,-96.02\"/>\n",
       "<polygon fill=\"black\" stroke=\"black\" points=\"128.48,-93.98 118.98,-89.3 123.48,-98.89 128.48,-93.98\"/>\n",
       "</g>\n",
       "<!-- 2616514272880 -->\n",
       "<g id=\"node4\" class=\"node\">\n",
       "<title>2616514272880</title>\n",
       "<polygon fill=\"lightgrey\" stroke=\"black\" points=\"294.85,-200 206.85,-200 206.85,-180 294.85,-180 294.85,-200\"/>\n",
       "<text text-anchor=\"middle\" x=\"250.85\" y=\"-186.5\" font-family=\"monospace\" font-size=\"10.00\">MulBackward0</text>\n",
       "</g>\n",
       "<!-- 2616514272880&#45;&gt;2616514275040 -->\n",
       "<g id=\"edge2\" class=\"edge\">\n",
       "<title>2616514272880&#45;&gt;2616514275040</title>\n",
       "<path fill=\"none\" stroke=\"black\" d=\"M235.35,-179.59C221.9,-171.44 202.2,-159.48 186.58,-150\"/>\n",
       "<polygon fill=\"black\" stroke=\"black\" points=\"188.84,-146.67 178.48,-144.48 185.21,-152.66 188.84,-146.67\"/>\n",
       "</g>\n",
       "<!-- 2616514265152 -->\n",
       "<g id=\"node5\" class=\"node\">\n",
       "<title>2616514265152</title>\n",
       "<polygon fill=\"lightgrey\" stroke=\"black\" points=\"205.85,-256 117.85,-256 117.85,-236 205.85,-236 205.85,-256\"/>\n",
       "<text text-anchor=\"middle\" x=\"161.85\" y=\"-242.5\" font-family=\"monospace\" font-size=\"10.00\">MulBackward0</text>\n",
       "</g>\n",
       "<!-- 2616514265152&#45;&gt;2616514272880 -->\n",
       "<g id=\"edge3\" class=\"edge\">\n",
       "<title>2616514265152&#45;&gt;2616514272880</title>\n",
       "<path fill=\"none\" stroke=\"black\" d=\"M177.35,-235.59C190.8,-227.44 210.5,-215.48 226.12,-206\"/>\n",
       "<polygon fill=\"black\" stroke=\"black\" points=\"227.49,-208.66 234.23,-200.48 223.86,-202.67 227.49,-208.66\"/>\n",
       "</g>\n",
       "<!-- 2616512222672 -->\n",
       "<g id=\"node6\" class=\"node\">\n",
       "<title>2616512222672</title>\n",
       "<polygon fill=\"lightgrey\" stroke=\"black\" points=\"205.85,-312 117.85,-312 117.85,-292 205.85,-292 205.85,-312\"/>\n",
       "<text text-anchor=\"middle\" x=\"161.85\" y=\"-298.5\" font-family=\"monospace\" font-size=\"10.00\">PowBackward0</text>\n",
       "</g>\n",
       "<!-- 2616512222672&#45;&gt;2616514265152 -->\n",
       "<g id=\"edge4\" class=\"edge\">\n",
       "<title>2616512222672&#45;&gt;2616514265152</title>\n",
       "<path fill=\"none\" stroke=\"black\" d=\"M161.85,-291.59C161.85,-284.86 161.85,-275.53 161.85,-267.15\"/>\n",
       "<polygon fill=\"black\" stroke=\"black\" points=\"165.35,-267.3 161.85,-257.3 158.35,-267.3 165.35,-267.3\"/>\n",
       "</g>\n",
       "<!-- 2616512224448 -->\n",
       "<g id=\"node7\" class=\"node\">\n",
       "<title>2616512224448</title>\n",
       "<polygon fill=\"lightgrey\" stroke=\"black\" points=\"105.85,-368 5.85,-368 5.85,-348 105.85,-348 105.85,-368\"/>\n",
       "<text text-anchor=\"middle\" x=\"55.85\" y=\"-354.5\" font-family=\"monospace\" font-size=\"10.00\">AccumulateGrad</text>\n",
       "</g>\n",
       "<!-- 2616512224448&#45;&gt;2616512222672 -->\n",
       "<g id=\"edge5\" class=\"edge\">\n",
       "<title>2616512224448&#45;&gt;2616512222672</title>\n",
       "<path fill=\"none\" stroke=\"black\" d=\"M74.32,-347.59C90.63,-339.28 114.68,-327.03 133.45,-317.47\"/>\n",
       "<polygon fill=\"black\" stroke=\"black\" points=\"134.92,-320.14 142.24,-312.48 131.74,-313.9 134.92,-320.14\"/>\n",
       "</g>\n",
       "<!-- 2616514273744 -->\n",
       "<g id=\"node11\" class=\"node\">\n",
       "<title>2616514273744</title>\n",
       "<polygon fill=\"lightgrey\" stroke=\"black\" points=\"188.85,-200 100.85,-200 100.85,-180 188.85,-180 188.85,-200\"/>\n",
       "<text text-anchor=\"middle\" x=\"144.85\" y=\"-186.5\" font-family=\"monospace\" font-size=\"10.00\">MulBackward0</text>\n",
       "</g>\n",
       "<!-- 2616512224448&#45;&gt;2616514273744 -->\n",
       "<g id=\"edge13\" class=\"edge\">\n",
       "<title>2616512224448&#45;&gt;2616514273744</title>\n",
       "<path fill=\"none\" stroke=\"black\" d=\"M38.43,-347.58C18.92,-335.7 -8.56,-314.13 2.85,-292 25.13,-248.81 75.37,-220.05 109.7,-204.62\"/>\n",
       "<polygon fill=\"black\" stroke=\"black\" points=\"110.57,-207.63 118.36,-200.44 107.79,-201.2 110.57,-207.63\"/>\n",
       "</g>\n",
       "<!-- 2616514265680 -->\n",
       "<g id=\"node15\" class=\"node\">\n",
       "<title>2616514265680</title>\n",
       "<polygon fill=\"lightgrey\" stroke=\"black\" points=\"99.85,-312 11.85,-312 11.85,-292 99.85,-292 99.85,-312\"/>\n",
       "<text text-anchor=\"middle\" x=\"55.85\" y=\"-298.5\" font-family=\"monospace\" font-size=\"10.00\">AddBackward0</text>\n",
       "</g>\n",
       "<!-- 2616512224448&#45;&gt;2616514265680 -->\n",
       "<g id=\"edge16\" class=\"edge\">\n",
       "<title>2616512224448&#45;&gt;2616514265680</title>\n",
       "<path fill=\"none\" stroke=\"black\" d=\"M55.85,-347.59C55.85,-340.86 55.85,-331.53 55.85,-323.15\"/>\n",
       "<polygon fill=\"black\" stroke=\"black\" points=\"59.35,-323.3 55.85,-313.3 52.35,-323.3 59.35,-323.3\"/>\n",
       "</g>\n",
       "<!-- 2616512132384 -->\n",
       "<g id=\"node8\" class=\"node\">\n",
       "<title>2616512132384</title>\n",
       "<polygon fill=\"lightblue\" stroke=\"black\" points=\"82.85,-436 28.85,-436 28.85,-404 82.85,-404 82.85,-436\"/>\n",
       "<text text-anchor=\"middle\" x=\"55.85\" y=\"-410.5\" font-family=\"monospace\" font-size=\"10.00\"> ()</text>\n",
       "</g>\n",
       "<!-- 2616512132384&#45;&gt;2616512224448 -->\n",
       "<g id=\"edge6\" class=\"edge\">\n",
       "<title>2616512132384&#45;&gt;2616512224448</title>\n",
       "<path fill=\"none\" stroke=\"black\" d=\"M55.85,-403.55C55.85,-396.17 55.85,-387.24 55.85,-379.32\"/>\n",
       "<polygon fill=\"black\" stroke=\"black\" points=\"59.35,-379.41 55.85,-369.41 52.35,-379.41 59.35,-379.41\"/>\n",
       "</g>\n",
       "<!-- 2616514265728 -->\n",
       "<g id=\"node9\" class=\"node\">\n",
       "<title>2616514265728</title>\n",
       "<polygon fill=\"lightgrey\" stroke=\"black\" points=\"317.85,-368 217.85,-368 217.85,-348 317.85,-348 317.85,-368\"/>\n",
       "<text text-anchor=\"middle\" x=\"267.85\" y=\"-354.5\" font-family=\"monospace\" font-size=\"10.00\">AccumulateGrad</text>\n",
       "</g>\n",
       "<!-- 2616514265728&#45;&gt;2616514272880 -->\n",
       "<g id=\"edge7\" class=\"edge\">\n",
       "<title>2616514265728&#45;&gt;2616514272880</title>\n",
       "<path fill=\"none\" stroke=\"black\" d=\"M285.48,-347.59C297.91,-339.87 313.6,-327.66 320.85,-312 335.04,-281.35 337.04,-265.65 320.85,-236 313.39,-222.33 299.79,-212.19 286.55,-205.03\"/>\n",
       "<polygon fill=\"black\" stroke=\"black\" points=\"288.59,-201.64 278.07,-200.34 285.48,-207.91 288.59,-201.64\"/>\n",
       "</g>\n",
       "<!-- 2616512222096 -->\n",
       "<g id=\"node13\" class=\"node\">\n",
       "<title>2616512222096</title>\n",
       "<polygon fill=\"lightgrey\" stroke=\"black\" points=\"311.85,-312 223.85,-312 223.85,-292 311.85,-292 311.85,-312\"/>\n",
       "<text text-anchor=\"middle\" x=\"267.85\" y=\"-298.5\" font-family=\"monospace\" font-size=\"10.00\">PowBackward0</text>\n",
       "</g>\n",
       "<!-- 2616514265728&#45;&gt;2616512222096 -->\n",
       "<g id=\"edge12\" class=\"edge\">\n",
       "<title>2616514265728&#45;&gt;2616512222096</title>\n",
       "<path fill=\"none\" stroke=\"black\" d=\"M267.85,-347.59C267.85,-340.86 267.85,-331.53 267.85,-323.15\"/>\n",
       "<polygon fill=\"black\" stroke=\"black\" points=\"271.35,-323.3 267.85,-313.3 264.35,-323.3 271.35,-323.3\"/>\n",
       "</g>\n",
       "<!-- 2616514265728&#45;&gt;2616514265680 -->\n",
       "<g id=\"edge17\" class=\"edge\">\n",
       "<title>2616514265728&#45;&gt;2616514265680</title>\n",
       "<path fill=\"none\" stroke=\"black\" d=\"M230.92,-347.59C195.57,-338.59 142.07,-324.96 103.52,-315.14\"/>\n",
       "<polygon fill=\"black\" stroke=\"black\" points=\"104.62,-311.56 94.07,-312.48 102.89,-318.34 104.62,-311.56\"/>\n",
       "</g>\n",
       "<!-- 2616481661888 -->\n",
       "<g id=\"node10\" class=\"node\">\n",
       "<title>2616481661888</title>\n",
       "<polygon fill=\"lightblue\" stroke=\"black\" points=\"294.85,-436 240.85,-436 240.85,-404 294.85,-404 294.85,-436\"/>\n",
       "<text text-anchor=\"middle\" x=\"267.85\" y=\"-410.5\" font-family=\"monospace\" font-size=\"10.00\"> ()</text>\n",
       "</g>\n",
       "<!-- 2616481661888&#45;&gt;2616514265728 -->\n",
       "<g id=\"edge8\" class=\"edge\">\n",
       "<title>2616481661888&#45;&gt;2616514265728</title>\n",
       "<path fill=\"none\" stroke=\"black\" d=\"M267.85,-403.55C267.85,-396.17 267.85,-387.24 267.85,-379.32\"/>\n",
       "<polygon fill=\"black\" stroke=\"black\" points=\"271.35,-379.41 267.85,-369.41 264.35,-379.41 271.35,-379.41\"/>\n",
       "</g>\n",
       "<!-- 2616514273744&#45;&gt;2616514275040 -->\n",
       "<g id=\"edge9\" class=\"edge\">\n",
       "<title>2616514273744&#45;&gt;2616514275040</title>\n",
       "<path fill=\"none\" stroke=\"black\" d=\"M147.81,-179.59C149.98,-172.7 153,-163.1 155.69,-154.57\"/>\n",
       "<polygon fill=\"black\" stroke=\"black\" points=\"159.26,-155.89 158.92,-145.3 152.58,-153.79 159.26,-155.89\"/>\n",
       "</g>\n",
       "<!-- 2616512227472 -->\n",
       "<g id=\"node12\" class=\"node\">\n",
       "<title>2616512227472</title>\n",
       "<polygon fill=\"lightgrey\" stroke=\"black\" points=\"311.85,-256 223.85,-256 223.85,-236 311.85,-236 311.85,-256\"/>\n",
       "<text text-anchor=\"middle\" x=\"267.85\" y=\"-242.5\" font-family=\"monospace\" font-size=\"10.00\">MulBackward0</text>\n",
       "</g>\n",
       "<!-- 2616512227472&#45;&gt;2616514273744 -->\n",
       "<g id=\"edge10\" class=\"edge\">\n",
       "<title>2616512227472&#45;&gt;2616514273744</title>\n",
       "<path fill=\"none\" stroke=\"black\" d=\"M246.43,-235.59C227.06,-227.09 198.29,-214.46 176.31,-204.81\"/>\n",
       "<polygon fill=\"black\" stroke=\"black\" points=\"178.01,-201.29 167.44,-200.48 175.19,-207.7 178.01,-201.29\"/>\n",
       "</g>\n",
       "<!-- 2616512222096&#45;&gt;2616512227472 -->\n",
       "<g id=\"edge11\" class=\"edge\">\n",
       "<title>2616512222096&#45;&gt;2616512227472</title>\n",
       "<path fill=\"none\" stroke=\"black\" d=\"M267.85,-291.59C267.85,-284.86 267.85,-275.53 267.85,-267.15\"/>\n",
       "<polygon fill=\"black\" stroke=\"black\" points=\"271.35,-267.3 267.85,-257.3 264.35,-267.3 271.35,-267.3\"/>\n",
       "</g>\n",
       "<!-- 2616514274944 -->\n",
       "<g id=\"node14\" class=\"node\">\n",
       "<title>2616514274944</title>\n",
       "<polygon fill=\"lightgrey\" stroke=\"black\" points=\"99.85,-144 11.85,-144 11.85,-124 99.85,-124 99.85,-144\"/>\n",
       "<text text-anchor=\"middle\" x=\"55.85\" y=\"-130.5\" font-family=\"monospace\" font-size=\"10.00\">PowBackward0</text>\n",
       "</g>\n",
       "<!-- 2616514274944&#45;&gt;2616514273120 -->\n",
       "<g id=\"edge14\" class=\"edge\">\n",
       "<title>2616514274944&#45;&gt;2616514273120</title>\n",
       "<path fill=\"none\" stroke=\"black\" d=\"M65.08,-123.59C72.53,-116.01 83.2,-105.13 92.14,-96.02\"/>\n",
       "<polygon fill=\"black\" stroke=\"black\" points=\"94.22,-98.89 98.73,-89.3 89.22,-93.98 94.22,-98.89\"/>\n",
       "</g>\n",
       "<!-- 2616514265680&#45;&gt;2616514274944 -->\n",
       "<g id=\"edge15\" class=\"edge\">\n",
       "<title>2616514265680&#45;&gt;2616514274944</title>\n",
       "<path fill=\"none\" stroke=\"black\" d=\"M55.85,-291.6C55.85,-265.35 55.85,-190.84 55.85,-154.89\"/>\n",
       "<polygon fill=\"black\" stroke=\"black\" points=\"59.35,-155.3 55.85,-145.3 52.35,-155.3 59.35,-155.3\"/>\n",
       "</g>\n",
       "</g>\n",
       "</svg>\n"
      ],
      "text/plain": [
       "<graphviz.graphs.Digraph at 0x26134301010>"
      ]
     },
     "execution_count": 21,
     "metadata": {},
     "output_type": "execute_result"
    }
   ],
   "source": [
    "def f(x,y):\n",
    "    return ((3*x**2*y)+(5*y**2*x)+(x+y)**3)\n",
    "x = torch.tensor(5.0, requires_grad=True)\n",
    "y = torch.tensor(-5.0, requires_grad=True)\n",
    "\n",
    "print('x, y', x, y)\n",
    "print('x.grad', x.grad)\n",
    "print('y.grad', y.grad)\n",
    "t = f(x,y)\n",
    "print('t = f(x,y)', t)\n",
    "t.backward()\n",
    "print('x, y', x, y)\n",
    "print('x.grad', x.grad)\n",
    "print('y.grad', y.grad)\n",
    "make_dot(t)"
   ]
  },
  {
   "cell_type": "code",
   "execution_count": 66,
   "metadata": {},
   "outputs": [
    {
     "name": "stdout",
     "output_type": "stream",
     "text": [
      "tensor(-4.5800, grad_fn=<AddBackward0>)\n",
      "tensor(-9.5800, grad_fn=<SubBackward0>)\n"
     ]
    }
   ],
   "source": [
    "w = torch.tensor([2.1, 4.2, 5.0], requires_grad=True)\n",
    "x = torch.tensor([1.2, -0.5, -1.0])\n",
    "y = torch.tensor(5.0)\n",
    "output = sum(x*w)\n",
    "error = output-y\n",
    "print(output)\n",
    "print(error)\n",
    "# objective = \n"
   ]
  }
 ],
 "metadata": {
  "kernelspec": {
   "display_name": "Python 3",
   "language": "python",
   "name": "python3"
  },
  "language_info": {
   "codemirror_mode": {
    "name": "ipython",
    "version": 3
   },
   "file_extension": ".py",
   "mimetype": "text/x-python",
   "name": "python",
   "nbconvert_exporter": "python",
   "pygments_lexer": "ipython3",
   "version": "3.11.4"
  },
  "orig_nbformat": 4
 },
 "nbformat": 4,
 "nbformat_minor": 2
}

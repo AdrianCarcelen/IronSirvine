{
 "cells": [
  {
   "cell_type": "code",
   "execution_count": 1,
   "metadata": {},
   "outputs": [],
   "source": [
    "from sympy import symbols, diff"
   ]
  },
  {
   "cell_type": "code",
   "execution_count": 32,
   "metadata": {},
   "outputs": [
    {
     "name": "stdout",
     "output_type": "stream",
     "text": [
      "0.49999999995322447\n"
     ]
    }
   ],
   "source": [
    "x = -0.25\n",
    "l = 0.8\n",
    "diff = 1\n",
    "\n",
    "def f(r=0):\n",
    "    result = ((2*r) - 1)\n",
    "    return result\n",
    "\n",
    "# for i in range(20):\n",
    "#     x = x - (l*f(x))\n",
    "#     print(x)\n",
    "\n",
    "while diff > 1e-10:\n",
    "    x = x - (l*f(x))\n",
    "    diff = abs(l*f(x))\n",
    "    \n",
    "print(x)\n"
   ]
  },
  {
   "cell_type": "code",
   "execution_count": 15,
   "metadata": {},
   "outputs": [
    {
     "data": {
      "text/plain": [
       "2.8125"
      ]
     },
     "execution_count": 15,
     "metadata": {},
     "output_type": "execute_result"
    }
   ],
   "source": [
    "x = 0.25\n",
    "\n",
    "def f(r=0):\n",
    "    result = ((r**2) - r + 3)\n",
    "    return result\n",
    "\n",
    "f(x)"
   ]
  }
 ],
 "metadata": {
  "kernelspec": {
   "display_name": "Python 3",
   "language": "python",
   "name": "python3"
  },
  "language_info": {
   "codemirror_mode": {
    "name": "ipython",
    "version": 3
   },
   "file_extension": ".py",
   "mimetype": "text/x-python",
   "name": "python",
   "nbconvert_exporter": "python",
   "pygments_lexer": "ipython3",
   "version": "3.11.4"
  },
  "orig_nbformat": 4
 },
 "nbformat": 4,
 "nbformat_minor": 2
}

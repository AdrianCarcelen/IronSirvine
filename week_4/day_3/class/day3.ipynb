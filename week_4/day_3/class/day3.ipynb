{
 "cells": [
  {
   "cell_type": "markdown",
   "metadata": {},
   "source": [
    "## Computer don't do exact math"
   ]
  },
  {
   "cell_type": "code",
   "execution_count": 2,
   "metadata": {},
   "outputs": [
    {
     "data": {
      "text/plain": [
       "0.30000000000000004"
      ]
     },
     "execution_count": 2,
     "metadata": {},
     "output_type": "execute_result"
    }
   ],
   "source": [
    "0.2 + 0.1\n"
   ]
  },
  {
   "cell_type": "markdown",
   "metadata": {},
   "source": [
    "## Maxime's way vs Standrad way of computing std"
   ]
  },
  {
   "cell_type": "code",
   "execution_count": 3,
   "metadata": {},
   "outputs": [
    {
     "name": "stdout",
     "output_type": "stream",
     "text": [
      "[ 4  8 16 20]\n"
     ]
    },
    {
     "data": {
      "text/plain": [
       "12.0"
      ]
     },
     "execution_count": 3,
     "metadata": {},
     "output_type": "execute_result"
    }
   ],
   "source": [
    "import numpy as np\n",
    "\n",
    "a = np.array([2,4,8,10])*2\n",
    "print(a)\n",
    "m = a.mean()\n",
    "m"
   ]
  },
  {
   "cell_type": "code",
   "execution_count": 4,
   "metadata": {},
   "outputs": [
    {
     "data": {
      "text/plain": [
       "6.0"
      ]
     },
     "execution_count": 4,
     "metadata": {},
     "output_type": "execute_result"
    }
   ],
   "source": [
    "(np.abs(a-m)).mean()"
   ]
  },
  {
   "cell_type": "code",
   "execution_count": 5,
   "metadata": {},
   "outputs": [
    {
     "data": {
      "text/plain": [
       "7.302967433402215"
      ]
     },
     "execution_count": 5,
     "metadata": {},
     "output_type": "execute_result"
    }
   ],
   "source": [
    "np.sqrt(((a-m)**2).sum()/3)"
   ]
  },
  {
   "cell_type": "code",
   "execution_count": 6,
   "metadata": {},
   "outputs": [
    {
     "data": {
      "text/plain": [
       "[4.0, 8.0, 16.0, 20.0]"
      ]
     },
     "execution_count": 6,
     "metadata": {},
     "output_type": "execute_result"
    }
   ],
   "source": [
    "b = [float(x) for x in a]\n",
    "b"
   ]
  },
  {
   "cell_type": "code",
   "execution_count": 7,
   "metadata": {},
   "outputs": [
    {
     "data": {
      "text/plain": [
       "7.302967433402215"
      ]
     },
     "execution_count": 7,
     "metadata": {},
     "output_type": "execute_result"
    }
   ],
   "source": [
    "import statistics\n",
    "statistics.stdev(b)"
   ]
  },
  {
   "cell_type": "markdown",
   "metadata": {},
   "source": [
    "## Field Relationships and Correlations"
   ]
  },
  {
   "cell_type": "code",
   "execution_count": 8,
   "metadata": {},
   "outputs": [],
   "source": [
    "import numpy as np\n",
    "import pandas as pd\n",
    "\n",
    "vehicles = pd.read_csv('vehicles/vehicles.csv')"
   ]
  },
  {
   "cell_type": "code",
   "execution_count": 9,
   "metadata": {},
   "outputs": [
    {
     "data": {
      "text/html": [
       "<div>\n",
       "<style scoped>\n",
       "    .dataframe tbody tr th:only-of-type {\n",
       "        vertical-align: middle;\n",
       "    }\n",
       "\n",
       "    .dataframe tbody tr th {\n",
       "        vertical-align: top;\n",
       "    }\n",
       "\n",
       "    .dataframe thead th {\n",
       "        text-align: right;\n",
       "    }\n",
       "</style>\n",
       "<table border=\"1\" class=\"dataframe\">\n",
       "  <thead>\n",
       "    <tr style=\"text-align: right;\">\n",
       "      <th></th>\n",
       "      <th>Make</th>\n",
       "      <th>Model</th>\n",
       "      <th>Year</th>\n",
       "      <th>Engine Displacement</th>\n",
       "      <th>Cylinders</th>\n",
       "      <th>Transmission</th>\n",
       "      <th>Drivetrain</th>\n",
       "      <th>Vehicle Class</th>\n",
       "      <th>Fuel Type</th>\n",
       "      <th>Fuel Barrels/Year</th>\n",
       "      <th>City MPG</th>\n",
       "      <th>Highway MPG</th>\n",
       "      <th>Combined MPG</th>\n",
       "      <th>CO2 Emission Grams/Mile</th>\n",
       "      <th>Fuel Cost/Year</th>\n",
       "    </tr>\n",
       "  </thead>\n",
       "  <tbody>\n",
       "    <tr>\n",
       "      <th>0</th>\n",
       "      <td>AM General</td>\n",
       "      <td>DJ Po Vehicle 2WD</td>\n",
       "      <td>1984</td>\n",
       "      <td>2.5</td>\n",
       "      <td>4.0</td>\n",
       "      <td>Automatic 3-spd</td>\n",
       "      <td>2-Wheel Drive</td>\n",
       "      <td>Special Purpose Vehicle 2WD</td>\n",
       "      <td>Regular</td>\n",
       "      <td>19.388824</td>\n",
       "      <td>18</td>\n",
       "      <td>17</td>\n",
       "      <td>17</td>\n",
       "      <td>522.764706</td>\n",
       "      <td>1950</td>\n",
       "    </tr>\n",
       "    <tr>\n",
       "      <th>1</th>\n",
       "      <td>AM General</td>\n",
       "      <td>FJ8c Post Office</td>\n",
       "      <td>1984</td>\n",
       "      <td>4.2</td>\n",
       "      <td>6.0</td>\n",
       "      <td>Automatic 3-spd</td>\n",
       "      <td>2-Wheel Drive</td>\n",
       "      <td>Special Purpose Vehicle 2WD</td>\n",
       "      <td>Regular</td>\n",
       "      <td>25.354615</td>\n",
       "      <td>13</td>\n",
       "      <td>13</td>\n",
       "      <td>13</td>\n",
       "      <td>683.615385</td>\n",
       "      <td>2550</td>\n",
       "    </tr>\n",
       "  </tbody>\n",
       "</table>\n",
       "</div>"
      ],
      "text/plain": [
       "         Make              Model  Year  Engine Displacement  Cylinders  \\\n",
       "0  AM General  DJ Po Vehicle 2WD  1984                  2.5        4.0   \n",
       "1  AM General   FJ8c Post Office  1984                  4.2        6.0   \n",
       "\n",
       "      Transmission     Drivetrain                Vehicle Class Fuel Type  \\\n",
       "0  Automatic 3-spd  2-Wheel Drive  Special Purpose Vehicle 2WD   Regular   \n",
       "1  Automatic 3-spd  2-Wheel Drive  Special Purpose Vehicle 2WD   Regular   \n",
       "\n",
       "   Fuel Barrels/Year  City MPG  Highway MPG  Combined MPG  \\\n",
       "0          19.388824        18           17            17   \n",
       "1          25.354615        13           13            13   \n",
       "\n",
       "   CO2 Emission Grams/Mile  Fuel Cost/Year  \n",
       "0               522.764706            1950  \n",
       "1               683.615385            2550  "
      ]
     },
     "execution_count": 9,
     "metadata": {},
     "output_type": "execute_result"
    }
   ],
   "source": [
    "vehicles.head(2)"
   ]
  },
  {
   "cell_type": "code",
   "execution_count": 10,
   "metadata": {},
   "outputs": [
    {
     "data": {
      "text/plain": [
       "0.9238555885288401"
      ]
     },
     "execution_count": 10,
     "metadata": {},
     "output_type": "execute_result"
    }
   ],
   "source": [
    "vehicles['City MPG'].corr(vehicles['Highway MPG'])"
   ]
  },
  {
   "cell_type": "code",
   "execution_count": 11,
   "metadata": {},
   "outputs": [
    {
     "name": "stdout",
     "output_type": "stream",
     "text": [
      "<class 'pandas.core.frame.DataFrame'>\n",
      "RangeIndex: 35952 entries, 0 to 35951\n",
      "Data columns (total 15 columns):\n",
      " #   Column                   Non-Null Count  Dtype  \n",
      "---  ------                   --------------  -----  \n",
      " 0   Make                     35952 non-null  object \n",
      " 1   Model                    35952 non-null  object \n",
      " 2   Year                     35952 non-null  int64  \n",
      " 3   Engine Displacement      35952 non-null  float64\n",
      " 4   Cylinders                35952 non-null  float64\n",
      " 5   Transmission             35952 non-null  object \n",
      " 6   Drivetrain               35952 non-null  object \n",
      " 7   Vehicle Class            35952 non-null  object \n",
      " 8   Fuel Type                35952 non-null  object \n",
      " 9   Fuel Barrels/Year        35952 non-null  float64\n",
      " 10  City MPG                 35952 non-null  int64  \n",
      " 11  Highway MPG              35952 non-null  int64  \n",
      " 12  Combined MPG             35952 non-null  int64  \n",
      " 13  CO2 Emission Grams/Mile  35952 non-null  float64\n",
      " 14  Fuel Cost/Year           35952 non-null  int64  \n",
      "dtypes: float64(4), int64(5), object(6)\n",
      "memory usage: 4.1+ MB\n"
     ]
    }
   ],
   "source": [
    "vehicles.info()"
   ]
  },
  {
   "cell_type": "code",
   "execution_count": 12,
   "metadata": {},
   "outputs": [
    {
     "data": {
      "text/html": [
       "<div>\n",
       "<style scoped>\n",
       "    .dataframe tbody tr th:only-of-type {\n",
       "        vertical-align: middle;\n",
       "    }\n",
       "\n",
       "    .dataframe tbody tr th {\n",
       "        vertical-align: top;\n",
       "    }\n",
       "\n",
       "    .dataframe thead th {\n",
       "        text-align: right;\n",
       "    }\n",
       "</style>\n",
       "<table border=\"1\" class=\"dataframe\">\n",
       "  <thead>\n",
       "    <tr style=\"text-align: right;\">\n",
       "      <th></th>\n",
       "      <th>Year</th>\n",
       "      <th>Engine Displacement</th>\n",
       "      <th>Cylinders</th>\n",
       "      <th>Fuel Barrels/Year</th>\n",
       "      <th>City MPG</th>\n",
       "      <th>Highway MPG</th>\n",
       "      <th>Combined MPG</th>\n",
       "      <th>CO2 Emission Grams/Mile</th>\n",
       "      <th>Fuel Cost/Year</th>\n",
       "    </tr>\n",
       "  </thead>\n",
       "  <tbody>\n",
       "    <tr>\n",
       "      <th>0</th>\n",
       "      <td>1984</td>\n",
       "      <td>2.5</td>\n",
       "      <td>4.0</td>\n",
       "      <td>19.388824</td>\n",
       "      <td>18</td>\n",
       "      <td>17</td>\n",
       "      <td>17</td>\n",
       "      <td>522.764706</td>\n",
       "      <td>1950</td>\n",
       "    </tr>\n",
       "    <tr>\n",
       "      <th>1</th>\n",
       "      <td>1984</td>\n",
       "      <td>4.2</td>\n",
       "      <td>6.0</td>\n",
       "      <td>25.354615</td>\n",
       "      <td>13</td>\n",
       "      <td>13</td>\n",
       "      <td>13</td>\n",
       "      <td>683.615385</td>\n",
       "      <td>2550</td>\n",
       "    </tr>\n",
       "  </tbody>\n",
       "</table>\n",
       "</div>"
      ],
      "text/plain": [
       "   Year  Engine Displacement  Cylinders  Fuel Barrels/Year  City MPG  \\\n",
       "0  1984                  2.5        4.0          19.388824        18   \n",
       "1  1984                  4.2        6.0          25.354615        13   \n",
       "\n",
       "   Highway MPG  Combined MPG  CO2 Emission Grams/Mile  Fuel Cost/Year  \n",
       "0           17            17               522.764706            1950  \n",
       "1           13            13               683.615385            2550  "
      ]
     },
     "execution_count": 12,
     "metadata": {},
     "output_type": "execute_result"
    }
   ],
   "source": [
    "# take only numerical columns\n",
    "df = vehicles.select_dtypes(include=['int64', 'float64'])\n",
    "df.head(2)"
   ]
  },
  {
   "cell_type": "code",
   "execution_count": 13,
   "metadata": {},
   "outputs": [
    {
     "data": {
      "text/html": [
       "<div>\n",
       "<style scoped>\n",
       "    .dataframe tbody tr th:only-of-type {\n",
       "        vertical-align: middle;\n",
       "    }\n",
       "\n",
       "    .dataframe tbody tr th {\n",
       "        vertical-align: top;\n",
       "    }\n",
       "\n",
       "    .dataframe thead th {\n",
       "        text-align: right;\n",
       "    }\n",
       "</style>\n",
       "<table border=\"1\" class=\"dataframe\">\n",
       "  <thead>\n",
       "    <tr style=\"text-align: right;\">\n",
       "      <th></th>\n",
       "      <th>Year</th>\n",
       "      <th>Engine Displacement</th>\n",
       "      <th>Cylinders</th>\n",
       "      <th>Fuel Barrels/Year</th>\n",
       "      <th>City MPG</th>\n",
       "      <th>Highway MPG</th>\n",
       "      <th>Combined MPG</th>\n",
       "      <th>CO2 Emission Grams/Mile</th>\n",
       "      <th>Fuel Cost/Year</th>\n",
       "    </tr>\n",
       "  </thead>\n",
       "  <tbody>\n",
       "    <tr>\n",
       "      <th>Year</th>\n",
       "      <td>1.000000</td>\n",
       "      <td>0.037876</td>\n",
       "      <td>0.082469</td>\n",
       "      <td>-0.221084</td>\n",
       "      <td>0.161818</td>\n",
       "      <td>0.267259</td>\n",
       "      <td>0.204751</td>\n",
       "      <td>-0.222300</td>\n",
       "      <td>-0.091913</td>\n",
       "    </tr>\n",
       "    <tr>\n",
       "      <th>Engine Displacement</th>\n",
       "      <td>0.037876</td>\n",
       "      <td>1.000000</td>\n",
       "      <td>0.901858</td>\n",
       "      <td>0.789752</td>\n",
       "      <td>-0.740317</td>\n",
       "      <td>-0.715039</td>\n",
       "      <td>-0.746782</td>\n",
       "      <td>0.803520</td>\n",
       "      <td>0.769678</td>\n",
       "    </tr>\n",
       "    <tr>\n",
       "      <th>Cylinders</th>\n",
       "      <td>0.082469</td>\n",
       "      <td>0.901858</td>\n",
       "      <td>1.000000</td>\n",
       "      <td>0.739517</td>\n",
       "      <td>-0.703866</td>\n",
       "      <td>-0.650287</td>\n",
       "      <td>-0.698648</td>\n",
       "      <td>0.752393</td>\n",
       "      <td>0.778153</td>\n",
       "    </tr>\n",
       "    <tr>\n",
       "      <th>Fuel Barrels/Year</th>\n",
       "      <td>-0.221084</td>\n",
       "      <td>0.789752</td>\n",
       "      <td>0.739517</td>\n",
       "      <td>1.000000</td>\n",
       "      <td>-0.877752</td>\n",
       "      <td>-0.909664</td>\n",
       "      <td>-0.909743</td>\n",
       "      <td>0.986189</td>\n",
       "      <td>0.916208</td>\n",
       "    </tr>\n",
       "    <tr>\n",
       "      <th>City MPG</th>\n",
       "      <td>0.161818</td>\n",
       "      <td>-0.740317</td>\n",
       "      <td>-0.703866</td>\n",
       "      <td>-0.877752</td>\n",
       "      <td>1.000000</td>\n",
       "      <td>0.923856</td>\n",
       "      <td>0.985457</td>\n",
       "      <td>-0.894139</td>\n",
       "      <td>-0.858645</td>\n",
       "    </tr>\n",
       "    <tr>\n",
       "      <th>Highway MPG</th>\n",
       "      <td>0.267259</td>\n",
       "      <td>-0.715039</td>\n",
       "      <td>-0.650287</td>\n",
       "      <td>-0.909664</td>\n",
       "      <td>0.923856</td>\n",
       "      <td>1.000000</td>\n",
       "      <td>0.969392</td>\n",
       "      <td>-0.926405</td>\n",
       "      <td>-0.851404</td>\n",
       "    </tr>\n",
       "    <tr>\n",
       "      <th>Combined MPG</th>\n",
       "      <td>0.204751</td>\n",
       "      <td>-0.746782</td>\n",
       "      <td>-0.698648</td>\n",
       "      <td>-0.909743</td>\n",
       "      <td>0.985457</td>\n",
       "      <td>0.969392</td>\n",
       "      <td>1.000000</td>\n",
       "      <td>-0.926229</td>\n",
       "      <td>-0.875185</td>\n",
       "    </tr>\n",
       "    <tr>\n",
       "      <th>CO2 Emission Grams/Mile</th>\n",
       "      <td>-0.222300</td>\n",
       "      <td>0.803520</td>\n",
       "      <td>0.752393</td>\n",
       "      <td>0.986189</td>\n",
       "      <td>-0.894139</td>\n",
       "      <td>-0.926405</td>\n",
       "      <td>-0.926229</td>\n",
       "      <td>1.000000</td>\n",
       "      <td>0.930865</td>\n",
       "    </tr>\n",
       "    <tr>\n",
       "      <th>Fuel Cost/Year</th>\n",
       "      <td>-0.091913</td>\n",
       "      <td>0.769678</td>\n",
       "      <td>0.778153</td>\n",
       "      <td>0.916208</td>\n",
       "      <td>-0.858645</td>\n",
       "      <td>-0.851404</td>\n",
       "      <td>-0.875185</td>\n",
       "      <td>0.930865</td>\n",
       "      <td>1.000000</td>\n",
       "    </tr>\n",
       "  </tbody>\n",
       "</table>\n",
       "</div>"
      ],
      "text/plain": [
       "                             Year  Engine Displacement  Cylinders  \\\n",
       "Year                     1.000000             0.037876   0.082469   \n",
       "Engine Displacement      0.037876             1.000000   0.901858   \n",
       "Cylinders                0.082469             0.901858   1.000000   \n",
       "Fuel Barrels/Year       -0.221084             0.789752   0.739517   \n",
       "City MPG                 0.161818            -0.740317  -0.703866   \n",
       "Highway MPG              0.267259            -0.715039  -0.650287   \n",
       "Combined MPG             0.204751            -0.746782  -0.698648   \n",
       "CO2 Emission Grams/Mile -0.222300             0.803520   0.752393   \n",
       "Fuel Cost/Year          -0.091913             0.769678   0.778153   \n",
       "\n",
       "                         Fuel Barrels/Year  City MPG  Highway MPG  \\\n",
       "Year                             -0.221084  0.161818     0.267259   \n",
       "Engine Displacement               0.789752 -0.740317    -0.715039   \n",
       "Cylinders                         0.739517 -0.703866    -0.650287   \n",
       "Fuel Barrels/Year                 1.000000 -0.877752    -0.909664   \n",
       "City MPG                         -0.877752  1.000000     0.923856   \n",
       "Highway MPG                      -0.909664  0.923856     1.000000   \n",
       "Combined MPG                     -0.909743  0.985457     0.969392   \n",
       "CO2 Emission Grams/Mile           0.986189 -0.894139    -0.926405   \n",
       "Fuel Cost/Year                    0.916208 -0.858645    -0.851404   \n",
       "\n",
       "                         Combined MPG  CO2 Emission Grams/Mile  Fuel Cost/Year  \n",
       "Year                         0.204751                -0.222300       -0.091913  \n",
       "Engine Displacement         -0.746782                 0.803520        0.769678  \n",
       "Cylinders                   -0.698648                 0.752393        0.778153  \n",
       "Fuel Barrels/Year           -0.909743                 0.986189        0.916208  \n",
       "City MPG                     0.985457                -0.894139       -0.858645  \n",
       "Highway MPG                  0.969392                -0.926405       -0.851404  \n",
       "Combined MPG                 1.000000                -0.926229       -0.875185  \n",
       "CO2 Emission Grams/Mile     -0.926229                 1.000000        0.930865  \n",
       "Fuel Cost/Year              -0.875185                 0.930865        1.000000  "
      ]
     },
     "execution_count": 13,
     "metadata": {},
     "output_type": "execute_result"
    }
   ],
   "source": [
    "df.corr()"
   ]
  },
  {
   "cell_type": "code",
   "execution_count": 14,
   "metadata": {},
   "outputs": [
    {
     "data": {
      "text/html": [
       "<div>\n",
       "<style scoped>\n",
       "    .dataframe tbody tr th:only-of-type {\n",
       "        vertical-align: middle;\n",
       "    }\n",
       "\n",
       "    .dataframe tbody tr th {\n",
       "        vertical-align: top;\n",
       "    }\n",
       "\n",
       "    .dataframe thead th {\n",
       "        text-align: right;\n",
       "    }\n",
       "</style>\n",
       "<table border=\"1\" class=\"dataframe\">\n",
       "  <thead>\n",
       "    <tr style=\"text-align: right;\">\n",
       "      <th></th>\n",
       "      <th>Year</th>\n",
       "      <th>Engine Displacement</th>\n",
       "      <th>Cylinders</th>\n",
       "      <th>Fuel Barrels/Year</th>\n",
       "      <th>City MPG</th>\n",
       "      <th>Highway MPG</th>\n",
       "      <th>Combined MPG</th>\n",
       "      <th>CO2 Emission Grams/Mile</th>\n",
       "      <th>Fuel Cost/Year</th>\n",
       "    </tr>\n",
       "  </thead>\n",
       "  <tbody>\n",
       "    <tr>\n",
       "      <th>Year</th>\n",
       "      <td>1.000000</td>\n",
       "      <td>0.051370</td>\n",
       "      <td>0.068727</td>\n",
       "      <td>-0.214857</td>\n",
       "      <td>0.157137</td>\n",
       "      <td>0.266934</td>\n",
       "      <td>0.205080</td>\n",
       "      <td>-0.215108</td>\n",
       "      <td>-0.091437</td>\n",
       "    </tr>\n",
       "    <tr>\n",
       "      <th>Engine Displacement</th>\n",
       "      <td>0.051370</td>\n",
       "      <td>1.000000</td>\n",
       "      <td>0.927979</td>\n",
       "      <td>0.827152</td>\n",
       "      <td>-0.848167</td>\n",
       "      <td>-0.754080</td>\n",
       "      <td>-0.824065</td>\n",
       "      <td>0.831333</td>\n",
       "      <td>0.794755</td>\n",
       "    </tr>\n",
       "    <tr>\n",
       "      <th>Cylinders</th>\n",
       "      <td>0.068727</td>\n",
       "      <td>0.927979</td>\n",
       "      <td>1.000000</td>\n",
       "      <td>0.784595</td>\n",
       "      <td>-0.818672</td>\n",
       "      <td>-0.698356</td>\n",
       "      <td>-0.783362</td>\n",
       "      <td>0.788777</td>\n",
       "      <td>0.790481</td>\n",
       "    </tr>\n",
       "    <tr>\n",
       "      <th>Fuel Barrels/Year</th>\n",
       "      <td>-0.214857</td>\n",
       "      <td>0.827152</td>\n",
       "      <td>0.784595</td>\n",
       "      <td>1.000000</td>\n",
       "      <td>-0.974144</td>\n",
       "      <td>-0.963335</td>\n",
       "      <td>-0.990364</td>\n",
       "      <td>0.995539</td>\n",
       "      <td>0.919069</td>\n",
       "    </tr>\n",
       "    <tr>\n",
       "      <th>City MPG</th>\n",
       "      <td>0.157137</td>\n",
       "      <td>-0.848167</td>\n",
       "      <td>-0.818672</td>\n",
       "      <td>-0.974144</td>\n",
       "      <td>1.000000</td>\n",
       "      <td>0.930120</td>\n",
       "      <td>0.985062</td>\n",
       "      <td>-0.979787</td>\n",
       "      <td>-0.928713</td>\n",
       "    </tr>\n",
       "    <tr>\n",
       "      <th>Highway MPG</th>\n",
       "      <td>0.266934</td>\n",
       "      <td>-0.754080</td>\n",
       "      <td>-0.698356</td>\n",
       "      <td>-0.963335</td>\n",
       "      <td>0.930120</td>\n",
       "      <td>1.000000</td>\n",
       "      <td>0.970769</td>\n",
       "      <td>-0.968693</td>\n",
       "      <td>-0.876067</td>\n",
       "    </tr>\n",
       "    <tr>\n",
       "      <th>Combined MPG</th>\n",
       "      <td>0.205080</td>\n",
       "      <td>-0.824065</td>\n",
       "      <td>-0.783362</td>\n",
       "      <td>-0.990364</td>\n",
       "      <td>0.985062</td>\n",
       "      <td>0.970769</td>\n",
       "      <td>1.000000</td>\n",
       "      <td>-0.995258</td>\n",
       "      <td>-0.926078</td>\n",
       "    </tr>\n",
       "    <tr>\n",
       "      <th>CO2 Emission Grams/Mile</th>\n",
       "      <td>-0.215108</td>\n",
       "      <td>0.831333</td>\n",
       "      <td>0.788777</td>\n",
       "      <td>0.995539</td>\n",
       "      <td>-0.979787</td>\n",
       "      <td>-0.968693</td>\n",
       "      <td>-0.995258</td>\n",
       "      <td>1.000000</td>\n",
       "      <td>0.922723</td>\n",
       "    </tr>\n",
       "    <tr>\n",
       "      <th>Fuel Cost/Year</th>\n",
       "      <td>-0.091437</td>\n",
       "      <td>0.794755</td>\n",
       "      <td>0.790481</td>\n",
       "      <td>0.919069</td>\n",
       "      <td>-0.928713</td>\n",
       "      <td>-0.876067</td>\n",
       "      <td>-0.926078</td>\n",
       "      <td>0.922723</td>\n",
       "      <td>1.000000</td>\n",
       "    </tr>\n",
       "  </tbody>\n",
       "</table>\n",
       "</div>"
      ],
      "text/plain": [
       "                             Year  Engine Displacement  Cylinders  \\\n",
       "Year                     1.000000             0.051370   0.068727   \n",
       "Engine Displacement      0.051370             1.000000   0.927979   \n",
       "Cylinders                0.068727             0.927979   1.000000   \n",
       "Fuel Barrels/Year       -0.214857             0.827152   0.784595   \n",
       "City MPG                 0.157137            -0.848167  -0.818672   \n",
       "Highway MPG              0.266934            -0.754080  -0.698356   \n",
       "Combined MPG             0.205080            -0.824065  -0.783362   \n",
       "CO2 Emission Grams/Mile -0.215108             0.831333   0.788777   \n",
       "Fuel Cost/Year          -0.091437             0.794755   0.790481   \n",
       "\n",
       "                         Fuel Barrels/Year  City MPG  Highway MPG  \\\n",
       "Year                             -0.214857  0.157137     0.266934   \n",
       "Engine Displacement               0.827152 -0.848167    -0.754080   \n",
       "Cylinders                         0.784595 -0.818672    -0.698356   \n",
       "Fuel Barrels/Year                 1.000000 -0.974144    -0.963335   \n",
       "City MPG                         -0.974144  1.000000     0.930120   \n",
       "Highway MPG                      -0.963335  0.930120     1.000000   \n",
       "Combined MPG                     -0.990364  0.985062     0.970769   \n",
       "CO2 Emission Grams/Mile           0.995539 -0.979787    -0.968693   \n",
       "Fuel Cost/Year                    0.919069 -0.928713    -0.876067   \n",
       "\n",
       "                         Combined MPG  CO2 Emission Grams/Mile  Fuel Cost/Year  \n",
       "Year                         0.205080                -0.215108       -0.091437  \n",
       "Engine Displacement         -0.824065                 0.831333        0.794755  \n",
       "Cylinders                   -0.783362                 0.788777        0.790481  \n",
       "Fuel Barrels/Year           -0.990364                 0.995539        0.919069  \n",
       "City MPG                     0.985062                -0.979787       -0.928713  \n",
       "Highway MPG                  0.970769                -0.968693       -0.876067  \n",
       "Combined MPG                 1.000000                -0.995258       -0.926078  \n",
       "CO2 Emission Grams/Mile     -0.995258                 1.000000        0.922723  \n",
       "Fuel Cost/Year              -0.926078                 0.922723        1.000000  "
      ]
     },
     "execution_count": 14,
     "metadata": {},
     "output_type": "execute_result"
    }
   ],
   "source": [
    "df.corr(method='spearman') # or kendall"
   ]
  },
  {
   "cell_type": "markdown",
   "metadata": {},
   "source": [
    "## Descriptive Statistics With Python"
   ]
  },
  {
   "cell_type": "code",
   "execution_count": 15,
   "metadata": {},
   "outputs": [
    {
     "data": {
      "text/html": [
       "<div>\n",
       "<style scoped>\n",
       "    .dataframe tbody tr th:only-of-type {\n",
       "        vertical-align: middle;\n",
       "    }\n",
       "\n",
       "    .dataframe tbody tr th {\n",
       "        vertical-align: top;\n",
       "    }\n",
       "\n",
       "    .dataframe thead th {\n",
       "        text-align: right;\n",
       "    }\n",
       "</style>\n",
       "<table border=\"1\" class=\"dataframe\">\n",
       "  <thead>\n",
       "    <tr style=\"text-align: right;\">\n",
       "      <th></th>\n",
       "      <th>brainwt</th>\n",
       "      <th>bodywt</th>\n",
       "      <th>animal</th>\n",
       "    </tr>\n",
       "  </thead>\n",
       "  <tbody>\n",
       "    <tr>\n",
       "      <th>0</th>\n",
       "      <td>3.385</td>\n",
       "      <td>44.500</td>\n",
       "      <td>Arctic_fox</td>\n",
       "    </tr>\n",
       "    <tr>\n",
       "      <th>1</th>\n",
       "      <td>0.480</td>\n",
       "      <td>15.499</td>\n",
       "      <td>Owl_monkey</td>\n",
       "    </tr>\n",
       "    <tr>\n",
       "      <th>2</th>\n",
       "      <td>1.350</td>\n",
       "      <td>8.100</td>\n",
       "      <td>Beaver</td>\n",
       "    </tr>\n",
       "    <tr>\n",
       "      <th>3</th>\n",
       "      <td>464.983</td>\n",
       "      <td>423.012</td>\n",
       "      <td>Cow</td>\n",
       "    </tr>\n",
       "    <tr>\n",
       "      <th>4</th>\n",
       "      <td>36.328</td>\n",
       "      <td>119.498</td>\n",
       "      <td>Gray_wolf</td>\n",
       "    </tr>\n",
       "  </tbody>\n",
       "</table>\n",
       "</div>"
      ],
      "text/plain": [
       "   brainwt   bodywt      animal\n",
       "0    3.385   44.500  Arctic_fox\n",
       "1    0.480   15.499  Owl_monkey\n",
       "2    1.350    8.100      Beaver\n",
       "3  464.983  423.012         Cow\n",
       "4   36.328  119.498   Gray_wolf"
      ]
     },
     "execution_count": 15,
     "metadata": {},
     "output_type": "execute_result"
    }
   ],
   "source": [
    "import numpy as np\n",
    "import pandas as pd\n",
    "\n",
    "df = pd.read_csv('animals.csv')\n",
    "df.head()"
   ]
  },
  {
   "cell_type": "code",
   "execution_count": 16,
   "metadata": {},
   "outputs": [
    {
     "data": {
      "text/html": [
       "<div>\n",
       "<style scoped>\n",
       "    .dataframe tbody tr th:only-of-type {\n",
       "        vertical-align: middle;\n",
       "    }\n",
       "\n",
       "    .dataframe tbody tr th {\n",
       "        vertical-align: top;\n",
       "    }\n",
       "\n",
       "    .dataframe thead th {\n",
       "        text-align: right;\n",
       "    }\n",
       "</style>\n",
       "<table border=\"1\" class=\"dataframe\">\n",
       "  <thead>\n",
       "    <tr style=\"text-align: right;\">\n",
       "      <th></th>\n",
       "      <th>brainwt</th>\n",
       "      <th>bodywt</th>\n",
       "    </tr>\n",
       "  </thead>\n",
       "  <tbody>\n",
       "    <tr>\n",
       "      <th>count</th>\n",
       "      <td>62.000000</td>\n",
       "      <td>62.000000</td>\n",
       "    </tr>\n",
       "    <tr>\n",
       "      <th>mean</th>\n",
       "      <td>198.794290</td>\n",
       "      <td>283.135355</td>\n",
       "    </tr>\n",
       "    <tr>\n",
       "      <th>std</th>\n",
       "      <td>899.182313</td>\n",
       "      <td>930.278876</td>\n",
       "    </tr>\n",
       "    <tr>\n",
       "      <th>min</th>\n",
       "      <td>0.005000</td>\n",
       "      <td>0.140000</td>\n",
       "    </tr>\n",
       "    <tr>\n",
       "      <th>25%</th>\n",
       "      <td>0.600000</td>\n",
       "      <td>4.250000</td>\n",
       "    </tr>\n",
       "    <tr>\n",
       "      <th>50%</th>\n",
       "      <td>3.342500</td>\n",
       "      <td>17.250000</td>\n",
       "    </tr>\n",
       "    <tr>\n",
       "      <th>75%</th>\n",
       "      <td>48.201250</td>\n",
       "      <td>165.998250</td>\n",
       "    </tr>\n",
       "    <tr>\n",
       "      <th>max</th>\n",
       "      <td>6654.180000</td>\n",
       "      <td>5711.860000</td>\n",
       "    </tr>\n",
       "  </tbody>\n",
       "</table>\n",
       "</div>"
      ],
      "text/plain": [
       "           brainwt       bodywt\n",
       "count    62.000000    62.000000\n",
       "mean    198.794290   283.135355\n",
       "std     899.182313   930.278876\n",
       "min       0.005000     0.140000\n",
       "25%       0.600000     4.250000\n",
       "50%       3.342500    17.250000\n",
       "75%      48.201250   165.998250\n",
       "max    6654.180000  5711.860000"
      ]
     },
     "execution_count": 16,
     "metadata": {},
     "output_type": "execute_result"
    }
   ],
   "source": [
    "df.describe()"
   ]
  },
  {
   "cell_type": "code",
   "execution_count": 17,
   "metadata": {},
   "outputs": [
    {
     "data": {
      "text/plain": [
       "438.3111"
      ]
     },
     "execution_count": 17,
     "metadata": {},
     "output_type": "execute_result"
    }
   ],
   "source": [
    "df['bodywt'].quantile(0.9)"
   ]
  },
  {
   "cell_type": "code",
   "execution_count": 18,
   "metadata": {},
   "outputs": [
    {
     "data": {
      "image/png": "[encoded data removed]",
      "text/plain": [
       "<Figure size 640x480 with 1 Axes>"
      ]
     },
     "metadata": {},
     "output_type": "display_data"
    }
   ],
   "source": [
    "import matplotlib.pylab as plt\n",
    "\n",
    "df.boxplot()\n",
    "plt.show()"
   ]
  },
  {
   "cell_type": "code",
   "execution_count": 26,
   "metadata": {},
   "outputs": [
    {
     "data": {
      "image/png": "[encoded data removed]",
      "text/plain": [
       "<Figure size 640x480 with 2 Axes>"
      ]
     },
     "metadata": {},
     "output_type": "display_data"
    }
   ],
   "source": [
    "df.hist(bins=5)\n",
    "plt.show()"
   ]
  },
  {
   "cell_type": "markdown",
   "metadata": {},
   "source": [
    "## mean vs median"
   ]
  },
  {
   "cell_type": "code",
   "execution_count": 20,
   "metadata": {},
   "outputs": [
    {
     "data": {
      "text/plain": [
       "array([0, 2, 3, 3, 3, 4, 5, 5, 7, 9])"
      ]
     },
     "execution_count": 20,
     "metadata": {},
     "output_type": "execute_result"
    }
   ],
   "source": [
    "import numpy as np\n",
    "np.random.seed(0)\n",
    "a = np.random.randint(0, 10, 10)\n",
    "a.sort()\n",
    "a"
   ]
  },
  {
   "cell_type": "code",
   "execution_count": 21,
   "metadata": {},
   "outputs": [
    {
     "data": {
      "text/plain": [
       "(4.1, 3.5)"
      ]
     },
     "execution_count": 21,
     "metadata": {},
     "output_type": "execute_result"
    }
   ],
   "source": [
    "np.mean(a) , np.median(a)"
   ]
  },
  {
   "cell_type": "code",
   "execution_count": 22,
   "metadata": {},
   "outputs": [
    {
     "data": {
      "text/plain": [
       "(2.0, 2.4269322199023193)"
      ]
     },
     "execution_count": 22,
     "metadata": {},
     "output_type": "execute_result"
    }
   ],
   "source": [
    "# interquantile range\n",
    "Q3 = np.percentile(a, 75)\n",
    "Q1 = np.percentile(a, 25)\n",
    "IQR = Q3 - Q1\n",
    "IQR, np.std(a)"
   ]
  },
  {
   "cell_type": "code",
   "execution_count": 23,
   "metadata": {},
   "outputs": [
    {
     "name": "stdout",
     "output_type": "stream",
     "text": [
      "[ 0  2  3  3  3  4  5  5  7 50]\n"
     ]
    },
    {
     "data": {
      "text/plain": [
       "(8.2, 3.5)"
      ]
     },
     "execution_count": 23,
     "metadata": {},
     "output_type": "execute_result"
    }
   ],
   "source": [
    "a[9] = 50\n",
    "print(a)\n",
    "np.mean(a) , np.median(a)"
   ]
  },
  {
   "cell_type": "code",
   "execution_count": 24,
   "metadata": {},
   "outputs": [
    {
     "data": {
      "text/plain": [
       "(2.0, 14.048487463068755)"
      ]
     },
     "execution_count": 24,
     "metadata": {},
     "output_type": "execute_result"
    }
   ],
   "source": [
    "# interquantile range\n",
    "Q3 = np.percentile(a, 75)\n",
    "Q1 = np.percentile(a, 25)\n",
    "IQR = Q3 - Q1\n",
    "IQR, np.std(a)"
   ]
  }
 ],
 "metadata": {
  "kernelspec": {
   "display_name": "Python 3",
   "language": "python",
   "name": "python3"
  },
  "language_info": {
   "codemirror_mode": {
    "name": "ipython",
    "version": 3
   },
   "file_extension": ".py",
   "mimetype": "text/x-python",
   "name": "python",
   "nbconvert_exporter": "python",
   "pygments_lexer": "ipython3",
   "version": "3.11.4"
  },
  "orig_nbformat": 4
 },
 "nbformat": 4,
 "nbformat_minor": 2
}

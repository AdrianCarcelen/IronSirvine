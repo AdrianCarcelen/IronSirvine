{
 "cells": [
  {
   "cell_type": "markdown",
   "metadata": {},
   "source": [
    "#### 1. Establish a connection between Python and the Sakila database."
   ]
  },
  {
   "cell_type": "code",
   "execution_count": 5,
   "metadata": {},
   "outputs": [
    {
     "data": {
      "text/plain": [
       "<mysql.connector.cursor.MySQLCursor at 0x17b22b9c850>"
      ]
     },
     "execution_count": 5,
     "metadata": {},
     "output_type": "execute_result"
    }
   ],
   "source": [
    "import pandas as pd # all time remember to import pandas library\n",
    "\n",
    "psw = '.Aa654321.'\n",
    "\n",
    "import mysql.connector\n",
    "\n",
    "cnx = mysql.connector.connect(user = 'root',\n",
    "                              password = psw,\n",
    "                              host = 'localhost',\n",
    "                              database = 'Sakila',\n",
    "                              auth_plugin = 'mysql_native_password')\n",
    "\n",
    "cursor = cnx.cursor()\n",
    "\n",
    "cursor"
   ]
  },
  {
   "cell_type": "markdown",
   "metadata": {},
   "source": [
    "#### 2.Write a Python function called rentals_month that retrieves rental data for a given month and year (passed as parameters) from the Sakila database as a Pandas DataFrame. The function should take in three parameters:\n",
    "\n",
    "- engine: an object representing the database connection engine to be used to establish a connection to the Sakila database.\n",
    "- month: an integer representing the month for which rental data is to be retrieved.\n",
    "- year: an integer representing the year for which rental data is to be retrieved.\n",
    "\n",
    "The function should execute a SQL query to retrieve the rental data for the specified month and year from the rental table in the Sakila database, and return it as a pandas DataFrame."
   ]
  },
  {
   "cell_type": "code",
   "execution_count": null,
   "metadata": {},
   "outputs": [],
   "source": []
  },
  {
   "cell_type": "code",
   "execution_count": 45,
   "metadata": {},
   "outputs": [],
   "source": [
    "def rentals_month(engine,month,year):\n",
    "    # first of all we define the query we will do\n",
    "    query = f\"\"\"\n",
    "    SELECT * \n",
    "    FROM rental \n",
    "    WHERE MONTH(rental_date) = {month} AND YEAR(rental_date) = {year}\n",
    "    \"\"\" \n",
    "    return pd.read_sql(query, engine) # return a DataFrame with the query selected\n",
    "\n",
    "adb1 = rentals_month(cnx,5,2005)\n",
    "adb2 = rentals_month(cnx,6,2005)\n",
    "\n"
   ]
  },
  {
   "cell_type": "markdown",
   "metadata": {},
   "source": [
    "#### 3. Develop a Python function called rental_count_month that takes the DataFrame provided by rentals_month as input along with the month and year and returns a new DataFrame containing the number of rentals made by each customer_id during the selected month and year.\n",
    "\n",
    "The function should also include the month and year as parameters and use them to name the new column according to the month and year, for example, if the input month is 05 and the year is 2005, the column name should be \"rentals_05_2005\".\n",
    "\n",
    "Hint: Consider making use of pandas groupby()"
   ]
  },
  {
   "cell_type": "code",
   "execution_count": 54,
   "metadata": {},
   "outputs": [],
   "source": [
    "def rental_count_month(data_frame, month, year):\n",
    "    # Agrupar por customer_id y contar el número de alquileres\n",
    "    rental_counts = data_frame.groupby('customer_id').size().reset_index(name='rental_count')\n",
    "\n",
    "    # Crear el nombre de la columna basado en el mes y el año\n",
    "    column_name = f'rentals_{str(month).zfill(2)}_{str(year)}'\n",
    "\n",
    "    # Agregar la columna con el número de alquileres al DataFrame original\n",
    "    data_frame_with_counts = pd.merge(data_frame, rental_counts, on='customer_id')\n",
    "\n",
    "    # Crear el nuevo DataFrame solamente con la columna de customer_id y el número de alquileres\n",
    "    result_data_frame = data_frame_with_counts[['customer_id', 'rental_count']].drop_duplicates()\n",
    "\n",
    "    # Renombrar la columna para el mes y año seleccionados\n",
    "    result_data_frame.rename(columns={'rental_count': column_name}, inplace=True)\n",
    "\n",
    "    # Ordenar el DataFrame por la columna de alquileres\n",
    "    result_data_frame.sort_values(by=column_name, ascending=False, inplace=True)\n",
    "\n",
    "    return result_data_frame\n",
    "\n",
    "adb1_1 = rental_count_month(adb1,5,2005)\n",
    "adb2_1 = rental_count_month(adb2,5,2005)\n",
    "\n",
    "\n"
   ]
  },
  {
   "cell_type": "markdown",
   "metadata": {},
   "source": [
    "#### 4. Create a Python function called compare_rentals that takes two DataFrames as input containing the number of rentals made by each customer in different months and years. The function should return a combined DataFrame with a new 'difference' column, which is the difference between the number of rentals in the two months."
   ]
  },
  {
   "cell_type": "code",
   "execution_count": 50,
   "metadata": {},
   "outputs": [
    {
     "ename": "KeyError",
     "evalue": "'rental_count_1'",
     "output_type": "error",
     "traceback": [
      "\u001b[1;31m---------------------------------------------------------------------------\u001b[0m",
      "\u001b[1;31mKeyError\u001b[0m                                  Traceback (most recent call last)",
      "File \u001b[1;32mc:\\Users\\Agus\\anaconda3\\lib\\site-packages\\pandas\\core\\indexes\\base.py:3080\u001b[0m, in \u001b[0;36mIndex.get_loc\u001b[1;34m(self, key, method, tolerance)\u001b[0m\n\u001b[0;32m   3079\u001b[0m \u001b[39mtry\u001b[39;00m:\n\u001b[1;32m-> 3080\u001b[0m     \u001b[39mreturn\u001b[39;00m \u001b[39mself\u001b[39;49m\u001b[39m.\u001b[39;49m_engine\u001b[39m.\u001b[39;49mget_loc(casted_key)\n\u001b[0;32m   3081\u001b[0m \u001b[39mexcept\u001b[39;00m \u001b[39mKeyError\u001b[39;00m \u001b[39mas\u001b[39;00m err:\n",
      "File \u001b[1;32mpandas\\_libs\\index.pyx:70\u001b[0m, in \u001b[0;36mpandas._libs.index.IndexEngine.get_loc\u001b[1;34m()\u001b[0m\n",
      "File \u001b[1;32mpandas\\_libs\\index.pyx:101\u001b[0m, in \u001b[0;36mpandas._libs.index.IndexEngine.get_loc\u001b[1;34m()\u001b[0m\n",
      "File \u001b[1;32mpandas\\_libs\\hashtable_class_helper.pxi:4554\u001b[0m, in \u001b[0;36mpandas._libs.hashtable.PyObjectHashTable.get_item\u001b[1;34m()\u001b[0m\n",
      "File \u001b[1;32mpandas\\_libs\\hashtable_class_helper.pxi:4562\u001b[0m, in \u001b[0;36mpandas._libs.hashtable.PyObjectHashTable.get_item\u001b[1;34m()\u001b[0m\n",
      "\u001b[1;31mKeyError\u001b[0m: 'rental_count_1'",
      "\nThe above exception was the direct cause of the following exception:\n",
      "\u001b[1;31mKeyError\u001b[0m                                  Traceback (most recent call last)",
      "\u001b[1;32mc:\\Users\\Agus\\Desktop\\IronHack - Sirvine\\Week 2\\Day 4\\Labs\\1. Lab Connecting Python to SQL\\lab_1_conecting_python.ipynb Cell 9\u001b[0m in \u001b[0;36m<module>\u001b[1;34m\u001b[0m\n\u001b[0;32m     <a href='vscode-notebook-cell:/c%3A/Users/Agus/Desktop/IronHack%20-%20Sirvine/Week%202/Day%204/Labs/1.%20Lab%20Connecting%20Python%20to%20SQL/lab_1_conecting_python.ipynb#X14sZmlsZQ%3D%3D?line=9'>10</a>\u001b[0m     combined_df[\u001b[39m'\u001b[39m\u001b[39mdifference\u001b[39m\u001b[39m'\u001b[39m] \u001b[39m=\u001b[39m combined_df[\u001b[39m'\u001b[39m\u001b[39mrental_count_1\u001b[39m\u001b[39m'\u001b[39m] \u001b[39m-\u001b[39m combined_df[\u001b[39m'\u001b[39m\u001b[39mrental_count_2\u001b[39m\u001b[39m'\u001b[39m]\n\u001b[0;32m     <a href='vscode-notebook-cell:/c%3A/Users/Agus/Desktop/IronHack%20-%20Sirvine/Week%202/Day%204/Labs/1.%20Lab%20Connecting%20Python%20to%20SQL/lab_1_conecting_python.ipynb#X14sZmlsZQ%3D%3D?line=11'>12</a>\u001b[0m     \u001b[39mreturn\u001b[39;00m combined_df\n\u001b[1;32m---> <a href='vscode-notebook-cell:/c%3A/Users/Agus/Desktop/IronHack%20-%20Sirvine/Week%202/Day%204/Labs/1.%20Lab%20Connecting%20Python%20to%20SQL/lab_1_conecting_python.ipynb#X14sZmlsZQ%3D%3D?line=13'>14</a>\u001b[0m compare_rentals(adb1_1,adb2_1)\n",
      "\u001b[1;32mc:\\Users\\Agus\\Desktop\\IronHack - Sirvine\\Week 2\\Day 4\\Labs\\1. Lab Connecting Python to SQL\\lab_1_conecting_python.ipynb Cell 9\u001b[0m in \u001b[0;36mcompare_rentals\u001b[1;34m(df1, df2)\u001b[0m\n\u001b[0;32m      <a href='vscode-notebook-cell:/c%3A/Users/Agus/Desktop/IronHack%20-%20Sirvine/Week%202/Day%204/Labs/1.%20Lab%20Connecting%20Python%20to%20SQL/lab_1_conecting_python.ipynb#X14sZmlsZQ%3D%3D?line=2'>3</a>\u001b[0m combined_df \u001b[39m=\u001b[39m pd\u001b[39m.\u001b[39mmerge(df1, df2, on\u001b[39m=\u001b[39m\u001b[39m'\u001b[39m\u001b[39mcustomer_id\u001b[39m\u001b[39m'\u001b[39m, suffixes\u001b[39m=\u001b[39m(\u001b[39m'\u001b[39m\u001b[39m_1\u001b[39m\u001b[39m'\u001b[39m, \u001b[39m'\u001b[39m\u001b[39m_2\u001b[39m\u001b[39m'\u001b[39m), how\u001b[39m=\u001b[39m\u001b[39m'\u001b[39m\u001b[39mouter\u001b[39m\u001b[39m'\u001b[39m)\n\u001b[0;32m      <a href='vscode-notebook-cell:/c%3A/Users/Agus/Desktop/IronHack%20-%20Sirvine/Week%202/Day%204/Labs/1.%20Lab%20Connecting%20Python%20to%20SQL/lab_1_conecting_python.ipynb#X14sZmlsZQ%3D%3D?line=4'>5</a>\u001b[0m \u001b[39m# Replace NaN values with 0\u001b[39;00m\n\u001b[1;32m----> <a href='vscode-notebook-cell:/c%3A/Users/Agus/Desktop/IronHack%20-%20Sirvine/Week%202/Day%204/Labs/1.%20Lab%20Connecting%20Python%20to%20SQL/lab_1_conecting_python.ipynb#X14sZmlsZQ%3D%3D?line=5'>6</a>\u001b[0m combined_df[\u001b[39m'\u001b[39;49m\u001b[39mrental_count_1\u001b[39;49m\u001b[39m'\u001b[39;49m]\u001b[39m.\u001b[39mfillna(\u001b[39m0\u001b[39m, inplace\u001b[39m=\u001b[39m\u001b[39mTrue\u001b[39;00m)\n\u001b[0;32m      <a href='vscode-notebook-cell:/c%3A/Users/Agus/Desktop/IronHack%20-%20Sirvine/Week%202/Day%204/Labs/1.%20Lab%20Connecting%20Python%20to%20SQL/lab_1_conecting_python.ipynb#X14sZmlsZQ%3D%3D?line=6'>7</a>\u001b[0m combined_df[\u001b[39m'\u001b[39m\u001b[39mrental_count_2\u001b[39m\u001b[39m'\u001b[39m]\u001b[39m.\u001b[39mfillna(\u001b[39m0\u001b[39m, inplace\u001b[39m=\u001b[39m\u001b[39mTrue\u001b[39;00m)\n\u001b[0;32m      <a href='vscode-notebook-cell:/c%3A/Users/Agus/Desktop/IronHack%20-%20Sirvine/Week%202/Day%204/Labs/1.%20Lab%20Connecting%20Python%20to%20SQL/lab_1_conecting_python.ipynb#X14sZmlsZQ%3D%3D?line=8'>9</a>\u001b[0m \u001b[39m# Calculate the difference between the two rental counts\u001b[39;00m\n",
      "File \u001b[1;32mc:\\Users\\Agus\\anaconda3\\lib\\site-packages\\pandas\\core\\frame.py:3024\u001b[0m, in \u001b[0;36mDataFrame.__getitem__\u001b[1;34m(self, key)\u001b[0m\n\u001b[0;32m   3022\u001b[0m \u001b[39mif\u001b[39;00m \u001b[39mself\u001b[39m\u001b[39m.\u001b[39mcolumns\u001b[39m.\u001b[39mnlevels \u001b[39m>\u001b[39m \u001b[39m1\u001b[39m:\n\u001b[0;32m   3023\u001b[0m     \u001b[39mreturn\u001b[39;00m \u001b[39mself\u001b[39m\u001b[39m.\u001b[39m_getitem_multilevel(key)\n\u001b[1;32m-> 3024\u001b[0m indexer \u001b[39m=\u001b[39m \u001b[39mself\u001b[39;49m\u001b[39m.\u001b[39;49mcolumns\u001b[39m.\u001b[39;49mget_loc(key)\n\u001b[0;32m   3025\u001b[0m \u001b[39mif\u001b[39;00m is_integer(indexer):\n\u001b[0;32m   3026\u001b[0m     indexer \u001b[39m=\u001b[39m [indexer]\n",
      "File \u001b[1;32mc:\\Users\\Agus\\anaconda3\\lib\\site-packages\\pandas\\core\\indexes\\base.py:3082\u001b[0m, in \u001b[0;36mIndex.get_loc\u001b[1;34m(self, key, method, tolerance)\u001b[0m\n\u001b[0;32m   3080\u001b[0m         \u001b[39mreturn\u001b[39;00m \u001b[39mself\u001b[39m\u001b[39m.\u001b[39m_engine\u001b[39m.\u001b[39mget_loc(casted_key)\n\u001b[0;32m   3081\u001b[0m     \u001b[39mexcept\u001b[39;00m \u001b[39mKeyError\u001b[39;00m \u001b[39mas\u001b[39;00m err:\n\u001b[1;32m-> 3082\u001b[0m         \u001b[39mraise\u001b[39;00m \u001b[39mKeyError\u001b[39;00m(key) \u001b[39mfrom\u001b[39;00m \u001b[39merr\u001b[39;00m\n\u001b[0;32m   3084\u001b[0m \u001b[39mif\u001b[39;00m tolerance \u001b[39mis\u001b[39;00m \u001b[39mnot\u001b[39;00m \u001b[39mNone\u001b[39;00m:\n\u001b[0;32m   3085\u001b[0m     tolerance \u001b[39m=\u001b[39m \u001b[39mself\u001b[39m\u001b[39m.\u001b[39m_convert_tolerance(tolerance, np\u001b[39m.\u001b[39masarray(key))\n",
      "\u001b[1;31mKeyError\u001b[0m: 'rental_count_1'"
     ]
    }
   ],
   "source": [
    "def compare_rentals(df1, df2):\n",
    "    # Merge the two DataFrames on 'customer_id'\n",
    "    combined_df = pd.merge(df1, df2, on='customer_id', suffixes=('_1', '_2'), how='outer')\n",
    "\n",
    "    # Replace NaN values with 0\n",
    "    combined_df['rental_count_1'].fillna(0, inplace=True)\n",
    "    combined_df['rental_count_2'].fillna(0, inplace=True)\n",
    "\n",
    "    # Calculate the difference between the two rental counts\n",
    "    combined_df['difference'] = combined_df['rental_count_1'] - combined_df['rental_count_2']\n",
    "\n",
    "    return combined_df\n",
    "\n",
    "compare_rentals(adb1_1,adb2_1)"
   ]
  }
 ],
 "metadata": {
  "kernelspec": {
   "display_name": "base",
   "language": "python",
   "name": "python3"
  },
  "language_info": {
   "codemirror_mode": {
    "name": "ipython",
    "version": 3
   },
   "file_extension": ".py",
   "mimetype": "text/x-python",
   "name": "python",
   "nbconvert_exporter": "python",
   "pygments_lexer": "ipython3",
   "version": "3.8.8"
  },
  "orig_nbformat": 4
 },
 "nbformat": 4,
 "nbformat_minor": 2
}

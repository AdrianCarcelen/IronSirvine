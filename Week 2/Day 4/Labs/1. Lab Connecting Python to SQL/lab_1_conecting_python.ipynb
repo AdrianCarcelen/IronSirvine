{
 "cells": [
  {
   "cell_type": "markdown",
   "metadata": {},
   "source": [
    "#### 1. Establish a connection between Python and the Sakila database."
   ]
  },
  {
   "cell_type": "code",
   "execution_count": 5,
   "metadata": {},
   "outputs": [
    {
     "data": {
      "text/plain": [
       "<mysql.connector.cursor.MySQLCursor at 0x17b22b9c850>"
      ]
     },
     "execution_count": 5,
     "metadata": {},
     "output_type": "execute_result"
    }
   ],
   "source": [
    "import pandas as pd # all time remember to import pandas library\n",
    "\n",
    "psw = '.Aa654321.'\n",
    "\n",
    "import mysql.connector\n",
    "\n",
    "cnx = mysql.connector.connect(user = 'root',\n",
    "                              password = psw,\n",
    "                              host = 'localhost',\n",
    "                              database = 'Sakila',\n",
    "                              auth_plugin = 'mysql_native_password')\n",
    "\n",
    "cursor = cnx.cursor()\n",
    "\n",
    "cursor"
   ]
  },
  {
   "cell_type": "markdown",
   "metadata": {},
   "source": [
    "#### 2.Write a Python function called rentals_month that retrieves rental data for a given month and year (passed as parameters) from the Sakila database as a Pandas DataFrame. The function should take in three parameters:\n",
    "\n",
    "- engine: an object representing the database connection engine to be used to establish a connection to the Sakila database.\n",
    "- month: an integer representing the month for which rental data is to be retrieved.\n",
    "- year: an integer representing the year for which rental data is to be retrieved.\n",
    "\n",
    "The function should execute a SQL query to retrieve the rental data for the specified month and year from the rental table in the Sakila database, and return it as a pandas DataFrame."
   ]
  },
  {
   "cell_type": "code",
   "execution_count": 17,
   "metadata": {},
   "outputs": [],
   "source": [
    "def rentals_month(engine,month,year):\n",
    "    query = f\"\"\"\n",
    "    SELECT * \n",
    "    FROM rental \n",
    "    WHERE MONTH(rental_date) = {month} AND YEAR(rental_date) = {year}\n",
    "    \"\"\" # first of all we define the query we will do\n",
    "    return pd.read_sql(query, engine)\n",
    "\n",
    "adb = rentals_month(cnx,6,2005)"
   ]
  },
  {
   "cell_type": "markdown",
   "metadata": {},
   "source": [
    "#### 3. Develop a Python function called rental_count_month that takes the DataFrame provided by rentals_month as input along with the month and year and returns a new DataFrame containing the number of rentals made by each customer_id during the selected month and year.\n",
    "\n",
    "The function should also include the month and year as parameters and use them to name the new column according to the month and year, for example, if the input month is 05 and the year is 2005, the column name should be \"rentals_05_2005\".\n",
    "\n",
    "Hint: Consider making use of pandas groupby()"
   ]
  },
  {
   "cell_type": "code",
   "execution_count": null,
   "metadata": {},
   "outputs": [],
   "source": [
    "def rental_count_month(DataFrame):\n",
    "    query = f\"\"\"\n",
    "    SELECT * \n",
    "    FROM rental \n",
    "    WHERE MONTH(rental_date) = {month} AND YEAR(rental_date) = {year}\n",
    "    \"\"\" # first of all we define the query we will do\n",
    "    return pd.read_sql(query, engine)"
   ]
  },
  {
   "cell_type": "markdown",
   "metadata": {},
   "source": [
    "#### 4. Create a Python function called compare_rentals that takes two DataFrames as input containing the number of rentals made by each customer in different months and years. The function should return a combined DataFrame with a new 'difference' column, which is the difference between the number of rentals in the two months."
   ]
  }
 ],
 "metadata": {
  "kernelspec": {
   "display_name": "base",
   "language": "python",
   "name": "python3"
  },
  "language_info": {
   "codemirror_mode": {
    "name": "ipython",
    "version": 3
   },
   "file_extension": ".py",
   "mimetype": "text/x-python",
   "name": "python",
   "nbconvert_exporter": "python",
   "pygments_lexer": "ipython3",
   "version": "3.8.8"
  },
  "orig_nbformat": 4
 },
 "nbformat": 4,
 "nbformat_minor": 2
}

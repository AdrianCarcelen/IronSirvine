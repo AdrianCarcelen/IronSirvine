{
 "cells": [
  {
   "cell_type": "code",
   "execution_count": 1,
   "metadata": {},
   "outputs": [],
   "source": [
    "import pandas as pd\n",
    "\n",
    "import matplotlib"
   ]
  },
  {
   "cell_type": "code",
   "execution_count": 13,
   "metadata": {},
   "outputs": [],
   "source": [
    "superstore = pd.read_csv('Sample - EU Superstore.csv')"
   ]
  },
  {
   "cell_type": "code",
   "execution_count": 3,
   "metadata": {},
   "outputs": [],
   "source": [
    "orders = pd.read_excel(\"orders.xlsx\")\n"
   ]
  },
  {
   "cell_type": "code",
   "execution_count": 4,
   "metadata": {},
   "outputs": [
    {
     "data": {
      "text/plain": [
       "Country\n",
       "France            2827\n",
       "Germany           2065\n",
       "United Kingdom    1633\n",
       "Italy             1108\n",
       "Spain              859\n",
       "Netherlands        435\n",
       "Austria            270\n",
       "Sweden             203\n",
       "Belgium            147\n",
       "Ireland            106\n",
       "Switzerland         78\n",
       "Portugal            70\n",
       "Norway              70\n",
       "Denmark             65\n",
       "Finland             64\n",
       "Name: count, dtype: int64"
      ]
     },
     "execution_count": 4,
     "metadata": {},
     "output_type": "execute_result"
    }
   ],
   "source": [
    "superstore['Country'].nunique()\n",
    "superstore['Country'].unique()\n",
    "superstore['Country'].value_counts()"
   ]
  },
  {
   "cell_type": "code",
   "execution_count": 5,
   "metadata": {},
   "outputs": [
    {
     "data": {
      "text/plain": [
       "1637"
      ]
     },
     "metadata": {},
     "output_type": "display_data"
    },
    {
     "data": {
      "text/html": [
       "<div>\n",
       "<style scoped>\n",
       "    .dataframe tbody tr th:only-of-type {\n",
       "        vertical-align: middle;\n",
       "    }\n",
       "\n",
       "    .dataframe tbody tr th {\n",
       "        vertical-align: top;\n",
       "    }\n",
       "\n",
       "    .dataframe thead th {\n",
       "        text-align: right;\n",
       "    }\n",
       "</style>\n",
       "<table border=\"1\" class=\"dataframe\">\n",
       "  <thead>\n",
       "    <tr style=\"text-align: right;\">\n",
       "      <th></th>\n",
       "      <th>Row ID</th>\n",
       "      <th>Order ID</th>\n",
       "      <th>Order Date</th>\n",
       "      <th>Ship Date</th>\n",
       "      <th>Ship Mode</th>\n",
       "      <th>Customer ID</th>\n",
       "      <th>Customer Name</th>\n",
       "      <th>Segment</th>\n",
       "      <th>City</th>\n",
       "      <th>State</th>\n",
       "      <th>Country</th>\n",
       "      <th>Region</th>\n",
       "      <th>Product ID</th>\n",
       "      <th>Category</th>\n",
       "      <th>Sub-Category</th>\n",
       "      <th>Product Name</th>\n",
       "      <th>Sales</th>\n",
       "      <th>Quantity</th>\n",
       "      <th>Discount</th>\n",
       "      <th>Profit</th>\n",
       "    </tr>\n",
       "  </thead>\n",
       "  <tbody>\n",
       "    <tr>\n",
       "      <th>1774</th>\n",
       "      <td>1775</td>\n",
       "      <td>ES-2017-1651774</td>\n",
       "      <td>08/09/2017</td>\n",
       "      <td>14/09/2017</td>\n",
       "      <td>Standard Class</td>\n",
       "      <td>PJ-18835</td>\n",
       "      <td>Patrick Jones</td>\n",
       "      <td>Corporate</td>\n",
       "      <td>Prato</td>\n",
       "      <td>Tuscany</td>\n",
       "      <td>Italy</td>\n",
       "      <td>South</td>\n",
       "      <td>OFF-AP-10004512</td>\n",
       "      <td>Office Supplies</td>\n",
       "      <td>Appliances</td>\n",
       "      <td>Hoover Stove, Red</td>\n",
       "      <td>7958.58</td>\n",
       "      <td>14</td>\n",
       "      <td>0.0</td>\n",
       "      <td>3979.08</td>\n",
       "    </tr>\n",
       "  </tbody>\n",
       "</table>\n",
       "</div>"
      ],
      "text/plain": [
       "      Row ID         Order ID  Order Date   Ship Date       Ship Mode  \\\n",
       "1774    1775  ES-2017-1651774  08/09/2017  14/09/2017  Standard Class   \n",
       "\n",
       "     Customer ID  Customer Name    Segment   City    State Country Region  \\\n",
       "1774    PJ-18835  Patrick Jones  Corporate  Prato  Tuscany   Italy  South   \n",
       "\n",
       "           Product ID         Category Sub-Category       Product Name  \\\n",
       "1774  OFF-AP-10004512  Office Supplies   Appliances  Hoover Stove, Red   \n",
       "\n",
       "        Sales  Quantity  Discount   Profit  \n",
       "1774  7958.58        14       0.0  3979.08  "
      ]
     },
     "execution_count": 5,
     "metadata": {},
     "output_type": "execute_result"
    }
   ],
   "source": [
    "selection = (superstore['Sales'] > 100) & (superstore['Country'] == 'France')\n",
    "\n",
    "superstore_large = superstore[selection]\n",
    "\n",
    "display(len(superstore_large['Sales']))\n",
    "\n",
    "sales_max_superstore = (superstore['Sales'] == superstore['Sales'].max())\n",
    "\n",
    "superstore[sales_max_superstore]"
   ]
  },
  {
   "cell_type": "code",
   "execution_count": 6,
   "metadata": {},
   "outputs": [
    {
     "data": {
      "text/plain": [
       "Sales\n",
       "Moderate     4865\n",
       "Low          4359\n",
       "High          491\n",
       "Very High     156\n",
       "Very Low      127\n",
       "Name: count, dtype: int64"
      ]
     },
     "execution_count": 6,
     "metadata": {},
     "output_type": "execute_result"
    }
   ],
   "source": [
    "labels = [\"Very Low\", \"Low\", \"Moderate\", \"High\", \"Very High\"]\n",
    "bins = pd.cut(superstore['Sales'],[0,10,100,1000,2000,6000], labels = labels)\n",
    "bins.value_counts()"
   ]
  },
  {
   "cell_type": "code",
   "execution_count": 7,
   "metadata": {},
   "outputs": [
    {
     "data": {
      "text/plain": [
       "<Axes: >"
      ]
     },
     "execution_count": 7,
     "metadata": {},
     "output_type": "execute_result"
    },
    {
     "data": {
      "image/png": "[encoded data removed]",
      "text/plain": [
       "<Figure size 640x480 with 1 Axes>"
      ]
     },
     "metadata": {},
     "output_type": "display_data"
    }
   ],
   "source": [
    "superstore['Sales'].hist()"
   ]
  },
  {
   "cell_type": "code",
   "execution_count": 16,
   "metadata": {},
   "outputs": [],
   "source": [
    "# display(superstore)\n",
    "\n",
    "order_date = pd.to_datetime(superstore['Order Date'], format='%d/%m/%Y')\n",
    "ship_date = pd.to_datetime(superstore['Ship Date'], format='%d/%m/%Y')\n",
    "# superstore[superstore.columns[3]].min\n",
    "\n"
   ]
  },
  {
   "cell_type": "code",
   "execution_count": 22,
   "metadata": {},
   "outputs": [
    {
     "data": {
      "text/plain": [
       "Timedelta('7 days 00:00:00')"
      ]
     },
     "execution_count": 22,
     "metadata": {},
     "output_type": "execute_result"
    }
   ],
   "source": [
    "diferencia = (ship_date - order_date).max()\n",
    "\n",
    "diferencia"
   ]
  },
  {
   "cell_type": "code",
   "execution_count": 21,
   "metadata": {},
   "outputs": [
    {
     "name": "stdout",
     "output_type": "stream",
     "text": [
      "Index(['Row ID', 'Order ID', 'Order Date', 'Ship Date', 'Ship Mode',\n",
      "       'Customer ID', 'Customer Name', 'Segment', 'City', 'State', 'Country',\n",
      "       'Region', 'Product ID', 'Category', 'Sub-Category', 'Product Name',\n",
      "       'Sales', 'Quantity', 'Discount', 'Profit'],\n",
      "      dtype='object')\n"
     ]
    }
   ],
   "source": [
    "print(superstore.columns)"
   ]
  }
 ],
 "metadata": {
  "kernelspec": {
   "display_name": "base",
   "language": "python",
   "name": "python3"
  },
  "language_info": {
   "codemirror_mode": {
    "name": "ipython",
    "version": 3
   },
   "file_extension": ".py",
   "mimetype": "text/x-python",
   "name": "python",
   "nbconvert_exporter": "python",
   "pygments_lexer": "ipython3",
   "version": "3.11.4"
  },
  "orig_nbformat": 4
 },
 "nbformat": 4,
 "nbformat_minor": 2
}

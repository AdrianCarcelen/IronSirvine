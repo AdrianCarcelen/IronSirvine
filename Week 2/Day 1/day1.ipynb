{
 "cells": [
  {
   "cell_type": "code",
   "execution_count": 1,
   "metadata": {},
   "outputs": [
    {
     "name": "stdout",
     "output_type": "stream",
     "text": [
      "Pepe hit Raul and Raul lost 10 hp points!\n",
      "Raul got hit!\n",
      "Character Pepe with age 1, 100 hp points, and 1 combat experience\n",
      "Character Raul with age 1, 90 hp points, and 0 combat experience\n",
      "---\n",
      "Pepe hit Raul and Raul lost 10 hp points!\n",
      "Raul got hit!\n",
      "Character Pepe with age 1, 100 hp points, and 2 combat experience\n",
      "Character Raul with age 1, 80 hp points, and 0 combat experience\n",
      "---\n",
      "Raul missed the attack!\n",
      "Pepe dodged the attack!\n",
      "Character Pepe with age 1, 100 hp points, and 2 combat experience\n",
      "Character Raul with age 1, 80 hp points, and 0 combat experience\n",
      "---\n",
      "Raul missed the attack!\n",
      "Pepe got hit!\n",
      "Character Pepe with age 1, 100 hp points, and 2 combat experience\n",
      "Character Raul with age 1, 80 hp points, and 0 combat experience\n",
      "---\n",
      "Raul missed the attack!\n",
      "Pepe got hit!\n",
      "Character Pepe with age 1, 100 hp points, and 2 combat experience\n",
      "Character Raul with age 1, 80 hp points, and 0 combat experience\n",
      "---\n",
      "Pepe missed the attack!\n",
      "Raul got hit!\n",
      "Character Pepe with age 1, 100 hp points, and 2 combat experience\n",
      "Character Raul with age 1, 80 hp points, and 0 combat experience\n",
      "---\n",
      "Pepe hit Raul and Raul lost 10 hp points!\n",
      "Raul got hit!\n",
      "Character Pepe with age 1, 100 hp points, and 3 combat experience\n",
      "Character Raul with age 1, 70 hp points, and 0 combat experience\n",
      "---\n",
      "Pepe hit Raul and Raul lost 10 hp points!\n",
      "Raul dodged the attack!\n",
      "Character Pepe with age 1, 100 hp points, and 4 combat experience\n",
      "Character Raul with age 1, 60 hp points, and 0 combat experience\n",
      "---\n",
      "Raul hit Pepe and Pepe lost 10 hp points!\n",
      "Pepe got hit!\n",
      "Character Pepe with age 1, 90 hp points, and 4 combat experience\n",
      "Character Raul with age 1, 60 hp points, and 1 combat experience\n",
      "---\n",
      "Raul hit Pepe and Pepe lost 10 hp points!\n",
      "Pepe dodged the attack!\n",
      "Character Pepe with age 1, 80 hp points, and 4 combat experience\n",
      "Character Raul with age 1, 60 hp points, and 2 combat experience\n",
      "---\n"
     ]
    }
   ],
   "source": [
    "import random\n",
    "\n",
    "class Persona:\n",
    "    def __init__(self, init_name='Dummy', init_age=1, init_life=100, init_combat_exp=0):\n",
    "        self.name = init_name\n",
    "        self.age: int = init_age\n",
    "        self.life = init_life\n",
    "        self.combat_exp = init_combat_exp\n",
    "\n",
    "    def __repr__(self) -> str:\n",
    "        return f'Character {self.name} with age {self.age}, {self.life} hp points, and {self.combat_exp} combat experience'\n",
    "\n",
    "    def rename(self, new_name: str) -> None:\n",
    "        if type(new_name) is str:\n",
    "            self.name = new_name\n",
    "        else:\n",
    "            raise TypeError(f'{new_name} is not a valid name')\n",
    "\n",
    "    def reage(self, new_age: int) -> None:\n",
    "        if type(new_age) is int:\n",
    "            self.age = new_age\n",
    "        else:\n",
    "            raise TypeError(f'{new_age} is not a valid age')\n",
    "\n",
    "    def punch(self, other):\n",
    "        if self.life <= 0 or other.life <= 0:\n",
    "            return\n",
    "\n",
    "        attacker = self\n",
    "        defender = other\n",
    "\n",
    "        # Ajustar las probabilidades según la experiencia de combate\n",
    "        attacker_hit_prob = 0.6 + self.combat_exp * 0.05\n",
    "        defender_dodge_prob = 0.3 + other.combat_exp * 0.02\n",
    "\n",
    "        if random.random() < attacker_hit_prob:\n",
    "            defender.life -= 10\n",
    "            self.combat_exp += 1\n",
    "            print(f'{attacker.name} hit {defender.name} and {defender.name} lost 10 hp points!')\n",
    "        else:\n",
    "            print(f'{attacker.name} missed the attack!')\n",
    "\n",
    "        if defender.life <= 0:\n",
    "            print(f'{defender.name} is dead!')\n",
    "        else:\n",
    "            if random.random() < defender_dodge_prob:\n",
    "                print(f'{defender.name} dodged the attack!')\n",
    "            else:\n",
    "                print(f'{defender.name} got hit!')\n",
    "\n",
    "\n",
    "# Crear jugadores\n",
    "player1 = Persona('Pepe')\n",
    "player2 = Persona('Raul')\n",
    "\n",
    "# Partida de golpes\n",
    "for _ in range(10):\n",
    "    attacker = random.choice([player1, player2])\n",
    "    defender = player1 if attacker == player2 else player2\n",
    "    attacker.punch(defender)\n",
    "    print(player1)\n",
    "    print(player2)\n",
    "    print('---')"
   ]
  },
  {
   "cell_type": "code",
   "execution_count": 161,
   "metadata": {},
   "outputs": [
    {
     "name": "stdout",
     "output_type": "stream",
     "text": [
      "Character Pedro with age 25 and 90hp points and its human\n",
      "Character pepe with age 27 and 100hp points\n"
     ]
    }
   ],
   "source": [
    "class Human(Persona):\n",
    "    def eat(self):\n",
    "       self.life += 1\n",
    "\n",
    "    def __repr__(self) -> str:\n",
    "        return super().__repr__()+' and its human'\n",
    "\n",
    "h1 = Human('Pedro',25,90) \n",
    "print(h1)\n",
    "print(c)"
   ]
  },
  {
   "cell_type": "code",
   "execution_count": 463,
   "metadata": {},
   "outputs": [
    {
     "name": "stdout",
     "output_type": "stream",
     "text": [
      "24\n"
     ]
    },
    {
     "data": {
      "text/plain": [
       "48"
      ]
     },
     "execution_count": 463,
     "metadata": {},
     "output_type": "execute_result"
    }
   ],
   "source": [
    "import math as mt\n",
    "\n",
    "print(mt.factorial(4))\n",
    "\n",
    "def fact(x):\n",
    "    y = 0\n",
    "    for _ in range(x):\n",
    "        y += x*(x-1)\n",
    "    return y\n",
    "fact(4)"
   ]
  },
  {
   "cell_type": "code",
   "execution_count": 465,
   "metadata": {},
   "outputs": [
    {
     "data": {
      "text/plain": [
       "24"
      ]
     },
     "execution_count": 465,
     "metadata": {},
     "output_type": "execute_result"
    }
   ],
   "source": [
    "def fact(n):\n",
    "    f = 1\n",
    "    for i in range(1,n+1):\n",
    "        f*=i\n",
    "    return f\n",
    "fact(4)\n",
    "\n"
   ]
  },
  {
   "cell_type": "code",
   "execution_count": 470,
   "metadata": {},
   "outputs": [
    {
     "data": {
      "text/plain": [
       "24"
      ]
     },
     "execution_count": 470,
     "metadata": {},
     "output_type": "execute_result"
    }
   ],
   "source": [
    "def factorial(n):\n",
    "    if n == 0:\n",
    "        return 1\n",
    "    else:\n",
    "        return n * factorial(n - 1)\n",
    "    \n",
    "factorial(4)"
   ]
  },
  {
   "cell_type": "code",
   "execution_count": 482,
   "metadata": {},
   "outputs": [
    {
     "data": {
      "text/plain": [
       "(120, 120)"
      ]
     },
     "execution_count": 482,
     "metadata": {},
     "output_type": "execute_result"
    }
   ],
   "source": [
    "from functools import reduce\n",
    "def fact3(n):\n",
    "    return reduce(lambda a,b: a*b,  range(1,n+1))\n",
    "\n",
    "fact5 = lambda n : reduce(lambda a,b: a*b,  range(1,n+1))\n",
    "\n",
    "fact3(5), fact5(5)"
   ]
  },
  {
   "cell_type": "code",
   "execution_count": 484,
   "metadata": {},
   "outputs": [
    {
     "data": {
      "text/plain": [
       "[25, 49, 81, 16, 64]"
      ]
     },
     "execution_count": 484,
     "metadata": {},
     "output_type": "execute_result"
    }
   ],
   "source": [
    "l = [5,7,9,4,8]\n",
    "def sq(n):\n",
    "    return n*n\n",
    "\n",
    "list(map(sq,l))"
   ]
  },
  {
   "cell_type": "code",
   "execution_count": 486,
   "metadata": {},
   "outputs": [
    {
     "data": {
      "text/plain": [
       "[9, 4]"
      ]
     },
     "execution_count": 486,
     "metadata": {},
     "output_type": "execute_result"
    }
   ],
   "source": [
    "l = [5,7,9,4,8]\n",
    "def is_sq(n):\n",
    "    for i in range(n):\n",
    "        if i*i==n:\n",
    "            return True\n",
    "    return False\n",
    "\n",
    "list(filter(is_sq,l))"
   ]
  }
 ],
 "metadata": {
  "kernelspec": {
   "display_name": "base",
   "language": "python",
   "name": "python3"
  },
  "language_info": {
   "codemirror_mode": {
    "name": "ipython",
    "version": 3
   },
   "file_extension": ".py",
   "mimetype": "text/x-python",
   "name": "python",
   "nbconvert_exporter": "python",
   "pygments_lexer": "ipython3",
   "version": "3.8.8"
  },
  "orig_nbformat": 4
 },
 "nbformat": 4,
 "nbformat_minor": 2
}

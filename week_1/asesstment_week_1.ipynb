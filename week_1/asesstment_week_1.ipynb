{
 "cells": [
  {
   "cell_type": "code",
   "execution_count": 3,
   "metadata": {},
   "outputs": [
    {
     "data": {
      "text/plain": [
       "0"
      ]
     },
     "execution_count": 3,
     "metadata": {},
     "output_type": "execute_result"
    }
   ],
   "source": [
    "from typing import List\n",
    "  \n",
    "lst = [1,2,3,4,5]\n",
    "\n",
    "def sum_two_smallest_numbers(integers: List[int]) -> int:\n",
    "    integers.sort(reverse = True)\n",
    "    a = integers.pop()\n",
    "    b = integers.pop()\n",
    "    return a+b\n",
    "\n",
    "sum_two_smallest_numbers(lst)\n",
    "\n"
   ]
  },
  {
   "cell_type": "code",
   "execution_count": null,
   "metadata": {},
   "outputs": [],
   "source": [
    "##Create a function that returns the sum of the two lowest positive\n",
    "##numbers given an array of minimum 4 integers.\n",
    "##No floats or empty arrays will be passed.\n",
    "##For example,\n",
    "##when an array is passed like [19,5,42,2,77], the output should be 7.\n",
    "##Do not modify the original array\n",
    "def sum_two_smallest_numbers(numbers):\n",
    "    number=numbers #lol\n",
    "    number.sort(reverse=True)\n",
    "    a=number.pop()\n",
    "    b=number.pop()\n",
    "    return a+b\n",
    "\n",
    "print(sum_two_smallest_numbers([4,3,2,1]))"
   ]
  },
  {
   "cell_type": "code",
   "execution_count": null,
   "metadata": {},
   "outputs": [],
   "source": [
    "from typing import List\n",
    "\n",
    "lst = [1,2,3,4,5]\n",
    "def sum_two_smallest_numbers(integers: List[int]) -> int:\n",
    "    return sum(sorted(integers)[:2])\n",
    "\n",
    "sum_two_smallest_numbers(lst)"
   ]
  },
  {
   "cell_type": "code",
   "execution_count": 8,
   "metadata": {},
   "outputs": [
    {
     "name": "stdout",
     "output_type": "stream",
     "text": [
      "[4]\n",
      "[1, 3, 5]\n"
     ]
    },
    {
     "data": {
      "text/plain": [
       "4"
      ]
     },
     "execution_count": 8,
     "metadata": {},
     "output_type": "execute_result"
    }
   ],
   "source": [
    "from typing import List\n",
    "\n",
    "lst = [1,3,4,5,]\n",
    "\n",
    "def find_outlier(array):\n",
    "    evens = []  # this will be filled with the evens numbers\n",
    "    odds = [] # this will be filled with the odds numbers\n",
    "\n",
    "    for val in array:\n",
    "        if val % 2 == 0:  # if even, add to evens\n",
    "            evens.append(val)\n",
    "        else:  # If not even (i.e. odd) add to odds\n",
    "            odds.append(val)\n",
    "    print(evens)\n",
    "    print(odds)\n",
    "    if len(evens) == 1:  # outlier will have a list length 1\n",
    "        b = evens[0]\n",
    "    elif len(odds) == 1:\n",
    "        b = odds[0]\n",
    "    return b\n",
    "    \n",
    "\n",
    "find_outlier(lst)\n"
   ]
  },
  {
   "cell_type": "code",
   "execution_count": 16,
   "metadata": {},
   "outputs": [
    {
     "data": {
      "text/plain": [
       "'hellow32'"
      ]
     },
     "execution_count": 16,
     "metadata": {},
     "output_type": "execute_result"
    }
   ],
   "source": [
    "def merge_strings(a: str, b: str) -> str:\n",
    "\n",
    "    a_lst = [i for i in a]\n",
    "    b_lst = [i for i in b]\n",
    "\n",
    "    for x in range(len(a)):\n",
    "        merged_str = a_lst[0]+b_lst[0]+a_lst[1]+b_lst[1]+a_lst[2]+b_lst[0]\n",
    "    return merged_str\n",
    "\n",
    "merge_strings('hlo','elw')"
   ]
  },
  {
   "cell_type": "code",
   "execution_count": 67,
   "metadata": {},
   "outputs": [
    {
     "data": {
      "text/plain": [
       "'5 -6'"
      ]
     },
     "execution_count": 67,
     "metadata": {},
     "output_type": "execute_result"
    }
   ],
   "source": [
    "def high_and_low(numbers: str) -> str:\n",
    "    lst_numbers = numbers.split(' ')\n",
    "    lst_numbers_int = []\n",
    "    for nb in lst_numbers:\n",
    "        lst_numbers_int.append(int(nb))\n",
    "    solution = str(max(lst_numbers_int))+' '+str(min(lst_numbers_int))\n",
    "    return solution\n",
    "\n",
    "high_and_low('1 2 3 4 5 -6')"
   ]
  },
  {
   "cell_type": "code",
   "execution_count": 20,
   "metadata": {},
   "outputs": [
    {
     "data": {
      "text/plain": [
       "'fhj'"
      ]
     },
     "execution_count": 20,
     "metadata": {},
     "output_type": "execute_result"
    }
   ],
   "source": [
    "s = 'abcdefghijklmnop'\n",
    "s[5:10:2]"
   ]
  },
  {
   "cell_type": "code",
   "execution_count": 65,
   "metadata": {},
   "outputs": [
    {
     "data": {
      "text/plain": [
       "'5 -6'"
      ]
     },
     "execution_count": 65,
     "metadata": {},
     "output_type": "execute_result"
    }
   ],
   "source": [
    "numbers = \"1 2 3 4 5 -6\"\n",
    "\n",
    "lst_numbers = numbers.split(' ')\n",
    "lst_numbers_int = []\n",
    "for nb in lst_numbers:\n",
    "    lst_numbers_int.append(int(nb))\n",
    "solution = str(max(lst_numbers_int))+' '+str(min(lst_numbers_int))\n",
    "solution\n",
    "    \n"
   ]
  },
  {
   "cell_type": "code",
   "execution_count": 21,
   "metadata": {},
   "outputs": [
    {
     "data": {
      "text/plain": [
       "'T'"
      ]
     },
     "execution_count": 21,
     "metadata": {},
     "output_type": "execute_result"
    }
   ],
   "source": [
    "def first_non_repeating_letter(s: str) -> str:\n",
    "    unique_leters = [] # I make a list for all the unique leters\n",
    "    for leter in s:\n",
    "        if s.lower().count(leter.lower()) == 1: \n",
    "          # If the count of the leter its == to 1 add to the list\n",
    "            unique_leters.append(leter)\n",
    "    return  unique_leters[0] if len(unique_leters) > 0 else '' \n",
    "  # Give the frst element of the list if the list len its > than 0 else ''\n",
    "\n",
    "first_non_repeating_letter('sTreSSa')"
   ]
  },
  {
   "cell_type": "code",
   "execution_count": 63,
   "metadata": {},
   "outputs": [
    {
     "data": {
      "text/plain": [
       "['100000000000000000000', '180', '90', '56', '65', '74', '68', '86', '99']"
      ]
     },
     "execution_count": 63,
     "metadata": {},
     "output_type": "execute_result"
    }
   ],
   "source": [
    "def order_weight(s: str) -> str:\n",
    "    l = s.split(' ')\n",
    "    def weight(n: str):\n",
    "        n_list = [int(nb)for nb in n]\n",
    "        return sum(n_list)\n",
    "    l.sort(key = weight)\n",
    "    return l\n",
    "\n",
    "s = '56 65 74 100000000000000000000 99 68 86 180 90'\n",
    "\n",
    "order_weight(s)"
   ]
  },
  {
   "cell_type": "code",
   "execution_count": 74,
   "metadata": {},
   "outputs": [
    {
     "data": {
      "text/plain": [
       "'100 180 90 56 65 74 68 86 99'"
      ]
     },
     "execution_count": 74,
     "metadata": {},
     "output_type": "execute_result"
    }
   ],
   "source": [
    "def order_weight(s: str) -> str:\n",
    "    return ' '.join(sorted(s.split(' '),key = lambda n: sum([int(nb)for nb in n])))\n",
    "\n",
    "s = '56 65 74 100 99 68 86 180 90'\n",
    "\n",
    "order_weight(s)"
   ]
  },
  {
   "cell_type": "code",
   "execution_count": null,
   "metadata": {},
   "outputs": [],
   "source": []
  }
 ],
 "metadata": {
  "kernelspec": {
   "display_name": "base",
   "language": "python",
   "name": "python3"
  },
  "language_info": {
   "codemirror_mode": {
    "name": "ipython",
    "version": 3
   },
   "file_extension": ".py",
   "mimetype": "text/x-python",
   "name": "python",
   "nbconvert_exporter": "python",
   "pygments_lexer": "ipython3",
   "version": "3.8.8"
  },
  "orig_nbformat": 4
 },
 "nbformat": 4,
 "nbformat_minor": 2
}

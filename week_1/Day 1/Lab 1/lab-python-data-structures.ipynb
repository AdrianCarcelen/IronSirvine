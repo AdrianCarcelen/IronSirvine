{
 "cells": [
  {
   "cell_type": "markdown",
   "metadata": {
    "tags": []
   },
   "source": [
    "# Lab | Data Structures "
   ]
  },
  {
   "cell_type": "markdown",
   "metadata": {},
   "source": [
    "## Exercise: Managing Customer Orders\n",
    "\n",
    "As part of a business venture, you are starting an online store that sells various products. To ensure smooth operations, you need to develop a program that manages customer orders and inventory.\n",
    "\n",
    "Follow the steps below to complete the exercise:\n",
    "\n",
    "1. Define a list called `products` that contains the following items: \"t-shirt\", \"mug\", \"hat\", \"book\", \"keychain\".\n",
    "\n",
    "2. Create an empty dictionary called `inventory`.\n",
    "\n",
    "3. Ask the user to input the quantity of each product available in the inventory. Use the product names from the `products` list as keys in the `inventory` dictionary and assign the respective quantities as values.\n",
    "\n",
    "4. Create an empty set called `customer_orders`.\n",
    "\n",
    "5. Ask the user to input the name of three products that a customer wants to order. Add each product name to the `customer_orders` set.\n",
    "\n",
    "6. Print the products in the `customer_orders` set.\n",
    "\n",
    "7. Calculate the following order statistics:\n",
    "   - Total Products Ordered: The total number of products in the `customer_orders` set.\n",
    "   - Unique Products Ordered: The number of unique products in the `customer_orders` set.\n",
    "   - Percentage of Unique Products Ordered: The percentage of unique products ordered compared to the total available products.\n",
    "   \n",
    "   Store these statistics in a tuple called `order_status`.\n",
    "\n",
    "8. Print the order statistics using the following format:\n",
    "   ```\n",
    "   Order Statistics:\n",
    "   Total Products Ordered: <total_products_ordered>\n",
    "   Unique Products Ordered: <unique_products_ordered>\n",
    "   Percentage of Unique Products Ordered: <percentage_ordered>% \n",
    "   ```\n",
    "\n",
    "9. Update the inventory by subtracting 1 from the quantity of each product. Modify the `inventory` dictionary accordingly.\n",
    "\n",
    "10. Print the updated inventory, displaying the quantity of each product on separate lines.\n",
    "\n",
    "Solve the exercise by implementing the steps using the Python concepts of lists, dictionaries, sets, and basic input/output operations. "
   ]
  },
  {
   "cell_type": "code",
   "execution_count": 65,
   "metadata": {},
   "outputs": [
    {
     "name": "stdout",
     "output_type": "stream",
     "text": [
      "Order Statistics:\n",
      " Total Products Ordered: 5\n",
      " Unique Products Ordered: 3\n",
      " Percentage of Unique Products Ordered: 60.0%\n",
      "{'t-shirt': 0, 'mug': 0, 'hat': 0, 'book': 0, 'keychain': 0}\n"
     ]
    }
   ],
   "source": [
    "list_products = [\"t-shirt\", \"mug\", \"hat\", \"book\", \"keychain\"]\n",
    "\n",
    "total_value = 0\n",
    "\n",
    "dict_inventory = {\n",
    "    \n",
    "}\n",
    "\n",
    "for item in list_products:\n",
    "    dict_inventory[item] = int(input('Add a number: x'))\n",
    "\n",
    "\n",
    "customer_orders = set()\n",
    "\n",
    "for i in range(0,3):\n",
    "    customer_orders.add(input('Add products that wants to order:'))\n",
    "\n",
    "# print(customer_orders)\n",
    "\n",
    "for key, value in dict_inventory.items():\n",
    "    total_value += int(value)\n",
    "\n",
    "# print(f'The total value of products is: {total_value}')\n",
    "\n",
    "# print(f'We have {len(customer_orders)} diferent products to order.')\n",
    "\n",
    "def percentage(part, whole):\n",
    "  Percentage = 100 * float(part)/float(whole)\n",
    "  return str(Percentage) + '%'\n",
    "\n",
    "# print(f'We ordered a {percentage(len(customer_orders),len(list_products))} of diferent products comparing to the total')\n",
    "\n",
    "order_status = (total_value, len(customer_orders), percentage(len(customer_orders),len(list_products)))\n",
    "\n",
    "print(f'Order Statistics:\\n Total Products Ordered: {order_status[0]}\\n Unique Products Ordered: {order_status[1]}\\n Percentage of Unique Products Ordered: {order_status[2]}')\n",
    "\n",
    "for key, value in dict_inventory.items():\n",
    "    dict_inventory[key] -= 1\n",
    "print(*dict_inventory.items(), sep = '\\n' )"
   ]
  },
  {
   "cell_type": "code",
   "execution_count": 72,
   "metadata": {},
   "outputs": [
    {
     "name": "stdout",
     "output_type": "stream",
     "text": [
      "('t-shirt', -6)\n",
      "('mug', -6)\n",
      "('hat', -6)\n",
      "('book', -6)\n",
      "('keychain', -6)\n"
     ]
    }
   ],
   "source": [
    "for key, value in dict_inventory.items():\n",
    "    dict_inventory[key] -= 1\n",
    "print(*dict_inventory.items(), sep = '\\n' )"
   ]
  },
  {
   "cell_type": "code",
   "execution_count": null,
   "metadata": {},
   "outputs": [],
   "source": []
  }
 ],
 "metadata": {
  "kernelspec": {
   "display_name": "Python 3 (ipykernel)",
   "language": "python",
   "name": "python3"
  },
  "language_info": {
   "codemirror_mode": {
    "name": "ipython",
    "version": 3
   },
   "file_extension": ".py",
   "mimetype": "text/x-python",
   "name": "python",
   "nbconvert_exporter": "python",
   "pygments_lexer": "ipython3",
   "version": "3.8.8"
  }
 },
 "nbformat": 4,
 "nbformat_minor": 4
}

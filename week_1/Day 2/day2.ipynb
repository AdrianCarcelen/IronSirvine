{
 "cells": [
  {
   "cell_type": "markdown",
   "metadata": {},
   "source": [
    "# Loop ejercice"
   ]
  },
  {
   "cell_type": "markdown",
   "metadata": {},
   "source": [
    "- lake $100m^2$\n",
    "- plant day_1: $1m^2$\n",
    "- plant day_n+1: 2 * day"
   ]
  },
  {
   "cell_type": "code",
   "execution_count": 10,
   "metadata": {},
   "outputs": [
    {
     "name": "stdout",
     "output_type": "stream",
     "text": [
      "[1, 2, 4, 8, 16, 32, 64, 128] 8\n"
     ]
    }
   ],
   "source": [
    "lake_area = 100 # En este ejercicio hacemos que con un bucle while podamos calcular un area\n",
    "\n",
    "plant_areas = [1]\n",
    "plant_current_area = 1\n",
    "current_day = 1\n",
    "\n",
    "while plant_current_area <= lake_area:\n",
    "    current_day += 1\n",
    "    plant_current_area *= 2\n",
    "    plant_areas.append(plant_current_area)\n",
    "\n",
    "print(plant_areas,current_day)"
   ]
  },
  {
   "cell_type": "markdown",
   "metadata": {},
   "source": [
    "# Other loop ejercice"
   ]
  },
  {
   "cell_type": "code",
   "execution_count": 19,
   "metadata": {},
   "outputs": [
    {
     "name": "stdout",
     "output_type": "stream",
     "text": [
      "False\n"
     ]
    }
   ],
   "source": [
    "list_products = [\"t-shirt\", \"mug\", \"hat\", \"book\", \"keychain\"]\n",
    "\n",
    "product = 'bag'\n",
    "\n",
    "is_in_the_list = False\n",
    "\n",
    "for products in list_products: # comprobamos si hay un producto en la lista\n",
    "    if products == product:\n",
    "        is_in_the_list = True\n",
    "    else:\n",
    "        pass\n",
    "\n",
    "if is_in_the_list:\n",
    "    print('True')\n",
    "else:\n",
    "    print('False')\n",
    "\n"
   ]
  },
  {
   "cell_type": "code",
   "execution_count": 21,
   "metadata": {},
   "outputs": [
    {
     "name": "stdout",
     "output_type": "stream",
     "text": [
      "The key t-shirt has the value 2\n",
      "The key mug has the value 3\n",
      "The key hat has the value 2\n",
      "The key book has the value 5\n",
      "The key keychain has the value 5\n",
      "The key chiken has the value 10\n",
      "The key rat has the value 8\n",
      "The key fish has the value 6\n",
      "The key cow has the value 2\n",
      "The key met has the value 9\n"
     ]
    }
   ],
   "source": [
    "dict_inventory = {\n",
    "    \"t-shirt\": 2, \n",
    "    \"mug\": 3, \n",
    "    \"hat\": 2, \n",
    "    \"book\":5, \n",
    "    \"keychain\": 5\n",
    "}\n",
    "\n",
    "dict_inventory2 = {\n",
    "    \"chiken\": 10, \n",
    "    \"rat\": 8, \n",
    "    \"fish\": 6, \n",
    "    \"cow\":2, \n",
    "    \"met\": 9\n",
    "}\n",
    "\n",
    "\n",
    "def print_order_dict(dictionary):\n",
    "    for key,val in dictionary.items():\n",
    "        print(f'The key {key} has the value {val}')\n",
    "\n",
    "\n",
    "print_order_dict(dict_inventory)\n",
    "print_order_dict(dict_inventory2)"
   ]
  },
  {
   "cell_type": "code",
   "execution_count": 34,
   "metadata": {},
   "outputs": [
    {
     "name": "stdout",
     "output_type": "stream",
     "text": [
      "0\n",
      "4\n",
      "16\n",
      "36\n",
      "64\n",
      "0\n",
      "4\n",
      "16\n",
      "36\n",
      "64\n"
     ]
    }
   ],
   "source": [
    "for i in range(10):\n",
    "    if i%2 == 0:\n",
    "        print(i**2)\n",
    "\n",
    "\n",
    "i = 0\n",
    "while i < 10:\n",
    "     \n",
    "    if i%2 == 0:\n",
    "        print(i**2)\n",
    "    i +=1"
   ]
  },
  {
   "cell_type": "code",
   "execution_count": 61,
   "metadata": {},
   "outputs": [
    {
     "name": "stdout",
     "output_type": "stream",
     "text": [
      "You chose: hat\n"
     ]
    }
   ],
   "source": [
    "dict_inventory = {\n",
    "    \"t-shirt\": 2, \n",
    "    \"mug\": 3, \n",
    "    \"hat\": 2, \n",
    "    \"book\":5, \n",
    "    \"keychain\": 5\n",
    "}\n",
    "\n",
    "p = 'hat'\n",
    "\n",
    "def found_product(product,dict_products):\n",
    "    return product in dict_products.keys()\n",
    "\n",
    "\n",
    "user_input = ''\n",
    "\n",
    "while not found_product(user_input,dict_inventory): # Con esta funcion lo que conseguiremos es preguntar al usuario hasta que indique un producto que si este registrado\n",
    "    user_input = input()\n",
    "\n",
    "print(f'You chose: {user_input}')"
   ]
  },
  {
   "cell_type": "markdown",
   "metadata": {},
   "source": [
    "- Display all numbers multiple of 2 or 3 between 0 and 50\n",
    "    - Do not display multiples of 6 twice"
   ]
  },
  {
   "cell_type": "code",
   "execution_count": 66,
   "metadata": {},
   "outputs": [
    {
     "name": "stdout",
     "output_type": "stream",
     "text": [
      "0\n",
      "2\n",
      "3\n",
      "4\n",
      "6\n",
      "8\n",
      "9\n",
      "10\n",
      "12\n",
      "14\n",
      "15\n",
      "16\n",
      "18\n",
      "20\n",
      "21\n",
      "22\n",
      "24\n",
      "26\n",
      "27\n",
      "28\n",
      "30\n",
      "32\n",
      "33\n",
      "34\n",
      "36\n",
      "38\n",
      "39\n",
      "40\n",
      "42\n",
      "44\n",
      "45\n",
      "46\n",
      "48\n"
     ]
    }
   ],
   "source": [
    "for i in range(50):\n",
    "    if i%2 == 0:\n",
    "        print(i)\n",
    "    elif i%3 == 0:\n",
    "        print(i)\n",
    "    "
   ]
  },
  {
   "cell_type": "code",
   "execution_count": 67,
   "metadata": {},
   "outputs": [
    {
     "data": {
      "text/plain": [
       "'John was a man of many talents'"
      ]
     },
     "execution_count": 67,
     "metadata": {},
     "output_type": "execute_result"
    }
   ],
   "source": [
    "def list2string(lst):\n",
    "    string = ' '.join(lst)\n",
    "    return string\n",
    "\n",
    "to_string = ['John', 'was', 'a', 'man', 'of', 'many', 'talents']\n",
    "list2string(to_string)\n",
    "\n",
    "'John was a man of many talents'\n"
   ]
  },
  {
   "cell_type": "code",
   "execution_count": 70,
   "metadata": {},
   "outputs": [
    {
     "data": {
      "text/plain": [
       "12"
      ]
     },
     "execution_count": 70,
     "metadata": {},
     "output_type": "execute_result"
    }
   ],
   "source": [
    "a = 9\n",
    "\n",
    "def add2(a):\n",
    "    return a+2\n",
    "\n",
    "add2(10)"
   ]
  },
  {
   "cell_type": "code",
   "execution_count": 72,
   "metadata": {},
   "outputs": [
    {
     "data": {
      "text/plain": [
       "3.0"
      ]
     },
     "execution_count": 72,
     "metadata": {},
     "output_type": "execute_result"
    }
   ],
   "source": [
    "import math as m\n",
    "\n",
    "m.sqrt(9)"
   ]
  },
  {
   "cell_type": "code",
   "execution_count": 74,
   "metadata": {},
   "outputs": [
    {
     "data": {
      "text/plain": [
       "2.1972245773362196"
      ]
     },
     "execution_count": 74,
     "metadata": {},
     "output_type": "execute_result"
    }
   ],
   "source": [
    "from math import sqrt, log\n",
    "\n",
    "sqrt(9)\n",
    "log(9)"
   ]
  },
  {
   "cell_type": "code",
   "execution_count": 131,
   "metadata": {},
   "outputs": [
    {
     "data": {
      "image/png": "[encoded data removed]",
      "text/plain": [
       "<Figure size 432x288 with 1 Axes>"
      ]
     },
     "metadata": {
      "needs_background": "light"
     },
     "output_type": "display_data"
    }
   ],
   "source": [
    "import matplotlib.pyplot as plt\n",
    "\n",
    "x = []\n",
    "y = []\n",
    "i = 0\n",
    "\n",
    "while i < 6:\n",
    "    x.append(i)\n",
    "    y.append(i*i)\n",
    "    i += 1\n",
    "\n",
    "plt.plot(x,y)\n",
    "plt.show()"
   ]
  },
  {
   "cell_type": "code",
   "execution_count": 134,
   "metadata": {},
   "outputs": [
    {
     "data": {
      "image/png": "[encoded data removed]",
      "text/plain": [
       "<Figure size 432x288 with 1 Axes>"
      ]
     },
     "metadata": {
      "needs_background": "light"
     },
     "output_type": "display_data"
    }
   ],
   "source": [
    "\n",
    "import matplotlib.pyplot as plt\n",
    "\n",
    "m = 10\n",
    "x = [i for i in range(1,m)]\n",
    "y = [1/i for i in range(1,m)]\n",
    "\n",
    "\n",
    "plt.plot(x,y)\n",
    "plt.show()"
   ]
  },
  {
   "cell_type": "code",
   "execution_count": 151,
   "metadata": {},
   "outputs": [
    {
     "data": {
      "image/png": "[encoded data removed]",
      "text/plain": [
       "<Figure size 432x288 with 1 Axes>"
      ]
     },
     "metadata": {
      "needs_background": "light"
     },
     "output_type": "display_data"
    }
   ],
   "source": [
    "\n",
    "import matplotlib.pyplot as plt\n",
    "\n",
    "min = -3\n",
    "max = 5\n",
    "\n",
    "x = [i for i in range(min,max)]\n",
    "y = [i**3 for i in range(min,max)]\n",
    "\n",
    "\n",
    "plt.plot(x,y)\n",
    "plt.show()"
   ]
  },
  {
   "cell_type": "code",
   "execution_count": 186,
   "metadata": {},
   "outputs": [
    {
     "data": {
      "image/png": "[encoded data removed]",
      "text/plain": [
       "<Figure size 432x288 with 1 Axes>"
      ]
     },
     "metadata": {
      "needs_background": "light"
     },
     "output_type": "display_data"
    }
   ],
   "source": [
    "\n",
    "import matplotlib.pyplot as plt\n",
    "\n",
    "min = -3\n",
    "max = 5\n",
    "step = 0.2\n",
    "x = []\n",
    "y = []\n",
    "i = min\n",
    "\n",
    "while i < max:\n",
    "    x.append(i)\n",
    "    y.append(i**3)\n",
    "    i += step\n",
    "\n",
    "plt.plot(x,y,'-.r')\n",
    "plt.show()"
   ]
  }
 ],
 "metadata": {
  "kernelspec": {
   "display_name": "base",
   "language": "python",
   "name": "python3"
  },
  "language_info": {
   "codemirror_mode": {
    "name": "ipython",
    "version": 3
   },
   "file_extension": ".py",
   "mimetype": "text/x-python",
   "name": "python",
   "nbconvert_exporter": "python",
   "pygments_lexer": "ipython3",
   "version": "3.8.8"
  },
  "orig_nbformat": 4
 },
 "nbformat": 4,
 "nbformat_minor": 2
}

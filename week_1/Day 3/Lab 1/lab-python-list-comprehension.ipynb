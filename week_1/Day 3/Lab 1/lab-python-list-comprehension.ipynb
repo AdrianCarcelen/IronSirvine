{
 "cells": [
  {
   "cell_type": "markdown",
   "id": "25d7736c-ba17-4aff-b6bb-66eba20fbf4e",
   "metadata": {},
   "source": [
    "# Lab | List, Dict and Set Comprehension"
   ]
  },
  {
   "cell_type": "markdown",
   "id": "74650549-369b-49c5-87a9-d95372779492",
   "metadata": {},
   "source": [
    "In the previous exercise, you developed a program to manage customer orders and inventory. Now, let's take it a step further and incorporate comprehension into your code.\n",
    "\n",
    "Follow the steps below to complete the exercise:\n",
    "\n",
    "1. Review your code from the previous exercise and identify areas where you can apply comprehension to simplify and streamline your code. \n",
    "\n",
    "    - *Hint: Apply it to initialize inventory, updating the inventory and printing the updated inventory.*\n",
    "    \n",
    "    - For example, in initializing the inventory, we could have:\n",
    "    \n",
    "        ```python\n",
    "        def initialize_inventory(products):\n",
    "            inventory = {product: int(input(f\"Enter the quantity of {product}s available: \")) for product in products}\n",
    "            return inventory\n",
    "\n",
    "        ```\n",
    "<br>\n",
    "    \n",
    "    \n",
    "2. Modify the function get_customer_orders so it prompts the user to enter the number of customer orders and gathers the product names using a loop and user input. Use comprehension.\n",
    "\n",
    "3. Add a new function to calculate the total price of the customer order. For each product in the customer_orders list, prompt the user to enter the price of that product. Use comprehension to calculate the total price. Note: assume that the user can only have 1 unit of each product.\n",
    "\n",
    "4. Modify the update_inventory function to remove the product from the inventory if its quantity becomes zero after fulfilling the customer orders. Use comprehension to filter out the products with a quantity of zero from the inventory.\n",
    "\n",
    "5. Print the total price of the customer order.\n",
    "\n",
    "Your code should produce output similar to the following:\n",
    "\n",
    "```python\n",
    "Enter the quantity of t-shirts available:  5\n",
    "Enter the quantity of mugs available:  4\n",
    "Enter the quantity of hats available:  3\n",
    "Enter the quantity of books available:  2\n",
    "Enter the quantity of keychains available:  1\n",
    "Enter the number of customer orders:  2\n",
    "Enter the name of a product that a customer wants to order:  hat\n",
    "Enter the name of a product that a customer wants to order:  keychain\n",
    "\n",
    "Order Statistics:\n",
    "Total Products Ordered: 2\n",
    "Unique Products Ordered: 2\n",
    "Percentage of Unique Products Ordered: 40.0\n",
    "\n",
    "Updated Inventory:\n",
    "t-shirt: 5\n",
    "mug: 4\n",
    "hat: 2\n",
    "book: 2\n",
    "Enter the price of keychain:  5\n",
    "Enter the price of hat:  10\n",
    "Total Price: 15.0\n",
    "\n",
    "```\n"
   ]
  },
  {
   "cell_type": "markdown",
   "id": "2926fcec",
   "metadata": {},
   "source": [
    "1. Review your code from the previous exercise and identify areas where you can apply comprehension to simplify and streamline your code. \n",
    "\n",
    "    - *Hint: Apply it to initialize inventory, updating the inventory and printing the updated inventory.*\n",
    "    \n",
    "    - For example, in initializing the inventory, we could have:\n",
    "    \n",
    "        ```python\n",
    "        def initialize_inventory(products):\n",
    "            inventory = {product: int(input(f\"Enter the quantity of {product}s available: \")) for product in products}\n",
    "            return inventory\n",
    "\n",
    "        ```\n",
    "<br>"
   ]
  },
  {
   "cell_type": "markdown",
   "id": "0801ae4c",
   "metadata": {},
   "source": [
    "## All the new functions with comprehension"
   ]
  },
  {
   "cell_type": "code",
   "execution_count": 4,
   "id": "07bc9d44",
   "metadata": {},
   "outputs": [],
   "source": [
    "products = [\"t-shirt\", \"mug\", \"hat\", \"book\", \"keychain\"] # List of products we have"
   ]
  },
  {
   "cell_type": "code",
   "execution_count": 26,
   "id": "0ae856a8",
   "metadata": {},
   "outputs": [],
   "source": [
    "def initialize_inventory(lst_products): # Function to initialize an inventory from a list of products\n",
    "    return {product:int(input(f'Give the number for {product}')) for product in products}\n",
    "\n",
    "def get_customer_order(): # Function to get a order by a customer and stake the variable on a list\n",
    "    return set([input() for i in range(int(input('How many products')))])\n",
    "\n",
    "def update_inventory(dict_inventory,lst_customer_orders):\n",
    "    return {product:(value if not product in lst_customer_orders else value-1) for product,value in dict_inventory.items() if value>1 or not product in lst_customer_orders }\n",
    "\n",
    "\n",
    "def calculate_order_statistics(customer_orders,products): # Function to calculate the statistics of the order\n",
    "    l = len(customer_orders)\n",
    "    lu = len(products)\n",
    "    percentage = 100 * l/lu\n",
    "    return l, lu, percentage\n",
    "\n",
    "def print_order_statistics(order_statistics): # Function to display in screen the order statistics\n",
    "    print(f'''\\nOrder Statistics:\\n \n",
    "    Total Products Ordered: {order_statistics[0]}\\n \n",
    "    Unique Products Ordered: {order_statistics[1]}\\n \n",
    "    Percentage of Unique Products Ordered: {order_statistics[2]:.2f}%\\n''') # the parameter :.2f its to conver this sentence in a float number and only take 2 devcimals\n",
    "\n",
    "def print_updated_inventory(inventory): # Function to display in screen the inventory updated with the items removed from the customer order\n",
    "    [print(f'For the product {product} we have value {val}') for product, val in inventory.items()]"
   ]
  },
  {
   "cell_type": "markdown",
   "id": "dbf73711",
   "metadata": {},
   "source": [
    "2. Modify the function get_customer_orders so it prompts the user to enter the number of customer orders and gathers the product names using a loop and user input. Use comprehension."
   ]
  },
  {
   "cell_type": "code",
   "execution_count": 39,
   "id": "a86fe57a",
   "metadata": {},
   "outputs": [
    {
     "name": "stdout",
     "output_type": "stream",
     "text": [
      "For the product t-shirt we have value 1\n",
      "For the product book we have value 1\n",
      "For the product keychain we have value 1\n"
     ]
    }
   ],
   "source": [
    "def get_customer_order(): # Function to get a order by a customer and stake the variable on a list\n",
    "    return set([input() for i in range(int(input('How many products')))])\n",
    "\n",
    "inventory = initialize_inventory(products)\n",
    "costumer_order = get_customer_order()\n",
    "updated_inventory = update_inventory(inventory,costumer_order)\n",
    "print_updated_inventory(updated_inventory)"
   ]
  },
  {
   "cell_type": "markdown",
   "id": "2e7b53da",
   "metadata": {},
   "source": [
    "3. Add a new function to calculate the total price of the customer order. For each product in the customer_orders list, prompt the user to enter the price of that product. Use comprehension to calculate the total price. Note: assume that the user can only have 1 unit of each product."
   ]
  },
  {
   "cell_type": "code",
   "execution_count": 46,
   "id": "fab8bb7d",
   "metadata": {},
   "outputs": [],
   "source": [
    "def total_price(costumer_orders): # this function its more eficient\n",
    "    t_price = 0\n",
    "    for product in costumer_orders:\n",
    "        t_price += float(input(f'price for {product}'))\n",
    "    return t_price\n",
    "\n",
    "def total_price(costumer_orders):\n",
    "    return sum([float(input(f'price for {product}')) for product in costumer_order])\n",
    "\n",
    "total_price(costumer_order)"
   ]
  },
  {
   "cell_type": "markdown",
   "id": "15847171",
   "metadata": {},
   "source": [
    "4. Modify the update_inventory function to remove the product from the inventory if its quantity becomes zero after fulfilling the customer orders. Use comprehension to filter out the products with a quantity of zero from the inventory."
   ]
  },
  {
   "cell_type": "code",
   "execution_count": null,
   "id": "32788633",
   "metadata": {},
   "outputs": [],
   "source": [
    "def update_inventory(dict_inventory,lst_customer_orders):\n",
    "    return {product:(value if not product in lst_customer_orders else value-1) for product,value in dict_inventory.items() if value>1 or not product in lst_customer_orders }"
   ]
  },
  {
   "cell_type": "markdown",
   "id": "302aa695",
   "metadata": {},
   "source": [
    "5. Print the total price of the customer order.\n",
    "\n",
    "Your code should produce output similar to the following:\n",
    "\n",
    "```python\n",
    "Enter the quantity of t-shirts available:  5\n",
    "Enter the quantity of mugs available:  4\n",
    "Enter the quantity of hats available:  3\n",
    "Enter the quantity of books available:  2\n",
    "Enter the quantity of keychains available:  1\n",
    "Enter the number of customer orders:  2\n",
    "Enter the name of a product that a customer wants to order:  hat\n",
    "Enter the name of a product that a customer wants to order:  keychain\n",
    "\n",
    "Order Statistics:\n",
    "Total Products Ordered: 2\n",
    "Unique Products Ordered: 2\n",
    "Percentage of Unique Products Ordered: 40.0\n",
    "\n",
    "Updated Inventory:\n",
    "t-shirt: 5\n",
    "mug: 4\n",
    "hat: 2\n",
    "book: 2\n",
    "Enter the price of keychain:  5\n",
    "Enter the price of hat:  10\n",
    "Total Price: 15.0"
   ]
  },
  {
   "cell_type": "code",
   "execution_count": null,
   "id": "b638820f",
   "metadata": {},
   "outputs": [],
   "source": [
    "inventory = initialize_inventory(products)\n",
    "customer_order = get_customer_order()\n",
    "updated_inventory = update_inventory(inventory,customer_order)\n",
    "print_updated_inventory(updated_inventory)"
   ]
  }
 ],
 "metadata": {
  "kernelspec": {
   "display_name": "Python 3 (ipykernel)",
   "language": "python",
   "name": "python3"
  },
  "language_info": {
   "codemirror_mode": {
    "name": "ipython",
    "version": 3
   },
   "file_extension": ".py",
   "mimetype": "text/x-python",
   "name": "python",
   "nbconvert_exporter": "python",
   "pygments_lexer": "ipython3",
   "version": "3.8.8"
  }
 },
 "nbformat": 4,
 "nbformat_minor": 5
}

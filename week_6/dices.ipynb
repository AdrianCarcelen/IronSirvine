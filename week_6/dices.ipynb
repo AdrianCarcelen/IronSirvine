{
 "cells": [
  {
   "cell_type": "code",
   "execution_count": 26,
   "metadata": {},
   "outputs": [],
   "source": [
    "import numpy as np\n",
    "import scipy"
   ]
  },
  {
   "cell_type": "code",
   "execution_count": 27,
   "metadata": {},
   "outputs": [
    {
     "data": {
      "text/plain": [
       "30"
      ]
     },
     "execution_count": 27,
     "metadata": {},
     "output_type": "execute_result"
    }
   ],
   "source": [
    "# numbers       1, 2, 3, 4, 5, 6\n",
    "dc1 = np.array([2, 3, 5, 2, 2, 16])\n",
    "dc2 = np.array([10, 4, 4, 4, 4, 4])\n",
    "dc3 = np.array([5, 4, 4, 6, 5, 6])\n",
    "dc4 = np.array([7, 5, 5, 4, 3, 6])\n",
    "dcE = np.array([5, 5, 5, 5, 5, 5])\n",
    "sum(dc4)"
   ]
  },
  {
   "cell_type": "code",
   "execution_count": 28,
   "metadata": {},
   "outputs": [
    {
     "name": "stdout",
     "output_type": "stream",
     "text": [
      "Dice 1\n",
      "30.4\n"
     ]
    }
   ],
   "source": [
    "print(f'Dice 1')\n",
    "print(sum((dc1-dcE)**2/dcE))"
   ]
  },
  {
   "cell_type": "code",
   "execution_count": 29,
   "metadata": {},
   "outputs": [],
   "source": [
    "dices_array = np.array([dc1, dc2, dc3, dc4])"
   ]
  },
  {
   "cell_type": "code",
   "execution_count": 30,
   "metadata": {},
   "outputs": [
    {
     "name": "stdout",
     "output_type": "stream",
     "text": [
      "Dice 1\n",
      "30.4\n",
      "Dice 2\n",
      "6.000000000000001\n",
      "Dice 3\n",
      "0.8\n",
      "Dice 4\n",
      "2.0\n"
     ]
    }
   ],
   "source": [
    "i = 1\n",
    "for dice in dices_array:\n",
    "    print(f'Dice {i}')\n",
    "    print(sum((dice-dcE)**2/dcE))\n",
    "    i +=1"
   ]
  },
  {
   "cell_type": "code",
   "execution_count": 34,
   "metadata": {},
   "outputs": [
    {
     "name": "stdout",
     "output_type": "stream",
     "text": [
      "Power_divergenceResult(statistic=30.4, pvalue=1.2301801871609006e-05)\n",
      "Power_divergenceResult(statistic=6.000000000000001, pvalue=0.3062189184132777)\n",
      "Power_divergenceResult(statistic=0.8, pvalue=0.9770333437569263)\n",
      "Power_divergenceResult(statistic=2.0, pvalue=0.8491450360846096)\n"
     ]
    }
   ],
   "source": [
    "for dice in dices_array:\n",
    "    print(scipy.stats.chisquare(dice, dcE))"
   ]
  },
  {
   "cell_type": "code",
   "execution_count": 38,
   "metadata": {},
   "outputs": [
    {
     "data": {
      "text/plain": [
       "0"
      ]
     },
     "execution_count": 38,
     "metadata": {},
     "output_type": "execute_result"
    }
   ],
   "source": [
    "d = np.array([2, 3, 10, 100])\n",
    "np.argmin(d)"
   ]
  }
 ],
 "metadata": {
  "kernelspec": {
   "display_name": "Python 3",
   "language": "python",
   "name": "python3"
  },
  "language_info": {
   "codemirror_mode": {
    "name": "ipython",
    "version": 3
   },
   "file_extension": ".py",
   "mimetype": "text/x-python",
   "name": "python",
   "nbconvert_exporter": "python",
   "pygments_lexer": "ipython3",
   "version": "3.11.4"
  },
  "orig_nbformat": 4
 },
 "nbformat": 4,
 "nbformat_minor": 2
}

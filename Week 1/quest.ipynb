{
 "cells": [
  {
   "cell_type": "code",
   "execution_count": 29,
   "metadata": {},
   "outputs": [
    {
     "name": "stdout",
     "output_type": "stream",
     "text": [
      "{'Gameroom': {'Couch': 'nothing', 'Piano': 'Key to Door A'}, 'Bedroom1': {'Queen bed': 'Key to Door B'}, 'Bedroom2': {'Double bed': 'Key to Door C', 'Dresser': 'Key to Door D'}, 'Livingroom': {'Dinning table': 'nothing'}}\n"
     ]
    }
   ],
   "source": [
    "#Here declare the variables\n",
    "list_inventory = []\n",
    "\n",
    "player_position = 'Gameroom'\n",
    "\n",
    "dict_objects = {\n",
    "    'Gameroom': {\n",
    "        'Couch': 'nothing',\n",
    "        'Piano': 'Key to Door A'\n",
    "        },\n",
    "    'Bedroom1': {\n",
    "        'Queen bed': 'Key to Door B'\n",
    "        },\n",
    "    'Bedroom2': {\n",
    "        'Double bed': 'Key to Door C',\n",
    "        'Dresser': 'Key to Door D'\n",
    "        },\n",
    "    'Livingroom': {\n",
    "        'Dinning table': 'nothing'\n",
    "    }\n",
    "}\n",
    "\n",
    "\n",
    "\n",
    "print(dict_objects)"
   ]
  },
  {
   "cell_type": "code",
   "execution_count": 2,
   "metadata": {},
   "outputs": [],
   "source": [
    "\n",
    "def check_inventory():\n",
    "    if list_inventory[0] == dict_objects[player_position]['Piano']:\n",
    "        print('You already have this key!')\n",
    "    else:\n",
    "        list_inventory.append(dict_objects[player_position]['Piano']) # Con esta funcion vamos a añadir las llaves a nuestro inventario\n",
    "    return \n",
    "\n",
    "\n"
   ]
  }
 ],
 "metadata": {
  "kernelspec": {
   "display_name": "base",
   "language": "python",
   "name": "python3"
  },
  "language_info": {
   "codemirror_mode": {
    "name": "ipython",
    "version": 3
   },
   "file_extension": ".py",
   "mimetype": "text/x-python",
   "name": "python",
   "nbconvert_exporter": "python",
   "pygments_lexer": "ipython3",
   "version": "3.8.8"
  },
  "orig_nbformat": 4
 },
 "nbformat": 4,
 "nbformat_minor": 2
}

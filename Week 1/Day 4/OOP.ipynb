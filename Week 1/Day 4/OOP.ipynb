{
  "nbformat": 4,
  "nbformat_minor": 0,
  "metadata": {
    "colab": {
      "provenance": []
    },
    "kernelspec": {
      "name": "python3",
      "display_name": "Python 3"
    }
  },
  "cells": [
    {
      "cell_type": "code",
      "metadata": {
        "id": "x07ZB5LG15tT"
      },
      "source": [
        "# OOP is a programming discipline used in many software engineering houses\n",
        "# Each programming language can be Object Oriented or not\n",
        "# The basic principle is that you create objects which are your representations of information and those objects interact with each other in predefined ways"
      ],
      "execution_count": null,
      "outputs": []
    },
    {
      "cell_type": "code",
      "metadata": {
        "id": "mF-PUKMg4Wc3"
      },
      "source": [
        "# lists, sets , dicts , strings they are all objects -> python built in basic object (primitive data structures)\n",
        "# each object type comes with a toolbox (to create the object, to sort, to append, etc)"
      ],
      "execution_count": null,
      "outputs": []
    },
    {
      "cell_type": "code",
      "metadata": {
        "id": "NovVtSJc4poi",
        "colab": {
          "base_uri": "https://localhost:8080/",
          "height": 174
        },
        "outputId": "258ee767-7ef4-47d2-f70c-4fc53607484d"
      },
      "source": [
        "# this is a library -> box of toolboxes\n",
        "import pandas as pd\n",
        "# a pandas dataframe is not a native python object -> somebody coded a library and defined inside an object (class) called a DataFrame\n",
        "my_dataframe = pd.DataFrame([1,2,3,4],columns=['example'])\n",
        "my_dataframe\n",
        "# i am creating an instance of the object DataFrame and storing it in a."
      ],
      "execution_count": null,
      "outputs": [
        {
          "output_type": "execute_result",
          "data": {
            "text/plain": [
              "   example\n",
              "0        1\n",
              "1        2\n",
              "2        3\n",
              "3        4"
            ],
            "text/html": [
              "\n",
              "  <div id=\"df-7459b6c4-4e48-40dd-be4c-f56ad11039b3\">\n",
              "    <div class=\"colab-df-container\">\n",
              "      <div>\n",
              "<style scoped>\n",
              "    .dataframe tbody tr th:only-of-type {\n",
              "        vertical-align: middle;\n",
              "    }\n",
              "\n",
              "    .dataframe tbody tr th {\n",
              "        vertical-align: top;\n",
              "    }\n",
              "\n",
              "    .dataframe thead th {\n",
              "        text-align: right;\n",
              "    }\n",
              "</style>\n",
              "<table border=\"1\" class=\"dataframe\">\n",
              "  <thead>\n",
              "    <tr style=\"text-align: right;\">\n",
              "      <th></th>\n",
              "      <th>example</th>\n",
              "    </tr>\n",
              "  </thead>\n",
              "  <tbody>\n",
              "    <tr>\n",
              "      <th>0</th>\n",
              "      <td>1</td>\n",
              "    </tr>\n",
              "    <tr>\n",
              "      <th>1</th>\n",
              "      <td>2</td>\n",
              "    </tr>\n",
              "    <tr>\n",
              "      <th>2</th>\n",
              "      <td>3</td>\n",
              "    </tr>\n",
              "    <tr>\n",
              "      <th>3</th>\n",
              "      <td>4</td>\n",
              "    </tr>\n",
              "  </tbody>\n",
              "</table>\n",
              "</div>\n",
              "      <button class=\"colab-df-convert\" onclick=\"convertToInteractive('df-7459b6c4-4e48-40dd-be4c-f56ad11039b3')\"\n",
              "              title=\"Convert this dataframe to an interactive table.\"\n",
              "              style=\"display:none;\">\n",
              "        \n",
              "  <svg xmlns=\"http://www.w3.org/2000/svg\" height=\"24px\"viewBox=\"0 0 24 24\"\n",
              "       width=\"24px\">\n",
              "    <path d=\"M0 0h24v24H0V0z\" fill=\"none\"/>\n",
              "    <path d=\"M18.56 5.44l.94 2.06.94-2.06 2.06-.94-2.06-.94-.94-2.06-.94 2.06-2.06.94zm-11 1L8.5 8.5l.94-2.06 2.06-.94-2.06-.94L8.5 2.5l-.94 2.06-2.06.94zm10 10l.94 2.06.94-2.06 2.06-.94-2.06-.94-.94-2.06-.94 2.06-2.06.94z\"/><path d=\"M17.41 7.96l-1.37-1.37c-.4-.4-.92-.59-1.43-.59-.52 0-1.04.2-1.43.59L10.3 9.45l-7.72 7.72c-.78.78-.78 2.05 0 2.83L4 21.41c.39.39.9.59 1.41.59.51 0 1.02-.2 1.41-.59l7.78-7.78 2.81-2.81c.8-.78.8-2.07 0-2.86zM5.41 20L4 18.59l7.72-7.72 1.47 1.35L5.41 20z\"/>\n",
              "  </svg>\n",
              "      </button>\n",
              "      \n",
              "  <style>\n",
              "    .colab-df-container {\n",
              "      display:flex;\n",
              "      flex-wrap:wrap;\n",
              "      gap: 12px;\n",
              "    }\n",
              "\n",
              "    .colab-df-convert {\n",
              "      background-color: #E8F0FE;\n",
              "      border: none;\n",
              "      border-radius: 50%;\n",
              "      cursor: pointer;\n",
              "      display: none;\n",
              "      fill: #1967D2;\n",
              "      height: 32px;\n",
              "      padding: 0 0 0 0;\n",
              "      width: 32px;\n",
              "    }\n",
              "\n",
              "    .colab-df-convert:hover {\n",
              "      background-color: #E2EBFA;\n",
              "      box-shadow: 0px 1px 2px rgba(60, 64, 67, 0.3), 0px 1px 3px 1px rgba(60, 64, 67, 0.15);\n",
              "      fill: #174EA6;\n",
              "    }\n",
              "\n",
              "    [theme=dark] .colab-df-convert {\n",
              "      background-color: #3B4455;\n",
              "      fill: #D2E3FC;\n",
              "    }\n",
              "\n",
              "    [theme=dark] .colab-df-convert:hover {\n",
              "      background-color: #434B5C;\n",
              "      box-shadow: 0px 1px 3px 1px rgba(0, 0, 0, 0.15);\n",
              "      filter: drop-shadow(0px 1px 2px rgba(0, 0, 0, 0.3));\n",
              "      fill: #FFFFFF;\n",
              "    }\n",
              "  </style>\n",
              "\n",
              "      <script>\n",
              "        const buttonEl =\n",
              "          document.querySelector('#df-7459b6c4-4e48-40dd-be4c-f56ad11039b3 button.colab-df-convert');\n",
              "        buttonEl.style.display =\n",
              "          google.colab.kernel.accessAllowed ? 'block' : 'none';\n",
              "\n",
              "        async function convertToInteractive(key) {\n",
              "          const element = document.querySelector('#df-7459b6c4-4e48-40dd-be4c-f56ad11039b3');\n",
              "          const dataTable =\n",
              "            await google.colab.kernel.invokeFunction('convertToInteractive',\n",
              "                                                     [key], {});\n",
              "          if (!dataTable) return;\n",
              "\n",
              "          const docLinkHtml = 'Like what you see? Visit the ' +\n",
              "            '<a target=\"_blank\" href=https://colab.research.google.com/notebooks/data_table.ipynb>data table notebook</a>'\n",
              "            + ' to learn more about interactive tables.';\n",
              "          element.innerHTML = '';\n",
              "          dataTable['output_type'] = 'display_data';\n",
              "          await google.colab.output.renderOutput(dataTable, element);\n",
              "          const docLink = document.createElement('div');\n",
              "          docLink.innerHTML = docLinkHtml;\n",
              "          element.appendChild(docLink);\n",
              "        }\n",
              "      </script>\n",
              "    </div>\n",
              "  </div>\n",
              "  "
            ]
          },
          "metadata": {},
          "execution_count": 3
        }
      ]
    },
    {
      "cell_type": "code",
      "metadata": {
        "colab": {
          "base_uri": "https://localhost:8080/"
        },
        "id": "nDxX1MBmWPB1",
        "outputId": "2817b3c3-b2ba-4232-ada2-6a99ece14fc1"
      },
      "source": [
        "df = pd.DataFrame()\n",
        "type(df)"
      ],
      "execution_count": null,
      "outputs": [
        {
          "output_type": "execute_result",
          "data": {
            "text/plain": [
              "pandas.core.frame.DataFrame"
            ]
          },
          "metadata": {},
          "execution_count": 4
        }
      ]
    },
    {
      "cell_type": "code",
      "source": [
        "mylist = [1,2,3,4]\n",
        "mylist.append(5)\n",
        "print(mylist)\n",
        "mystring = \"hello im a string\"\n",
        "mystring.upper()\n"
      ],
      "metadata": {
        "id": "HQaOXn8nbqI9",
        "colab": {
          "base_uri": "https://localhost:8080/",
          "height": 53
        },
        "outputId": "b329425b-75f3-4266-adf0-13b905cbf1c9"
      },
      "execution_count": null,
      "outputs": [
        {
          "output_type": "stream",
          "name": "stdout",
          "text": [
            "[1, 2, 3, 4, 5]\n"
          ]
        },
        {
          "output_type": "execute_result",
          "data": {
            "text/plain": [
              "'HELLO IM A STRING'"
            ],
            "application/vnd.google.colaboratory.intrinsic+json": {
              "type": "string"
            }
          },
          "metadata": {},
          "execution_count": 7
        }
      ]
    },
    {
      "cell_type": "code",
      "metadata": {
        "id": "ns_Pcw2e5JlP"
      },
      "source": [
        "# We can create our own objects in Python"
      ],
      "execution_count": null,
      "outputs": []
    },
    {
      "cell_type": "code",
      "metadata": {
        "id": "oAiCFt-z5L--"
      },
      "source": [
        "# let's imagine that you are the head of HR and you are responsible for developing a project that manages employees data\n",
        "\n",
        "# you define your own class -> baptizing your own python type :D\n",
        "# a class is a blueprint of a toolbox: when we are creating our classes, we are defining our own toolboxes\n"
      ],
      "execution_count": null,
      "outputs": []
    },
    {
      "cell_type": "code",
      "metadata": {
        "id": "Lsj4IWqM5c04"
      },
      "source": [
        "# when you create the class, you are designing the toolbox\n",
        "class Employee():\n",
        "  # a class has attributes (variables that are defined inside the class)\n",
        "  name = \"Frederico\"\n",
        "  age = 214\n",
        "  id = 'a70393'\n",
        "  email = 'fred.raposo@ironhack.com'\n",
        "  phone = 45292969\n",
        "  role = \"Data Scientist\"\n",
        "\n",
        "  # a class can also do stuff -> method -> a function inside the class\n",
        "  # what the hell is self? -> a universal variable that refers to the object itself\n",
        "  def cool_method(self):\n",
        "    print(\"I am a cool method\")\n",
        "\n",
        "# Notice the capital first letter on the name of the class?\n",
        "# There are several code conventions, they change from industry, software house and language but a few things are pretty universal\n",
        "# variables, attributes, functions and method names start with lowercase and class names start with uppercase is a pretty universal convention"
      ],
      "execution_count": null,
      "outputs": []
    },
    {
      "cell_type": "code",
      "metadata": {
        "id": "mY_5w8or7KS6"
      },
      "source": [
        "# I created an instance of a class -> employee\n",
        "# you are creating an materialization of that toolbox\n",
        "emp1 = Employee()\n",
        "# I created an instance of that class and saved it in emp1\n"
      ],
      "execution_count": null,
      "outputs": []
    },
    {
      "cell_type": "code",
      "metadata": {
        "id": "vWDj1dB1-siD",
        "colab": {
          "base_uri": "https://localhost:8080/",
          "height": 36
        },
        "outputId": "b4851d0f-c7bc-452d-ffad-51c92c87351d"
      },
      "source": [
        "# looking at the attributes\n",
        "emp1.email"
      ],
      "execution_count": null,
      "outputs": [
        {
          "output_type": "execute_result",
          "data": {
            "text/plain": [
              "'fred.raposo@ironhack.com'"
            ],
            "application/vnd.google.colaboratory.intrinsic+json": {
              "type": "string"
            }
          },
          "metadata": {},
          "execution_count": 3
        }
      ]
    },
    {
      "cell_type": "code",
      "source": [
        "emp1.cool_method()"
      ],
      "metadata": {
        "colab": {
          "base_uri": "https://localhost:8080/"
        },
        "id": "HDAJ3ImQc_md",
        "outputId": "a5690031-164a-4fe2-b85f-79dca32b7dac"
      },
      "execution_count": null,
      "outputs": [
        {
          "output_type": "stream",
          "name": "stdout",
          "text": [
            "I am a cool method\n"
          ]
        }
      ]
    },
    {
      "cell_type": "code",
      "metadata": {
        "id": "__AZCTuT-_bv",
        "colab": {
          "base_uri": "https://localhost:8080/"
        },
        "outputId": "b445ee35-43bf-4a36-c4a4-b7bd124fd362"
      },
      "source": [
        "# calling the method\n",
        "# where did the argument \"self\" go? Explain why it's needed\n",
        "# why not just cool_method()?\n",
        "emp1.cool_method()"
      ],
      "execution_count": null,
      "outputs": [
        {
          "output_type": "stream",
          "name": "stdout",
          "text": [
            "I am a cool method\n"
          ]
        }
      ]
    },
    {
      "cell_type": "code",
      "metadata": {
        "id": "m5eGhGV_jWz9"
      },
      "source": [
        "emp2 = Employee()"
      ],
      "execution_count": null,
      "outputs": []
    },
    {
      "cell_type": "code",
      "metadata": {
        "id": "tWFSch0n_Osd",
        "colab": {
          "base_uri": "https://localhost:8080/",
          "height": 36
        },
        "outputId": "a5561350-97eb-440b-c69c-176debdc6362"
      },
      "source": [
        "# can I change the value of an attribute in an instance of a class?\n",
        "# NTS: may want to talk about public and private attributes? Maybe leave to the end if the class is looking confused\n",
        "emp1.email = \"ines.andrade@ironhack.com\"\n",
        "emp1.email"
      ],
      "execution_count": null,
      "outputs": [
        {
          "output_type": "execute_result",
          "data": {
            "text/plain": [
              "'ines.andrade@ironhack.com'"
            ],
            "application/vnd.google.colaboratory.intrinsic+json": {
              "type": "string"
            }
          },
          "metadata": {},
          "execution_count": 8
        }
      ]
    },
    {
      "cell_type": "code",
      "metadata": {
        "id": "xIvBjpJvjf_F",
        "colab": {
          "base_uri": "https://localhost:8080/",
          "height": 36
        },
        "outputId": "dc67e76b-d30b-453b-e0e9-bfb784a35c80"
      },
      "source": [
        "emp2.email"
      ],
      "execution_count": null,
      "outputs": [
        {
          "output_type": "execute_result",
          "data": {
            "text/plain": [
              "'fred.raposo@ironhack.com'"
            ],
            "application/vnd.google.colaboratory.intrinsic+json": {
              "type": "string"
            }
          },
          "metadata": {},
          "execution_count": 10
        }
      ]
    },
    {
      "cell_type": "code",
      "metadata": {
        "id": "gIqyWiNN7uog"
      },
      "source": [
        "# analogy to lists\n",
        "class list():\n",
        "\n",
        "  def append(element):\n",
        "    return list + element"
      ],
      "execution_count": null,
      "outputs": []
    },
    {
      "cell_type": "code",
      "metadata": {
        "id": "HshWOjtmAdLG",
        "colab": {
          "base_uri": "https://localhost:8080/",
          "height": 135
        },
        "outputId": "87d7d105-3e09-4edb-840c-768a0efd6619"
      },
      "source": [
        " # isn't there a way to when I create my class/costructor, immediately I define the values of the attributes? (LIke DataFrame from pandas Library)\n",
        "\n",
        "# when you create the class, you are designing the toolbox\n",
        "class Employee():\n",
        "\n",
        "  # to accomplish this we need to create a constructor -> it allows you to define the values of attributes upon initialization\n",
        "\n",
        "  def __init__(self, name=\"Fred\", age, id, email, phone, role):\n",
        "  # a class has attributes (variables that are defined inside the class)\n",
        "    self.name = name\n",
        "    self.age = age\n",
        "    self.id = id\n",
        "    self.email = email\n",
        "    self.phone = phone\n",
        "    self.role = role\n",
        "    # what the hell is self? -> a universal variable that refers to the object itself\n",
        "\n",
        "  # a class can also do stuff -> method -> a function inside the class\n",
        "  def cool_method(self):\n",
        "    print(\"I am a cool method \"+self.name)\n"
      ],
      "execution_count": null,
      "outputs": [
        {
          "output_type": "error",
          "ename": "SyntaxError",
          "evalue": "ignored",
          "traceback": [
            "\u001b[0;36m  File \u001b[0;32m\"<ipython-input-2-c46241c4f3aa>\"\u001b[0;36m, line \u001b[0;32m8\u001b[0m\n\u001b[0;31m    def __init__(self, name=\"Fred\", age, id, email, phone, role):\u001b[0m\n\u001b[0m                                    ^\u001b[0m\n\u001b[0;31mSyntaxError\u001b[0m\u001b[0;31m:\u001b[0m non-default argument follows default argument\n"
          ]
        }
      ]
    },
    {
      "cell_type": "code",
      "metadata": {
        "id": "v7E7sytuBQlw",
        "colab": {
          "base_uri": "https://localhost:8080/",
          "height": 241
        },
        "outputId": "37ca6673-adcc-416e-f566-5661d2ad05dd"
      },
      "source": [
        "emp2 = Employee(name = 'Bilbo Baggins', age = 227, email = \"bilbo.baggins@shireimportexport.com\",phone = 1111111, role = \"ring stealer\")\n",
        "\n",
        "emp3 = Employee(name = 'Frodo Baggins', age = 120, id = 1, email = \"frodo.baggins@shireimportexport.com\",phone = 2222222, role = \"ring bearer\")"
      ],
      "execution_count": null,
      "outputs": [
        {
          "output_type": "error",
          "ename": "TypeError",
          "evalue": "ignored",
          "traceback": [
            "\u001b[0;31m---------------------------------------------------------------------------\u001b[0m",
            "\u001b[0;31mTypeError\u001b[0m                                 Traceback (most recent call last)",
            "\u001b[0;32m<ipython-input-18-e993c5ad6e53>\u001b[0m in \u001b[0;36m<cell line: 1>\u001b[0;34m()\u001b[0m\n\u001b[0;32m----> 1\u001b[0;31m \u001b[0memp2\u001b[0m \u001b[0;34m=\u001b[0m \u001b[0mEmployee\u001b[0m\u001b[0;34m(\u001b[0m\u001b[0mname\u001b[0m \u001b[0;34m=\u001b[0m \u001b[0;34m'Bilbo Baggins'\u001b[0m\u001b[0;34m,\u001b[0m \u001b[0mage\u001b[0m \u001b[0;34m=\u001b[0m \u001b[0;36m227\u001b[0m\u001b[0;34m,\u001b[0m \u001b[0memail\u001b[0m \u001b[0;34m=\u001b[0m \u001b[0;34m\"bilbo.baggins@shireimportexport.com\"\u001b[0m\u001b[0;34m,\u001b[0m\u001b[0mphone\u001b[0m \u001b[0;34m=\u001b[0m \u001b[0;36m1111111\u001b[0m\u001b[0;34m,\u001b[0m \u001b[0mrole\u001b[0m \u001b[0;34m=\u001b[0m \u001b[0;34m\"ring stealer\"\u001b[0m\u001b[0;34m)\u001b[0m\u001b[0;34m\u001b[0m\u001b[0;34m\u001b[0m\u001b[0m\n\u001b[0m\u001b[1;32m      2\u001b[0m \u001b[0;34m\u001b[0m\u001b[0m\n\u001b[1;32m      3\u001b[0m \u001b[0memp3\u001b[0m \u001b[0;34m=\u001b[0m \u001b[0mEmployee\u001b[0m\u001b[0;34m(\u001b[0m\u001b[0mname\u001b[0m \u001b[0;34m=\u001b[0m \u001b[0;34m'Frodo Baggins'\u001b[0m\u001b[0;34m,\u001b[0m \u001b[0mage\u001b[0m \u001b[0;34m=\u001b[0m \u001b[0;36m120\u001b[0m\u001b[0;34m,\u001b[0m \u001b[0mid\u001b[0m \u001b[0;34m=\u001b[0m \u001b[0;36m1\u001b[0m\u001b[0;34m,\u001b[0m \u001b[0memail\u001b[0m \u001b[0;34m=\u001b[0m \u001b[0;34m\"frodo.baggins@shireimportexport.com\"\u001b[0m\u001b[0;34m,\u001b[0m\u001b[0mphone\u001b[0m \u001b[0;34m=\u001b[0m \u001b[0;36m2222222\u001b[0m\u001b[0;34m,\u001b[0m \u001b[0mrole\u001b[0m \u001b[0;34m=\u001b[0m \u001b[0;34m\"ring bearer\"\u001b[0m\u001b[0;34m)\u001b[0m\u001b[0;34m\u001b[0m\u001b[0;34m\u001b[0m\u001b[0m\n",
            "\u001b[0;31mTypeError\u001b[0m: __init__() missing 1 required positional argument: 'id'"
          ]
        }
      ]
    },
    {
      "cell_type": "code",
      "source": [],
      "metadata": {
        "id": "mBNKWRakf_r0"
      },
      "execution_count": null,
      "outputs": []
    },
    {
      "cell_type": "code",
      "source": [],
      "metadata": {
        "id": "pKDHG0qef_ls"
      },
      "execution_count": null,
      "outputs": []
    },
    {
      "cell_type": "code",
      "metadata": {
        "id": "vfLQwrPTBkeG",
        "colab": {
          "base_uri": "https://localhost:8080/"
        },
        "outputId": "a63bb000-52a7-418b-cda5-8e59ed1996ee"
      },
      "source": [
        "emp2.cool_method()"
      ],
      "execution_count": null,
      "outputs": [
        {
          "output_type": "stream",
          "text": [
            "I am a cool method Bilbo Baggins\n"
          ],
          "name": "stdout"
        }
      ]
    },
    {
      "cell_type": "code",
      "metadata": {
        "id": "UQV9Jrplk67i"
      },
      "source": [
        "#in OOP most functionality is encapsulated inside objects in a logical way.\n",
        "\n",
        "#If you have an object \"cow\" that object should have a method \"produce_milk\" that returns a \"milk\" object\n",
        "#Your \"farmer\" object should not be able to directly call \"produce milk\".\n",
        "#It should call a \"cow\" object (maybe via a \"milk_cow\") method and the cow then produces \"milk\"\n",
        "\n",
        "#This way you encapsulate function and avoid errors by having unexpected calls to functions"
      ],
      "execution_count": null,
      "outputs": []
    },
    {
      "cell_type": "code",
      "source": [
        "class Person:\n",
        "    def __init__(self, name, age):\n",
        "        self.name = name\n",
        "        self.age = age\n",
        "\n",
        "    def introduce(self):\n",
        "        print(\"Hi, my name is\", self.name, \"and I am\", self.age, \"years old.\")\n",
        "\n",
        "person1 = Person(\"Alice\", 25)\n",
        "person1.introduce()"
      ],
      "metadata": {
        "id": "7zMGgj0dsHe2",
        "colab": {
          "base_uri": "https://localhost:8080/"
        },
        "outputId": "78dfbad7-4945-456a-eafd-e4d7030a0d07"
      },
      "execution_count": null,
      "outputs": [
        {
          "output_type": "stream",
          "name": "stdout",
          "text": [
            "Hi, my name is Alice and I am 25 years old.\n"
          ]
        }
      ]
    },
    {
      "cell_type": "code",
      "source": [
        "person1.name"
      ],
      "metadata": {
        "colab": {
          "base_uri": "https://localhost:8080/",
          "height": 36
        },
        "id": "tW4dqOs-mfj4",
        "outputId": "85391817-1212-4421-82d9-8e6512c31774"
      },
      "execution_count": null,
      "outputs": [
        {
          "output_type": "execute_result",
          "data": {
            "text/plain": [
              "'Alice'"
            ],
            "application/vnd.google.colaboratory.intrinsic+json": {
              "type": "string"
            }
          },
          "metadata": {},
          "execution_count": 10
        }
      ]
    },
    {
      "cell_type": "code",
      "source": [
        "import numpy as np\n",
        "np.array([[0., 0.], [0., 0.], [0., 0.], [0.,0.]]).shape"
      ],
      "metadata": {
        "colab": {
          "base_uri": "https://localhost:8080/"
        },
        "id": "dhSSg7cumhhz",
        "outputId": "30fffcea-8229-43de-fb7f-89366c0105c5"
      },
      "execution_count": null,
      "outputs": [
        {
          "output_type": "execute_result",
          "data": {
            "text/plain": [
              "(4, 2)"
            ]
          },
          "metadata": {},
          "execution_count": 14
        }
      ]
    },
    {
      "cell_type": "code",
      "source": [],
      "metadata": {
        "id": "tHe4ffIjqut6"
      },
      "execution_count": null,
      "outputs": []
    }
  ]
}
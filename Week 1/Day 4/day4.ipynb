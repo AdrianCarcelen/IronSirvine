{
 "cells": [
  {
   "cell_type": "code",
   "execution_count": 71,
   "metadata": {},
   "outputs": [
    {
     "name": "stdout",
     "output_type": "stream",
     "text": [
      "2 3 4\n",
      "My name is adrian\n"
     ]
    }
   ],
   "source": [
    "def myprint(name):\n",
    "    return f'My name is {name}'\n",
    "\n",
    "a = myprint('adrian')\n",
    "print(2, 3, 4)\n",
    "print(a)"
   ]
  },
  {
   "cell_type": "code",
   "execution_count": 73,
   "metadata": {},
   "outputs": [],
   "source": [
    "import math\n",
    "\n",
    "def calculate_distance(x1:float,x2:float,y1:float,y2:float) -> float:\n",
    "    \"\"\"_summary_\n",
    "\n",
    "    Args:\n",
    "        x1, x2 (float): Coordinates of the first point.\n",
    "        y1, y2 (float): Coordinates of the second point.\n",
    "        \n",
    "    \n",
    "\n",
    "    Returns:\n",
    "        float: _description_\n",
    "    \"\"\"    ''''''\n",
    "    a = x2 - x1\n",
    "    b = y2 - y1\n",
    "    d2 = a**2 + b**2\n",
    "    d = math.sqrt(d2)\n",
    "    return d"
   ]
  },
  {
   "cell_type": "code",
   "execution_count": 74,
   "metadata": {},
   "outputs": [
    {
     "name": "stdout",
     "output_type": "stream",
     "text": [
      "1 its a positive number\n"
     ]
    }
   ],
   "source": [
    "def positive(x):\n",
    "    if x > 0:\n",
    "        print(f'{x} its a positive number')\n",
    "        return\n",
    "    else:\n",
    "        raise ValueError('The Value need to be positive integer')\n",
    "    \n",
    "positive(1)"
   ]
  },
  {
   "cell_type": "code",
   "execution_count": 75,
   "metadata": {},
   "outputs": [
    {
     "data": {
      "text/plain": [
       "72.0"
      ]
     },
     "execution_count": 75,
     "metadata": {},
     "output_type": "execute_result"
    }
   ],
   "source": [
    "def nb_input():\n",
    "    total_value = 0\n",
    "    while_continue = True\n",
    "    while while_continue:\n",
    "        lst = input('Enter a number or Done')\n",
    "        if lst.lower() == 'done':\n",
    "            while_continue = False\n",
    "        else:\n",
    "            try:\n",
    "                total_value += float(lst)\n",
    "            except:\n",
    "                pass\n",
    "    return total_value\n",
    "\n",
    "\n",
    "nb_input()\n",
    "\n",
    "\n"
   ]
  },
  {
   "cell_type": "code",
   "execution_count": 77,
   "metadata": {},
   "outputs": [
    {
     "name": "stdout",
     "output_type": "stream",
     "text": [
      "3.0\n"
     ]
    }
   ],
   "source": [
    "def calculate_average(numbers) -> float:\n",
    "    \"\"\"Calculate the Average \n",
    "\n",
    "    Args:\n",
    "        numbers (list): A list of numbers\n",
    "\n",
    "    Returns:\n",
    "        float: Get the average of the list of numbers you input before\n",
    "    \"\"\"    ''''''\n",
    "\n",
    "    if type(numbers) == str:\n",
    "        numbers = numbers.split(',')\n",
    "    numbers = [float(nb) for nb in numbers]\n",
    "    if len(numbers) > 0:\n",
    "        total = sum(numbers)\n",
    "        average = total / len(numbers)\n",
    "        return round(average, 2)\n",
    "    else:\n",
    "        print('You cant get the average of 0 numbers!' )\n",
    "\n",
    "lst = '1, 2,     3,     4,    5'\n",
    "\n",
    "print(calculate_average(lst))"
   ]
  }
 ],
 "metadata": {
  "kernelspec": {
   "display_name": "base",
   "language": "python",
   "name": "python3"
  },
  "language_info": {
   "codemirror_mode": {
    "name": "ipython",
    "version": 3
   },
   "file_extension": ".py",
   "mimetype": "text/x-python",
   "name": "python",
   "nbconvert_exporter": "python",
   "pygments_lexer": "ipython3",
   "version": "3.8.8"
  },
  "orig_nbformat": 4
 },
 "nbformat": 4,
 "nbformat_minor": 2
}

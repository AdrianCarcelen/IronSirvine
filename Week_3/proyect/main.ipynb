{
 "cells": [
  {
   "cell_type": "code",
   "execution_count": 3,
   "metadata": {},
   "outputs": [],
   "source": [
    "# First of all we need to import all the librarys we need to use in the project\n",
    "\n",
    "import pandas as pd\n",
    "from bs4 import BeautifulSoup \n",
    "import requests\n",
    "import matplotlib.pyplot as plt\n",
    "\n",
    "# In this case i cant work with the page so the solution its download the page.html and work with this raw data\n",
    "f = open('Finetwork KOI - Equipo - Superliga.html', 'r', encoding=\"UTF8\") \n",
    "html = f.read() \n",
    "f.close()"
   ]
  },
  {
   "cell_type": "code",
   "execution_count": 4,
   "metadata": {},
   "outputs": [],
   "source": [
    "# Take the raw data and give format that human can understand well\n",
    "soup = BeautifulSoup(html,'html') "
   ]
  },
  {
   "cell_type": "code",
   "execution_count": 5,
   "metadata": {},
   "outputs": [
    {
     "data": {
      "text/plain": [
       "[<div class=\"players-container-inner\"> <a class=\"player-card\" href=\"https://superliga.lvp.global/jugador/sinmivak\"> <!-- PLAYER --><div class=\"squad-player-container\"><div class=\"upper-player-card\"><div class=\"photo\"> <img alt=\"\" class=\"player-image\" src=\"Finetwork%20KOI%20-%20Equipo%20-%20Superliga_files/6467481d75e8c816090991.x2.png\"/></div><div class=\"upper-player-info-container\"><div class=\"flag-image-container\"> <img alt=\"Player flag nationality\" class=\"flag-image\" src=\"Finetwork%20KOI%20-%20Equipo%20-%20Superliga_files/PL.png\"/></div><h3><span class=\"player-nickname\">Sinmivak</span></h3><h4><span class=\"player-name\">Jakub Rucki</span></h4><h4><span class=\"player-position\">TOP</span></h4></div></div><div class=\"bottom-player-card\"><div class=\"stats-container\"> <img alt=\"Best player champion image.\" src=\"Finetwork%20KOI%20-%20Equipo%20-%20Superliga_files/Sion.png\" title=\"Sion\"/> <img alt=\"Best player champion image.\" src=\"Finetwork%20KOI%20-%20Equipo%20-%20Superliga_files/Renekton.png\" title=\"Renekton\"/> <img alt=\"Best player champion image.\" src=\"Finetwork%20KOI%20-%20Equipo%20-%20Superliga_files/KSante.png\" title=\"K'Sante\"/></div><div class=\"kda-container\"> <span class=\"temporada\">TEMPORADA</span> <span class=\"stats-player\">45/35/111 - 4,5 KDA</span></div></div></div> </a> <a class=\"player-card\" href=\"https://superliga.lvp.global/jugador/koldo\"> <!-- PLAYER --><div class=\"squad-player-container\"><div class=\"upper-player-card\"><div class=\"photo\"> <img alt=\"\" class=\"player-image\" src=\"Finetwork%20KOI%20-%20Equipo%20-%20Superliga_files/646748324b688685918612.x2.png\"/></div><div class=\"upper-player-info-container\"><div class=\"flag-image-container\"> <img alt=\"Player flag nationality\" class=\"flag-image\" src=\"Finetwork%20KOI%20-%20Equipo%20-%20Superliga_files/ES.png\"/></div><h3><span class=\"player-nickname\">Koldo</span></h3><h4><span class=\"player-name\">Luis Pérez</span></h4><h4><span class=\"player-position\">JUNGLER</span></h4></div></div><div class=\"bottom-player-card\"><div class=\"stats-container\"> <img alt=\"Best player champion image.\" src=\"Finetwork%20KOI%20-%20Equipo%20-%20Superliga_files/Sejuani.png\" title=\"Sejuani\"/> <img alt=\"Best player champion image.\" src=\"Finetwork%20KOI%20-%20Equipo%20-%20Superliga_files/Maokai.png\" title=\"Maokai\"/> <img alt=\"Best player champion image.\" src=\"Finetwork%20KOI%20-%20Equipo%20-%20Superliga_files/LeeSin.png\" title=\"Lee Sin\"/></div><div class=\"kda-container\"> <span class=\"temporada\">TEMPORADA</span> <span class=\"stats-player\">39/46/185 - 4,9 KDA</span></div></div></div> </a> <a class=\"player-card\" href=\"https://superliga.lvp.global/jugador/baca\"> <!-- PLAYER --><div class=\"squad-player-container\"><div class=\"upper-player-card\"><div class=\"photo\"> <img alt=\"\" class=\"player-image\" src=\"Finetwork%20KOI%20-%20Equipo%20-%20Superliga_files/6467484808944044722721.x2.png\"/></div><div class=\"upper-player-info-container\"><div class=\"flag-image-container\"> <img alt=\"Player flag nationality\" class=\"flag-image\" src=\"Finetwork%20KOI%20-%20Equipo%20-%20Superliga_files/PT.png\"/></div><h3><span class=\"player-nickname\">Baca</span></h3><h4><span class=\"player-name\">João Novais</span></h4><h4><span class=\"player-position\">MID</span></h4></div></div><div class=\"bottom-player-card\"><div class=\"stats-container\"> <img alt=\"Best player champion image.\" src=\"Finetwork%20KOI%20-%20Equipo%20-%20Superliga_files/Ahri.png\" title=\"Ahri\"/> <img alt=\"Best player champion image.\" src=\"Finetwork%20KOI%20-%20Equipo%20-%20Superliga_files/Syndra.png\" title=\"Syndra\"/> <img alt=\"Best player champion image.\" src=\"Finetwork%20KOI%20-%20Equipo%20-%20Superliga_files/Neeko.png\" title=\"Neeko\"/></div><div class=\"kda-container\"> <span class=\"temporada\">TEMPORADA</span> <span class=\"stats-player\">87/50/131 - 4,4 KDA</span></div></div></div> </a> <a class=\"player-card\" href=\"https://superliga.lvp.global/jugador/jopa\"> <!-- PLAYER --><div class=\"squad-player-container\"><div class=\"upper-player-card\"><div class=\"photo\"> <img alt=\"\" class=\"player-image\" src=\"Finetwork%20KOI%20-%20Equipo%20-%20Superliga_files/6467485eb2e72128223883.x2.png\"/></div><div class=\"upper-player-info-container\"><div class=\"flag-image-container\"> <img alt=\"Player flag nationality\" class=\"flag-image\" src=\"Finetwork%20KOI%20-%20Equipo%20-%20Superliga_files/HR.png\"/></div><h3><span class=\"player-nickname\">Jopa</span></h3><h4><span class=\"player-name\">Josip Cancar</span></h4><h4><span class=\"player-position\">ADC</span></h4></div></div><div class=\"bottom-player-card\"><div class=\"stats-container\"> <img alt=\"Best player champion image.\" src=\"Finetwork%20KOI%20-%20Equipo%20-%20Superliga_files/Xayah.png\" title=\"Xayah\"/> <img alt=\"Best player champion image.\" src=\"Finetwork%20KOI%20-%20Equipo%20-%20Superliga_files/Jinx.png\" title=\"Jinx\"/> <img alt=\"Best player champion image.\" src=\"Finetwork%20KOI%20-%20Equipo%20-%20Superliga_files/Zeri.png\" title=\"Zeri\"/></div><div class=\"kda-container\"> <span class=\"temporada\">TEMPORADA</span> <span class=\"stats-player\">111/58/113 - 3,9 KDA</span></div></div></div> </a> <a class=\"player-card\" href=\"https://superliga.lvp.global/jugador/stend\"> <!-- PLAYER --><div class=\"squad-player-container\"><div class=\"upper-player-card\"><div class=\"photo\"> <img alt=\"\" class=\"player-image\" src=\"Finetwork%20KOI%20-%20Equipo%20-%20Superliga_files/6467487450fa9934465114.x2.png\"/></div><div class=\"upper-player-info-container\"><div class=\"flag-image-container\"> <img alt=\"Player flag nationality\" class=\"flag-image\" src=\"Finetwork%20KOI%20-%20Equipo%20-%20Superliga_files/FR.png\"/></div><h3><span class=\"player-nickname\">Stend</span></h3><h4><span class=\"player-name\">Paul Lardin</span></h4><h4><span class=\"player-position\">SUPPORT</span></h4></div></div><div class=\"bottom-player-card\"><div class=\"stats-container\"> <img alt=\"Best player champion image.\" src=\"Finetwork%20KOI%20-%20Equipo%20-%20Superliga_files/Alistar.png\" title=\"Alistar\"/> <img alt=\"Best player champion image.\" src=\"Finetwork%20KOI%20-%20Equipo%20-%20Superliga_files/Yuumi.png\" title=\"Yuumi\"/> <img alt=\"Best player champion image.\" src=\"Finetwork%20KOI%20-%20Equipo%20-%20Superliga_files/Rakan.png\" title=\"Rakan\"/></div><div class=\"kda-container\"> <span class=\"temporada\">TEMPORADA</span> <span class=\"stats-player\">22/53/218 - 4,5 KDA</span></div></div></div> </a> <a class=\"player-card\" href=\"https://superliga.lvp.global/jugador/aziado\"> <!-- PLAYER --><div class=\"squad-player-container\"><div class=\"upper-player-card\"><div class=\"photo\"> <img alt=\"\" class=\"player-image\" src=\"Finetwork%20KOI%20-%20Equipo%20-%20Superliga_files/6467489e5fc67958826700.x2.png\"/></div><div class=\"upper-player-info-container\"><div class=\"flag-image-container\"> <img alt=\"Player flag nationality\" class=\"flag-image\" src=\"Finetwork%20KOI%20-%20Equipo%20-%20Superliga_files/PT.png\"/></div><h3><span class=\"player-nickname\">Aziado</span></h3><h4><span class=\"player-name\">Tiago Correia</span></h4><h4><span class=\"player-position\">TOP</span></h4></div></div><div class=\"bottom-player-card\"><div class=\"stats-container\"></div><div class=\"kda-container\"> <span class=\"temporada\">TEMPORADA</span> <span class=\"stats-player\">0/0/0 - 0 KDA</span></div></div></div> </a> <a class=\"player-card\" href=\"https://superliga.lvp.global/jugador/lucker\"> <!-- PLAYER --><div class=\"squad-player-container\"><div class=\"upper-player-card\"><div class=\"photo\"> <img alt=\"\" class=\"player-image\" src=\"Finetwork%20KOI%20-%20Equipo%20-%20Superliga_files/63c51f03996cf027272600.x2.png\"/></div><div class=\"upper-player-info-container\"><div class=\"flag-image-container\"> <img alt=\"Player flag nationality\" class=\"flag-image\" src=\"Finetwork%20KOI%20-%20Equipo%20-%20Superliga_files/PL.png\"/></div><h3><span class=\"player-nickname\">Lucker</span></h3><h4><span class=\"player-name\">Damian Konefał</span></h4><h4><span class=\"player-position\">ADC</span></h4></div></div><div class=\"bottom-player-card\"><div class=\"stats-container\"></div><div class=\"kda-container\"> <span class=\"temporada\">TEMPORADA</span> <span class=\"stats-player\">0/0/0 - 0 KDA</span></div></div></div> </a> <a class=\"player-card\" href=\"https://superliga.lvp.global/jugador/seaz\"> <!-- PLAYER --><div class=\"squad-player-container\"><div class=\"upper-player-card\"><div class=\"photo\"> <img alt=\"\" class=\"player-image\" src=\"Finetwork%20KOI%20-%20Equipo%20-%20Superliga_files/63c51f18ca9dd339801399.x2.png\"/></div><div class=\"upper-player-info-container\"><div class=\"flag-image-container\"> <img alt=\"Player flag nationality\" class=\"flag-image\" src=\"Finetwork%20KOI%20-%20Equipo%20-%20Superliga_files/AT.png\"/></div><h3><span class=\"player-nickname\">Seaz</span></h3><h4><span class=\"player-name\">Daniel Binderhofer</span></h4><h4><span class=\"player-position\">SUPPORT</span></h4></div></div><div class=\"bottom-player-card\"><div class=\"stats-container\"></div><div class=\"kda-container\"> <span class=\"temporada\">TEMPORADA</span> <span class=\"stats-player\">0/0/0 - 0 KDA</span></div></div></div> </a> <a class=\"player-card\" href=\"https://superliga.lvp.global/jugador/blueknight\"> <!-- PLAYER --><div class=\"squad-player-container\"><div class=\"upper-player-card\"><div class=\"upper-player-info-container\"><div class=\"flag-image-container\"> <img alt=\"Player flag nationality\" class=\"flag-image\" src=\"Finetwork%20KOI%20-%20Equipo%20-%20Superliga_files/DE.png\"/></div><h3><span class=\"player-nickname\">Blueknight</span></h3><h4><span class=\"player-name\">Nico Jannet</span></h4><h4><span class=\"player-position\">SUPPORT</span></h4></div></div><div class=\"bottom-player-card\"><div class=\"stats-container\"></div><div class=\"kda-container\"> <span class=\"temporada\">TEMPORADA</span> <span class=\"stats-player\">0/0/0 - 0 KDA</span></div></div></div> </a> <a class=\"player-card\" href=\"https://superliga.lvp.global/jugador/crusher\"> <!-- PLAYER --><div class=\"squad-player-container\"><div class=\"upper-player-card coach\"><div class=\"photo\"> <img alt=\"\" class=\"player-image\" src=\"Finetwork%20KOI%20-%20Equipo%20-%20Superliga_files/646747fd0608e323770709.x2.png\"/></div><div class=\"upper-player-info-container\"><div class=\"flag-image-container\"> <img alt=\"Player flag nationality\" class=\"flag-image\" src=\"Finetwork%20KOI%20-%20Equipo%20-%20Superliga_files/PT.png\"/></div><h3><span class=\"player-nickname\">Crusher</span></h3><h4><span class=\"player-name\">Gonçalo Brandão</span></h4><h4><span class=\"player-position\">COACH</span></h4></div></div></div> </a><div class=\"placeholder team-placeholder\"> PLACEHOLDER</div><div class=\"placeholder team-placeholder\"> PLACEHOLDER</div></div>]"
      ]
     },
     "metadata": {},
     "output_type": "display_data"
    }
   ],
   "source": [
    "# Start finding in the data the player containers with the info\n",
    "display(soup.find_all('div',{'class' : 'players-container-inner'}))\n",
    "\n",
    "# Now with the player containers take each player and split it\n",
    "all_players = soup.find_all('a',{'class' : 'player-card'}) "
   ]
  },
  {
   "cell_type": "code",
   "execution_count": 6,
   "metadata": {},
   "outputs": [],
   "source": [
    " # We need to do a list for each data type to then create the dataframe\n",
    "stats_all = []\n",
    "player_name_all = []\n",
    "player_position = []\n",
    "\n",
    "# I decided to do only a one for lop insted a list comprension because i can use for each one of the list i need\n",
    "for player in all_players[:5]:\n",
    "    stats_all.append(player.find('span', {'class':'stats-player'}))\n",
    "    player_name_all.append(player.find('span', {'class':'player-nickname'}).text) \n",
    "    player_position.append(player.find('span', {'class':'player-position'}).text)\n",
    "\n"
   ]
  },
  {
   "cell_type": "code",
   "execution_count": 7,
   "metadata": {},
   "outputs": [],
   "source": [
    "# We have a problem because we are geting 2 datas in same list so need slpit them\n",
    "stats_all[0].text.replace('-','').replace('KDA','').strip().split() \n",
    "\n",
    "# There is the lop to clean the data\n",
    "i = 0\n",
    "for player in stats_all: \n",
    "    stats_all[i] = player.text.replace('-','').replace('KDA','').strip().split()\n",
    "    i += 1"
   ]
  },
  {
   "cell_type": "code",
   "execution_count": 8,
   "metadata": {},
   "outputs": [],
   "source": [
    "# And here is the for lop to split all the data in diferent list\n",
    "stats_stats = []\n",
    "stats_kda = [] \n",
    "\n",
    "for element in stats_all:\n",
    "    stats_stats.extend(element[:1])\n",
    "    stats_kda.extend(element[1:])\n",
    "    \n"
   ]
  },
  {
   "cell_type": "code",
   "execution_count": 9,
   "metadata": {},
   "outputs": [],
   "source": [
    "# And in the end we create the final list that we gona use to create the dataframe\n",
    "all_players_info = list(zip(player_name_all,player_position,stats_stats,stats_kda))"
   ]
  },
  {
   "cell_type": "code",
   "execution_count": 10,
   "metadata": {},
   "outputs": [
    {
     "data": {
      "text/html": [
       "<div>\n",
       "<style scoped>\n",
       "    .dataframe tbody tr th:only-of-type {\n",
       "        vertical-align: middle;\n",
       "    }\n",
       "\n",
       "    .dataframe tbody tr th {\n",
       "        vertical-align: top;\n",
       "    }\n",
       "\n",
       "    .dataframe thead th {\n",
       "        text-align: right;\n",
       "    }\n",
       "</style>\n",
       "<table border=\"1\" class=\"dataframe\">\n",
       "  <thead>\n",
       "    <tr style=\"text-align: right;\">\n",
       "      <th></th>\n",
       "      <th>nickname</th>\n",
       "      <th>position</th>\n",
       "      <th>stats</th>\n",
       "      <th>k/d/a</th>\n",
       "    </tr>\n",
       "  </thead>\n",
       "  <tbody>\n",
       "    <tr>\n",
       "      <th>0</th>\n",
       "      <td>Sinmivak</td>\n",
       "      <td>TOP</td>\n",
       "      <td>45/35/111</td>\n",
       "      <td>4,5</td>\n",
       "    </tr>\n",
       "    <tr>\n",
       "      <th>1</th>\n",
       "      <td>Koldo</td>\n",
       "      <td>JUNGLER</td>\n",
       "      <td>39/46/185</td>\n",
       "      <td>4,9</td>\n",
       "    </tr>\n",
       "    <tr>\n",
       "      <th>2</th>\n",
       "      <td>Baca</td>\n",
       "      <td>MID</td>\n",
       "      <td>87/50/131</td>\n",
       "      <td>4,4</td>\n",
       "    </tr>\n",
       "    <tr>\n",
       "      <th>3</th>\n",
       "      <td>Jopa</td>\n",
       "      <td>ADC</td>\n",
       "      <td>111/58/113</td>\n",
       "      <td>3,9</td>\n",
       "    </tr>\n",
       "    <tr>\n",
       "      <th>4</th>\n",
       "      <td>Stend</td>\n",
       "      <td>SUPPORT</td>\n",
       "      <td>22/53/218</td>\n",
       "      <td>4,5</td>\n",
       "    </tr>\n",
       "  </tbody>\n",
       "</table>\n",
       "</div>"
      ],
      "text/plain": [
       "   nickname position       stats k/d/a\n",
       "0  Sinmivak      TOP   45/35/111   4,5\n",
       "1     Koldo  JUNGLER   39/46/185   4,9\n",
       "2      Baca      MID   87/50/131   4,4\n",
       "3      Jopa      ADC  111/58/113   3,9\n",
       "4     Stend  SUPPORT   22/53/218   4,5"
      ]
     },
     "execution_count": 10,
     "metadata": {},
     "output_type": "execute_result"
    }
   ],
   "source": [
    "# Puting the headers for the columns\n",
    "headers = ['nickname','position','stats','k/d/a'] \n",
    "\n",
    "# Creating the final dataframe\n",
    "df1 = pd.DataFrame(all_players_info, columns=headers)"
   ]
  },
  {
   "cell_type": "code",
   "execution_count": null,
   "metadata": {},
   "outputs": [],
   "source": [
    "# Obtain statistics of played champions\n",
    "played_champions = soup.find(\"div\", class_=\"maps-graph col-md-4\")\n",
    "played_champions_list = played_champions.find_all(\"div\", class_=\"map-graph-item\")\n",
    "\n",
    "# Obtain statistics of banned champions\n",
    "banned_champions = soup.find(\"div\", class_=\"weapons-graph stats-title col-md-4\")\n",
    "banned_champions_list = banned_champions.find_all(\"div\", class_=\"map-graph-item\")"
   ]
  },
  {
   "cell_type": "code",
   "execution_count": 106,
   "metadata": {},
   "outputs": [
    {
     "name": "stdout",
     "output_type": "stream",
     "text": [
      "Champs played:\n"
     ]
    },
    {
     "data": {
      "text/html": [
       "<div>\n",
       "<style scoped>\n",
       "    .dataframe tbody tr th:only-of-type {\n",
       "        vertical-align: middle;\n",
       "    }\n",
       "\n",
       "    .dataframe tbody tr th {\n",
       "        vertical-align: top;\n",
       "    }\n",
       "\n",
       "    .dataframe thead th {\n",
       "        text-align: right;\n",
       "    }\n",
       "</style>\n",
       "<table border=\"1\" class=\"dataframe\">\n",
       "  <thead>\n",
       "    <tr style=\"text-align: right;\">\n",
       "      <th></th>\n",
       "      <th>Champ</th>\n",
       "      <th>Played</th>\n",
       "      <th>Won</th>\n",
       "    </tr>\n",
       "  </thead>\n",
       "  <tbody>\n",
       "    <tr>\n",
       "      <th>0</th>\n",
       "      <td>Renekton</td>\n",
       "      <td>4</td>\n",
       "      <td>4</td>\n",
       "    </tr>\n",
       "    <tr>\n",
       "      <th>1</th>\n",
       "      <td>Sejuani</td>\n",
       "      <td>4</td>\n",
       "      <td>3</td>\n",
       "    </tr>\n",
       "    <tr>\n",
       "      <th>2</th>\n",
       "      <td>Alistar</td>\n",
       "      <td>4</td>\n",
       "      <td>3</td>\n",
       "    </tr>\n",
       "    <tr>\n",
       "      <th>3</th>\n",
       "      <td>Syndra</td>\n",
       "      <td>4</td>\n",
       "      <td>2</td>\n",
       "    </tr>\n",
       "    <tr>\n",
       "      <th>4</th>\n",
       "      <td>Neeko</td>\n",
       "      <td>4</td>\n",
       "      <td>1</td>\n",
       "    </tr>\n",
       "    <tr>\n",
       "      <th>5</th>\n",
       "      <td>Jinx</td>\n",
       "      <td>4</td>\n",
       "      <td>1</td>\n",
       "    </tr>\n",
       "  </tbody>\n",
       "</table>\n",
       "</div>"
      ],
      "text/plain": [
       "      Champ  Played  Won\n",
       "0  Renekton       4    4\n",
       "1   Sejuani       4    3\n",
       "2   Alistar       4    3\n",
       "3    Syndra       4    2\n",
       "4     Neeko       4    1\n",
       "5      Jinx       4    1"
      ]
     },
     "metadata": {},
     "output_type": "display_data"
    },
    {
     "name": "stdout",
     "output_type": "stream",
     "text": [
      "\n",
      "Champs banned:\n"
     ]
    },
    {
     "data": {
      "text/html": [
       "<div>\n",
       "<style scoped>\n",
       "    .dataframe tbody tr th:only-of-type {\n",
       "        vertical-align: middle;\n",
       "    }\n",
       "\n",
       "    .dataframe tbody tr th {\n",
       "        vertical-align: top;\n",
       "    }\n",
       "\n",
       "    .dataframe thead th {\n",
       "        text-align: right;\n",
       "    }\n",
       "</style>\n",
       "<table border=\"1\" class=\"dataframe\">\n",
       "  <thead>\n",
       "    <tr style=\"text-align: right;\">\n",
       "      <th></th>\n",
       "      <th>Champ</th>\n",
       "      <th>Played</th>\n",
       "      <th>Won</th>\n",
       "    </tr>\n",
       "  </thead>\n",
       "  <tbody>\n",
       "    <tr>\n",
       "      <th>0</th>\n",
       "      <td>Poppy</td>\n",
       "      <td>4</td>\n",
       "      <td>4</td>\n",
       "    </tr>\n",
       "    <tr>\n",
       "      <th>1</th>\n",
       "      <td>Braum</td>\n",
       "      <td>4</td>\n",
       "      <td>3</td>\n",
       "    </tr>\n",
       "    <tr>\n",
       "      <th>2</th>\n",
       "      <td>Neeko</td>\n",
       "      <td>4</td>\n",
       "      <td>3</td>\n",
       "    </tr>\n",
       "    <tr>\n",
       "      <th>3</th>\n",
       "      <td>Rell</td>\n",
       "      <td>4</td>\n",
       "      <td>3</td>\n",
       "    </tr>\n",
       "    <tr>\n",
       "      <th>4</th>\n",
       "      <td>Tristana</td>\n",
       "      <td>4</td>\n",
       "      <td>1</td>\n",
       "    </tr>\n",
       "    <tr>\n",
       "      <th>5</th>\n",
       "      <td>Lee Sin</td>\n",
       "      <td>4</td>\n",
       "      <td>1</td>\n",
       "    </tr>\n",
       "  </tbody>\n",
       "</table>\n",
       "</div>"
      ],
      "text/plain": [
       "      Champ  Played  Won\n",
       "0     Poppy       4    4\n",
       "1     Braum       4    3\n",
       "2     Neeko       4    3\n",
       "3      Rell       4    3\n",
       "4  Tristana       4    1\n",
       "5   Lee Sin       4    1"
      ]
     },
     "metadata": {},
     "output_type": "display_data"
    }
   ],
   "source": [
    "# Create lists for the data\n",
    "played_champions_data = []\n",
    "banned_champions_data = []\n",
    "\n",
    "# Extract data of played champions\n",
    "for item in played_champions_list:\n",
    "    champion_name = item.find(class_=\"map-graph-name\").text.strip()\n",
    "    games_played = int(item.find(class_=\"map-graph-win-rate\").text.strip().split('/')[1].strip())\n",
    "    games_won = int(item.find(class_=\"map-graph-win-rate\").text.strip().split('/')[0].strip())\n",
    "    played_champions_data.append((champion_name, games_played, games_won))\n",
    "\n",
    "# Extract data of banned champions\n",
    "for item in banned_champions_list:\n",
    "    champion_name = item.find(class_=\"map-graph-name\").text.strip()\n",
    "    games_played = int(item.find(class_=\"map-graph-win-rate\").text.strip().split('/')[1].strip())\n",
    "    games_won = int(item.find(class_=\"map-graph-win-rate\").text.strip().split('/')[0].strip())\n",
    "    banned_champions_data.append((champion_name, games_played, games_won))\n",
    "\n",
    "# Create DataFrames with the data\n",
    "headers = [\"Champ\", \"Played\", \"Won\"]\n",
    "df_played_champions = pd.DataFrame(played_champions_data, columns=headers)\n",
    "df_banned_champions = pd.DataFrame(banned_champions_data, columns=headers)\n",
    "\n",
    "# Print DataFrames\n",
    "print(\"Champs played:\")\n",
    "display(df_played_champions)\n",
    "print(\"\\nChamps banned:\")\n",
    "display(df_banned_champions)"
   ]
  },
  {
   "cell_type": "code",
   "execution_count": 108,
   "metadata": {},
   "outputs": [
    {
     "data": {
      "image/png": "[encoded data removed]",
      "text/plain": [
       "<Figure size 640x480 with 1 Axes>"
      ]
     },
     "metadata": {},
     "output_type": "display_data"
    },
    {
     "data": {
      "image/png": "[encoded data removed]",
      "text/plain": [
       "<Figure size 640x480 with 1 Axes>"
      ]
     },
     "metadata": {},
     "output_type": "display_data"
    }
   ],
   "source": [
    "# Histograms configuration\n",
    "bar_width = 0.4\n",
    "\n",
    "# Create histogram for played champions\n",
    "fig, ax = plt.subplots()\n",
    "ax.bar(df_played_champions.index, df_played_champions[\"Played\"], width=bar_width, label=\"Played\")\n",
    "ax.bar(df_played_champions.index, df_played_champions[\"Won\"], width=bar_width, alpha=0.7, label=\"Won\")\n",
    "ax.set_xticks(df_played_champions.index)\n",
    "ax.set_xticklabels(df_played_champions[\"Champ\"], rotation=90)\n",
    "ax.set_xlabel(\"Champions\")\n",
    "ax.set_ylabel(\"Number of Games\")\n",
    "ax.legend()\n",
    "plt.title(\"Histogram of Champions Played and Won\")\n",
    "\n",
    "# Adding y-axis grid\n",
    "ax.yaxis.grid(True)\n",
    "\n",
    "# Set integer values on the y-axis\n",
    "plt.locator_params(axis=\"y\", integer=True)\n",
    "\n",
    "# Function automatically adjusts the figure layout to avoid overlapping and ensure that elements are displayed properly\n",
    "plt.tight_layout()\n",
    "plt.show()\n",
    "\n",
    "# Create histogram for banned champions\n",
    "fig, ax = plt.subplots()\n",
    "ax.bar(df_banned_champions.index, df_banned_champions[\"Played\"], width=bar_width, label=\"Played\")\n",
    "ax.bar(df_banned_champions.index, df_banned_champions[\"Won\"], width=bar_width, alpha=0.7, label=\"Won\")\n",
    "ax.set_xticks(df_banned_champions.index)\n",
    "ax.set_xticklabels(df_banned_champions[\"Champ\"], rotation=90)\n",
    "ax.set_xlabel(\"Champions\")\n",
    "ax.set_ylabel(\"Number of Games\")\n",
    "ax.legend()\n",
    "plt.title(\"Histogram of Champions Banned and Won\")\n",
    "\n",
    "# Adding y-axis grid\n",
    "ax.yaxis.grid(True)\n",
    "\n",
    "# Set integer values on the y-axis\n",
    "plt.locator_params(axis=\"y\", integer=True)\n",
    "\n",
    "# Function automatically adjusts the figure layout to avoid overlapping and ensure that elements are displayed properly\n",
    "plt.tight_layout()\n",
    "plt.show()"
   ]
  }
 ],
 "metadata": {
  "kernelspec": {
   "display_name": "Python 3",
   "language": "python",
   "name": "python3"
  },
  "language_info": {
   "codemirror_mode": {
    "name": "ipython",
    "version": 3
   },
   "file_extension": ".py",
   "mimetype": "text/x-python",
   "name": "python",
   "nbconvert_exporter": "python",
   "pygments_lexer": "ipython3",
   "version": "3.10.9"
  },
  "orig_nbformat": 4
 },
 "nbformat": 4,
 "nbformat_minor": 2
}

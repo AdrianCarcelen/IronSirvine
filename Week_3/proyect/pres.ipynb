{
 "cells": [
  {
   "cell_type": "markdown",
   "metadata": {},
   "source": [
    "# Individual presentations"
   ]
  },
  {
   "cell_type": "markdown",
   "metadata": {},
   "source": [
    "General notes for next time:\n",
    "- need to respect bette the timing (5-10 min pres + 5 min question) next time, I will cut you after max time, no matter if you were close to finish or not\n",
    "- very good projects, you were very involved, and I liked it\n",
    "- please put all your support in the slides (use screenshots if needed)\n",
    "- don't switch apps (unless there is a live demo)\n",
    "- please give details on the code only for the \"trick\", I don't need to know what HTML tag you were looking for, only that \"it was hard\" or \"it was easy\"; usually, the people who go overtime are the ones who gave too much detail on their code"
   ]
  },
  {
   "cell_type": "markdown",
   "metadata": {},
   "source": [
    "## Sandra\n",
    "### Most popular movies in Spain\n",
    "* presentations: 7 min 30\n",
    "* questions: 3 min 30 \n",
    "\n",
    "- 50 movies\n",
    "- is this website reliable source of info?\n",
    "- is it anykind of official?\n",
    "- did you cross info with other websites\n",
    "- it's ok to \n",
    "- isn't every movie a little drammatic and therefore, you have all movies getting the drama tag? or is the type a one to one? (in which case, can we rely on only one website's opinion?)\n",
    "- on the years, there is a cut between 1970 and 1990, that is not very visible, would be better to like for the duration (with empty bins)\n",
    "- good that you had you hypothesis, and then that you infer the answer from your data analysis\n",
    "- good to show the trick (such as regex to remove ann non-digits), but don't show all your code\n"
   ]
  },
  {
   "cell_type": "markdown",
   "metadata": {},
   "source": [
    "## Adrian\n",
    "### Esports stats\n",
    "* presentations: 10 min 30\n",
    "* questions: 5 min 30 \n",
    "\n",
    "- the fact that you downloaded the page is not very clear\n",
    "- a little too deep in the code, please show only the \"tricks\"\n",
    "- data is quite specific, so hard to understand for ppl who don't know the game\n",
    "- good chart (visu that makes sense)"
   ]
  },
  {
   "cell_type": "markdown",
   "metadata": {},
   "source": [
    "## Fiona\n",
    "### Barbie vs Oppenheimer\n",
    "* presentations: 7 min\n",
    "* questions: 2 min 30\n",
    "\n",
    "- www.the-number.com => \"official\"??\n",
    "- I like the challenge section; maybe show the massive data instead of the code (show a big dataframe to show it's hard to choose the data)\n",
    "- basically, barbie works better than oppenheimer\n",
    "- (except in germany => why)\n",
    "- infer on Japan sales?\n"
   ]
  },
  {
   "cell_type": "markdown",
   "metadata": {},
   "source": [
    "## Sergi\n",
    "### COVID-19 in Spain\n",
    "* presentations: 7 min\n",
    "* questions: 7 min \n",
    "\n",
    "- wikipedia, official nbs\n",
    "- ratio is small => relative vs abs val?\n",
    "- some regions have more population than other\n"
   ]
  },
  {
   "cell_type": "markdown",
   "metadata": {},
   "source": [
    "## Vianney\n",
    "### Soccer / Futbol\n",
    "* presentations: 4 min 40\n",
    "* questions: 2 min 20 \n",
    "\n",
    "- stop excusing youself!!!!!\n",
    "- what is Marca again? is it an official website?\n",
    "- very fun to have the image in the plot => I wish you put image for all clubs (and not only the top 2)\n"
   ]
  },
  {
   "cell_type": "markdown",
   "metadata": {},
   "source": [
    "## Maria\n",
    "### Governments Laws\n",
    "* presentations: 5 min 20\n",
    "* questions: 2 min\n",
    "\n",
    "- good overview of the subject; context is clear\n",
    "- maybe use a dataframe from the beginning (and create new columns with the `.apply()` method)\n",
    "- screenshot your code in pres, to avoid switching\n",
    "- are laws of equal weight?\n",
    "- "
   ]
  },
  {
   "cell_type": "markdown",
   "metadata": {},
   "source": [
    "## Maxime\n",
    "### Lego Colors Evolution\n",
    "* presentations: 20 min\n",
    "* questions: 20 min\n",
    "\n",
    "- playful subject :D\n",
    "- good intro (esp. since many of us aren't lego fan)\n",
    "- good to present the limit of the API => usual scrapping\n",
    "- no need to detail on the html analysis of the page\n",
    "- `find_ele`: if shoud be in the else; otherwise, good idea\n",
    "- no list of all values, use a dictionary of lists !!!\n",
    "- too much detail on the code: explain what recursive means, and then just say \"it was a nightmare, but using combinasion of lambdas and find, I managed to get the info I wanted\" doing this turns 5 min to just 1 min\n",
    "- years of prod should be begin year & end year in two columns\n",
    "- some years are missing (e.g. 2005, 2006, 2007)\n",
    "- for the years of prod per color, put the color on the bar instead of the name that is unreadable; I think you were nearly there!\n",
    "- round plot with the hue values of the colors & their year of creation\n",
    "\n",
    "overall, toooooooooooo much details on the code\n"
   ]
  },
  {
   "cell_type": "markdown",
   "metadata": {},
   "source": [
    "## José\n",
    "### Wood use for Guitars\n",
    "* presentations: 12 min 10\n",
    "* questions: 7 min 30\n",
    "\n",
    "- Goal is clear\n",
    "- please put code in the slides, so that you don't need to switch app (you can use listing package for that in beamer)\n",
    "- select the piece of code that is of interest\n",
    "- have the website readyinstead of googling it; you could also just screenshot the button of interest, and incorporate directly in the slides\n",
    "- no dataframe??\n"
   ]
  }
 ],
 "metadata": {
  "language_info": {
   "name": "python"
  },
  "orig_nbformat": 4
 },
 "nbformat": 4,
 "nbformat_minor": 2
}
